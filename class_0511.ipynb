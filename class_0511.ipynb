{
 "cells": [
  {
   "cell_type": "code",
   "execution_count": 3,
   "metadata": {},
   "outputs": [],
   "source": [
    "import numpy as np\n",
    "import pandas as pd\n",
    "import matplotlib.pyplot as plt\n",
    "import seaborn as sns"
   ]
  },
  {
   "cell_type": "code",
   "execution_count": 4,
   "metadata": {},
   "outputs": [
    {
     "name": "stdout",
     "output_type": "stream",
     "text": [
      "   survived  pclass     sex   age  sibsp  parch     fare embarked  class   \n",
      "0         0       3    male  22.0      1      0   7.2500        S  Third  \\\n",
      "1         1       1  female  38.0      1      0  71.2833        C  First   \n",
      "2         1       3  female  26.0      0      0   7.9250        S  Third   \n",
      "3         1       1  female  35.0      1      0  53.1000        S  First   \n",
      "4         0       3    male  35.0      0      0   8.0500        S  Third   \n",
      "\n",
      "     who  adult_male deck  embark_town alive  alone  \n",
      "0    man        True  NaN  Southampton    no  False  \n",
      "1  woman       False    C    Cherbourg   yes  False  \n",
      "2  woman       False  NaN  Southampton   yes   True  \n",
      "3  woman       False    C  Southampton   yes  False  \n",
      "4    man        True  NaN  Southampton    no   True  \n",
      "(891, 15)\n"
     ]
    }
   ],
   "source": [
    "titanic = sns.load_dataset('titanic')\n",
    "print(titanic.head())\n",
    "print(titanic.shape)\n"
   ]
  },
  {
   "cell_type": "code",
   "execution_count": 5,
   "metadata": {},
   "outputs": [
    {
     "data": {
      "text/html": [
       "<div>\n",
       "<style scoped>\n",
       "    .dataframe tbody tr th:only-of-type {\n",
       "        vertical-align: middle;\n",
       "    }\n",
       "\n",
       "    .dataframe tbody tr th {\n",
       "        vertical-align: top;\n",
       "    }\n",
       "\n",
       "    .dataframe thead th {\n",
       "        text-align: right;\n",
       "    }\n",
       "</style>\n",
       "<table border=\"1\" class=\"dataframe\">\n",
       "  <thead>\n",
       "    <tr style=\"text-align: right;\">\n",
       "      <th></th>\n",
       "      <th>age</th>\n",
       "      <th>fare</th>\n",
       "    </tr>\n",
       "  </thead>\n",
       "  <tbody>\n",
       "    <tr>\n",
       "      <th>0</th>\n",
       "      <td>22.0</td>\n",
       "      <td>7.2500</td>\n",
       "    </tr>\n",
       "    <tr>\n",
       "      <th>1</th>\n",
       "      <td>38.0</td>\n",
       "      <td>71.2833</td>\n",
       "    </tr>\n",
       "    <tr>\n",
       "      <th>2</th>\n",
       "      <td>26.0</td>\n",
       "      <td>7.9250</td>\n",
       "    </tr>\n",
       "    <tr>\n",
       "      <th>3</th>\n",
       "      <td>35.0</td>\n",
       "      <td>53.1000</td>\n",
       "    </tr>\n",
       "    <tr>\n",
       "      <th>4</th>\n",
       "      <td>35.0</td>\n",
       "      <td>8.0500</td>\n",
       "    </tr>\n",
       "  </tbody>\n",
       "</table>\n",
       "</div>"
      ],
      "text/plain": [
       "    age     fare\n",
       "0  22.0   7.2500\n",
       "1  38.0  71.2833\n",
       "2  26.0   7.9250\n",
       "3  35.0  53.1000\n",
       "4  35.0   8.0500"
      ]
     },
     "execution_count": 5,
     "metadata": {},
     "output_type": "execute_result"
    }
   ],
   "source": [
    "df = titanic.loc[:, ['age', 'fare']]\n",
    "df.head()"
   ]
  },
  {
   "cell_type": "code",
   "execution_count": 14,
   "metadata": {},
   "outputs": [
    {
     "name": "stdout",
     "output_type": "stream",
     "text": [
      "       age   fare\n",
      "0    False  False\n",
      "1    False  False\n",
      "2    False  False\n",
      "3    False  False\n",
      "4    False  False\n",
      "..     ...    ...\n",
      "886  False  False\n",
      "887  False  False\n",
      "888   True  False\n",
      "889  False  False\n",
      "890  False  False\n",
      "\n",
      "[891 rows x 2 columns]\n",
      "       age   fare\n",
      "0    False  False\n",
      "1    False  False\n",
      "2    False  False\n",
      "3    False  False\n",
      "4    False  False\n",
      "..     ...    ...\n",
      "886  False  False\n",
      "887  False  False\n",
      "888   True  False\n",
      "889  False  False\n",
      "890  False  False\n",
      "\n",
      "[891 rows x 2 columns]\n"
     ]
    },
    {
     "data": {
      "text/plain": [
       "0       29.2500\n",
       "1      109.2833\n",
       "2       33.9250\n",
       "3       88.1000\n",
       "4       43.0500\n",
       "         ...   \n",
       "886     40.0000\n",
       "887     49.0000\n",
       "888         NaN\n",
       "889     56.0000\n",
       "890     39.7500\n",
       "Length: 891, dtype: float64"
      ]
     },
     "execution_count": 14,
     "metadata": {},
     "output_type": "execute_result"
    }
   ],
   "source": [
    "df.apply(len)\n",
    "\n",
    "def missing_value(series):\n",
    "    y = series.isnull()\n",
    "    return y\n",
    "    \n",
    "print(df.apply(missing_value))\n",
    "print(df.apply(lambda x: x.isnull()))\n",
    "\n",
    "df.apply(lambda x: x['age'] + x['fare'], axis = 1) # default = 0\n"
   ]
  },
  {
   "cell_type": "code",
   "execution_count": 18,
   "metadata": {},
   "outputs": [
    {
     "data": {
      "text/html": [
       "<div>\n",
       "<style scoped>\n",
       "    .dataframe tbody tr th:only-of-type {\n",
       "        vertical-align: middle;\n",
       "    }\n",
       "\n",
       "    .dataframe tbody tr th {\n",
       "        vertical-align: top;\n",
       "    }\n",
       "\n",
       "    .dataframe thead th {\n",
       "        text-align: right;\n",
       "    }\n",
       "</style>\n",
       "<table border=\"1\" class=\"dataframe\">\n",
       "  <thead>\n",
       "    <tr style=\"text-align: right;\">\n",
       "      <th></th>\n",
       "      <th>age</th>\n",
       "      <th>fare</th>\n",
       "    </tr>\n",
       "  </thead>\n",
       "  <tbody>\n",
       "    <tr>\n",
       "      <th>271</th>\n",
       "      <td>25.0</td>\n",
       "      <td>0.0000</td>\n",
       "    </tr>\n",
       "    <tr>\n",
       "      <th>597</th>\n",
       "      <td>49.0</td>\n",
       "      <td>0.0000</td>\n",
       "    </tr>\n",
       "    <tr>\n",
       "      <th>302</th>\n",
       "      <td>19.0</td>\n",
       "      <td>0.0000</td>\n",
       "    </tr>\n",
       "    <tr>\n",
       "      <th>633</th>\n",
       "      <td>NaN</td>\n",
       "      <td>0.0000</td>\n",
       "    </tr>\n",
       "    <tr>\n",
       "      <th>277</th>\n",
       "      <td>NaN</td>\n",
       "      <td>0.0000</td>\n",
       "    </tr>\n",
       "    <tr>\n",
       "      <th>...</th>\n",
       "      <td>...</td>\n",
       "      <td>...</td>\n",
       "    </tr>\n",
       "    <tr>\n",
       "      <th>438</th>\n",
       "      <td>64.0</td>\n",
       "      <td>263.0000</td>\n",
       "    </tr>\n",
       "    <tr>\n",
       "      <th>341</th>\n",
       "      <td>24.0</td>\n",
       "      <td>263.0000</td>\n",
       "    </tr>\n",
       "    <tr>\n",
       "      <th>737</th>\n",
       "      <td>35.0</td>\n",
       "      <td>512.3292</td>\n",
       "    </tr>\n",
       "    <tr>\n",
       "      <th>258</th>\n",
       "      <td>35.0</td>\n",
       "      <td>512.3292</td>\n",
       "    </tr>\n",
       "    <tr>\n",
       "      <th>679</th>\n",
       "      <td>36.0</td>\n",
       "      <td>512.3292</td>\n",
       "    </tr>\n",
       "  </tbody>\n",
       "</table>\n",
       "<p>891 rows × 2 columns</p>\n",
       "</div>"
      ],
      "text/plain": [
       "      age      fare\n",
       "271  25.0    0.0000\n",
       "597  49.0    0.0000\n",
       "302  19.0    0.0000\n",
       "633   NaN    0.0000\n",
       "277   NaN    0.0000\n",
       "..    ...       ...\n",
       "438  64.0  263.0000\n",
       "341  24.0  263.0000\n",
       "737  35.0  512.3292\n",
       "258  35.0  512.3292\n",
       "679  36.0  512.3292\n",
       "\n",
       "[891 rows x 2 columns]"
      ]
     },
     "execution_count": 18,
     "metadata": {},
     "output_type": "execute_result"
    }
   ],
   "source": [
    "## \n",
    "df.head()\n",
    "\n",
    "df.sort_values(by = 'fare', ascending=True)"
   ]
  },
  {
   "cell_type": "code",
   "execution_count": 23,
   "metadata": {},
   "outputs": [
    {
     "name": "stdout",
     "output_type": "stream",
     "text": [
      "Index(['survived', 'pclass', 'sex', 'age', 'sibsp', 'parch', 'fare',\n",
      "       'embarked', 'class', 'who', 'adult_male', 'deck', 'embark_town',\n",
      "       'alive', 'alone'],\n",
      "      dtype='object')\n",
      "   alone alive  embark_town deck  adult_male    who  class embarked     fare   \n",
      "0  False    no  Southampton  NaN        True    man  Third        S   7.2500  \\\n",
      "1  False   yes    Cherbourg    C       False  woman  First        C  71.2833   \n",
      "2   True   yes  Southampton  NaN       False  woman  Third        S   7.9250   \n",
      "3  False   yes  Southampton    C       False  woman  First        S  53.1000   \n",
      "4   True    no  Southampton  NaN        True    man  Third        S   8.0500   \n",
      "\n",
      "   parch  sibsp   age     sex  pclass  survived  \n",
      "0      0      1  22.0    male       3         0  \n",
      "1      0      1  38.0  female       1         1  \n",
      "2      0      0  26.0  female       3         1  \n",
      "3      0      1  35.0  female       1         1  \n",
      "4      0      0  35.0    male       3         0  \n"
     ]
    }
   ],
   "source": [
    "## \n",
    "print(titanic.columns)\n",
    "rev_columns = list(reversed(titanic.columns))\n",
    "# print(list(rev_columns))\n",
    "rev_titanic = titanic[rev_columns]\n",
    "print(rev_titanic.head())"
   ]
  },
  {
   "cell_type": "code",
   "execution_count": 34,
   "metadata": {},
   "outputs": [
    {
     "name": "stdout",
     "output_type": "stream",
     "text": [
      "0     07\n",
      "1     06\n",
      "2     06\n",
      "3     06\n",
      "4     06\n",
      "5     06\n",
      "6     06\n",
      "7     06\n",
      "8     06\n",
      "9     06\n",
      "10    06\n",
      "11    06\n",
      "12    06\n",
      "13    06\n",
      "14    06\n",
      "15    06\n",
      "16    06\n",
      "17    06\n",
      "18    06\n",
      "19    06\n",
      "Name: 월, dtype: object\n"
     ]
    }
   ],
   "source": [
    "df = pd.read_excel('./주가데이터.xlsx', header = 0,\n",
    "                   index_col= None)\n",
    "\n",
    "# print(df.head())\n",
    "\n",
    "dates = df['연월일'].astype('str')\n",
    "dates = dates.str.split(\"-\")\n",
    "\n",
    "df['년'] = dates.str.get(0)\n",
    "df['월'] = dates.str.get(1)\n",
    "df['일'] = dates.str.get(2)\n",
    "\n",
    "print(df['월'])\n",
    "# print(dates)"
   ]
  },
  {
   "cell_type": "code",
   "execution_count": 38,
   "metadata": {},
   "outputs": [
    {
     "name": "stdout",
     "output_type": "stream",
     "text": [
      "[ True False False]\n",
      "or = \n",
      " [ True  True False]\n",
      "['rose']\n",
      "['rose' 'lily']\n"
     ]
    }
   ],
   "source": [
    "## Filter\n",
    "a_event = np.array([True, True, False])\n",
    "b_event = np.array([True, False, False])\n",
    "\n",
    "and_result = a_event & b_event\n",
    "print(and_result)\n",
    "\n",
    "or_result = a_event | b_event\n",
    "print('or = \\n', or_result)\n",
    "\n",
    "my_data = np.array(['rose', 'lily', 'golden bell'])\n",
    "\n",
    "print(my_data[and_result])\n",
    "print(my_data[or_result])\n"
   ]
  },
  {
   "cell_type": "code",
   "execution_count": 51,
   "metadata": {},
   "outputs": [
    {
     "name": "stdout",
     "output_type": "stream",
     "text": [
      "age\n",
      "False    789\n",
      "True     102\n",
      "Name: count, dtype: int64\n"
     ]
    },
    {
     "data": {
      "text/plain": [
       "(84, 15)"
      ]
     },
     "execution_count": 51,
     "metadata": {},
     "output_type": "execute_result"
    }
   ],
   "source": [
    "# titanic.head()\n",
    "# age_lt_10 = titanic.age >= 10\n",
    "# print(age_lt_10)\n",
    "\n",
    "# print(titanic[age_lt_10])\n",
    "\n",
    "mask1 = (titanic.age >= 10) & (titanic.age < 20)\n",
    "print(mask1.value_counts())\n",
    "\n",
    "# df_teenager = titanic[mask1]\n",
    "df_teenager = titanic.loc[mask1, :]\n",
    "\n",
    "df_teenager.head()\n",
    "\n",
    "titanic.sex == 'female'\n",
    "\n",
    "mask2 = (titanic.age <= 10) & (titanic.sex == 'female')\n",
    "df_under10_female =  titanic[mask2]\n",
    "\n",
    "df_under10_female.shape\n",
    "\n",
    "mask3 = (titanic.age < 10) | (titanic.age > 60)\n",
    "titanic[mask3].shape\n",
    "\n",
    "titanic.loc[mask3, ['age', 'sex', 'alone']]"
   ]
  },
  {
   "cell_type": "code",
   "execution_count": 57,
   "metadata": {},
   "outputs": [
    {
     "name": "stdout",
     "output_type": "stream",
     "text": [
      "0       True\n",
      "1       True\n",
      "2      False\n",
      "3       True\n",
      "4      False\n",
      "       ...  \n",
      "886    False\n",
      "887    False\n",
      "888     True\n",
      "889    False\n",
      "890    False\n",
      "Name: sibsp, Length: 891, dtype: bool\n"
     ]
    }
   ],
   "source": [
    "## isin()\n",
    "\n",
    "# titanic['sibsp'].value_counts()\n",
    "titanic.sibsp.value_counts()\n",
    "titanic.dtypes\n",
    "\n",
    "mask_126 = (titanic.sibsp == 1) |(titanic.sibsp == 2)|(titanic.sibsp == 6)\n",
    "titanic[mask_126].head(20)\n",
    "\n",
    "mask_126_isin = titanic.sibsp.isin([1, 2, 6])\n",
    "print(mask_126_isin)"
   ]
  },
  {
   "cell_type": "code",
   "execution_count": 59,
   "metadata": {},
   "outputs": [
    {
     "name": "stdout",
     "output_type": "stream",
     "text": [
      "    a   b   c\n",
      "0  a0  b0  c0\n",
      "1  a1  b1  c1\n",
      "2  a2  b2  c2\n",
      "3  a3  b3  c3\n",
      "    a   b   c   d\n",
      "2  a2  b2  c2  d2\n",
      "3  a3  b3  c3  d3\n",
      "4  a4  b4  c4  d4\n",
      "5  a5  b5  c5  d5\n"
     ]
    }
   ],
   "source": [
    "## pd.concat\n",
    "df1 = pd.DataFrame({'a': ['a0', 'a1', 'a2', 'a3'],\n",
    "                    'b': ['b0', 'b1', 'b2', 'b3'],\n",
    "                    'c': ['c0', 'c1', 'c2', 'c3']},\n",
    "                    index=[0, 1, 2, 3])\n",
    "df2 = pd.DataFrame({'a': ['a2', 'a3', 'a4', 'a5'],\n",
    "                    'b': ['b2', 'b3', 'b4', 'b5'],\n",
    "                    'c': ['c2', 'c3', 'c4', 'c5'],\n",
    "                    'd': ['d2', 'd3', 'd4', 'd5']},\n",
    "                    index=[2, 3, 4, 5])\n",
    "print(df1)\n",
    "print(df2)"
   ]
  },
  {
   "cell_type": "code",
   "execution_count": 69,
   "metadata": {},
   "outputs": [
    {
     "name": "stdout",
     "output_type": "stream",
     "text": [
      "     a    b    c    a    b    c    d\n",
      "0   a0   b0   c0  NaN  NaN  NaN  NaN\n",
      "1   a1   b1   c1  NaN  NaN  NaN  NaN\n",
      "2   a2   b2   c2   a2   b2   c2   d2\n",
      "3   a3   b3   c3   a3   b3   c3   d3\n",
      "4  NaN  NaN  NaN   a4   b4   c4   d4\n",
      "5  NaN  NaN  NaN   a5   b5   c5   d5\n",
      "\n",
      "\n",
      "\n",
      "    0   1   2   3   4   5   6\n",
      "2  a2  b2  c2  a2  b2  c2  d2\n",
      "3  a3  b3  c3  a3  b3  c3  d3\n"
     ]
    }
   ],
   "source": [
    "pd.concat([df1, df2], axis = 0, ignore_index= True)\n",
    "print(pd.concat([df1, df2], axis = 1, join = 'outer'))\n",
    "print('\\n\\n')\n",
    "print(pd.concat([df1, df2], axis = 1, join = 'inner',\n",
    "                ignore_index=True))\n",
    "\n"
   ]
  },
  {
   "cell_type": "code",
   "execution_count": 75,
   "metadata": {},
   "outputs": [
    {
     "name": "stdout",
     "output_type": "stream",
     "text": [
      "0    e0\n",
      "1    e1\n",
      "2    e2\n",
      "3    e3\n",
      "Name: e, dtype: object\n",
      "3    f0\n",
      "4    f1\n",
      "5    f2\n",
      "Name: f, dtype: object\n",
      "0    g0\n",
      "1    g1\n",
      "2    g2\n",
      "3    g3\n",
      "Name: g, dtype: object\n",
      "    a   b   c   d    f\n",
      "2  a2  b2  c2  d2  NaN\n",
      "3  a3  b3  c3  d3   f0\n",
      "4  a4  b4  c4  d4   f1\n",
      "5  a5  b5  c5  d5   f2\n"
     ]
    }
   ],
   "source": [
    "sr1 = pd.Series(['e0', 'e1', 'e2', 'e3'], name = 'e')\n",
    "sr2 = pd.Series(['f0', 'f1', 'f2'], name='f', index=[3, 4, 5])\n",
    "sr3 = pd.Series(['g0', 'g1', 'g2', 'g3'], name='g')\n",
    "\n",
    "print(sr1)\n",
    "print(sr2)\n",
    "print(sr3)\n",
    "\n",
    "result = pd.concat([sr1, sr2], axis = 1)\n",
    "result2 = pd.concat([df2, sr2], axis = 1)\n",
    "\n",
    "print(result2)\n"
   ]
  },
  {
   "cell_type": "code",
   "execution_count": 76,
   "metadata": {},
   "outputs": [
    {
     "name": "stdout",
     "output_type": "stream",
     "text": [
      "       id stock_name          value   price\n",
      "0  128940       한미약품   59385.666667  421000\n",
      "1  130960     CJ E&M   58540.666667   98900\n",
      "2  138250      엔에스쇼핑   14558.666667   13200\n",
      "3  139480        이마트  239230.833333  254500\n",
      "4  142280     녹십자엠에스     468.833333   10200\n",
      "       id     name           eps     bps        per       pbr\n",
      "0  130960   CJ E&M   6301.333333   54068  15.695091  1.829178\n",
      "1  136480       하림    274.166667    3551  11.489362  0.887074\n",
      "2  138040  메리츠금융지주   2122.333333   14894   6.313806  0.899691\n",
      "3  139480      이마트  18268.166667  295780  13.931338  0.860437\n",
      "4  145990      삼양사   5741.000000  108090  14.283226  0.758627\n"
     ]
    }
   ],
   "source": [
    "df1 = pd.read_excel('./stock price.xlsx', header=0)\n",
    "df2 = pd.read_excel('./stock valuation.xlsx', header=0)\n",
    "\n",
    "print(df1.head())\n",
    "print(df2.head())\n"
   ]
  },
  {
   "cell_type": "code",
   "execution_count": 82,
   "metadata": {},
   "outputs": [
    {
     "name": "stdout",
     "output_type": "stream",
     "text": [
      "merge_inner = \n",
      "\n",
      "        id stock_name          value   price    name           eps     bps   \n",
      "0  130960     CJ E&M   58540.666667   98900  CJ E&M   6301.333333   54068  \\\n",
      "1  139480        이마트  239230.833333  254500     이마트  18268.166667  295780   \n",
      "2  145990        삼양사   82750.000000   82000     삼양사   5741.000000  108090   \n",
      "3  185750        종근당   40293.666667  100500     종근당   3990.333333   40684   \n",
      "4  204210     모두투어리츠    3093.333333    3475  모두투어리츠     85.166667    5335   \n",
      "\n",
      "         per       pbr  \n",
      "0  15.695091  1.829178  \n",
      "1  13.931338  0.860437  \n",
      "2  14.283226  0.758627  \n",
      "3  25.185866  2.470259  \n",
      "4  40.802348  0.651359  \n",
      "merge_outer = \n",
      "\n",
      "         id stock_name          value     price       name           eps   \n",
      "0   128940       한미약품   59385.666667  421000.0        NaN           NaN  \\\n",
      "1   130960     CJ E&M   58540.666667   98900.0     CJ E&M   6301.333333   \n",
      "2   138250      엔에스쇼핑   14558.666667   13200.0        NaN           NaN   \n",
      "3   139480        이마트  239230.833333  254500.0        이마트  18268.166667   \n",
      "4   142280     녹십자엠에스     468.833333   10200.0        NaN           NaN   \n",
      "5   145990        삼양사   82750.000000   82000.0        삼양사   5741.000000   \n",
      "6   185750        종근당   40293.666667  100500.0        종근당   3990.333333   \n",
      "7   192400      쿠쿠홀딩스  179204.666667  177500.0        NaN           NaN   \n",
      "8   199800         툴젠   -2514.333333  115400.0        NaN           NaN   \n",
      "9   204210     모두투어리츠    3093.333333    3475.0     모두투어리츠     85.166667   \n",
      "10  136480        NaN            NaN       NaN         하림    274.166667   \n",
      "11  138040        NaN            NaN       NaN    메리츠금융지주   2122.333333   \n",
      "12  161390        NaN            NaN       NaN      한국타이어   5648.500000   \n",
      "13  181710        NaN            NaN       NaN  NHN엔터테인먼트   2110.166667   \n",
      "14  207940        NaN            NaN       NaN   삼성바이오로직스   4644.166667   \n",
      "\n",
      "         bps        per       pbr  \n",
      "0        NaN        NaN       NaN  \n",
      "1    54068.0  15.695091  1.829178  \n",
      "2        NaN        NaN       NaN  \n",
      "3   295780.0  13.931338  0.860437  \n",
      "4        NaN        NaN       NaN  \n",
      "5   108090.0  14.283226  0.758627  \n",
      "6    40684.0  25.185866  2.470259  \n",
      "7        NaN        NaN       NaN  \n",
      "8        NaN        NaN       NaN  \n",
      "9     5335.0  40.802348  0.651359  \n",
      "10    3551.0  11.489362  0.887074  \n",
      "11   14894.0   6.313806  0.899691  \n",
      "12   51341.0   7.453306  0.820007  \n",
      "13   78434.0  30.755864  0.827447  \n",
      "14   60099.0  89.790059  6.938551  \n"
     ]
    }
   ],
   "source": [
    "merge_inner = pd.merge(df1, df2, on = 'id', how = 'inner')\n",
    "\n",
    "print('merge_inner = \\n\\n', merge_inner)\n",
    "\n",
    "merge_outer = pd.merge(df1, df2, on = 'id', how = 'outer')\n",
    "print('merge_outer = \\n\\n', merge_outer)"
   ]
  },
  {
   "cell_type": "code",
   "execution_count": 83,
   "metadata": {},
   "outputs": [
    {
     "name": "stdout",
     "output_type": "stream",
     "text": [
      "merge_outer = \n",
      "\n",
      "      id_x stock_name          value   price      id_y    name           eps   \n",
      "0  128940       한미약품   59385.666667  421000       NaN     NaN           NaN  \\\n",
      "1  130960     CJ E&M   58540.666667   98900  130960.0  CJ E&M   6301.333333   \n",
      "2  138250      엔에스쇼핑   14558.666667   13200       NaN     NaN           NaN   \n",
      "3  139480        이마트  239230.833333  254500  139480.0     이마트  18268.166667   \n",
      "4  142280     녹십자엠에스     468.833333   10200       NaN     NaN           NaN   \n",
      "5  145990        삼양사   82750.000000   82000  145990.0     삼양사   5741.000000   \n",
      "6  185750        종근당   40293.666667  100500  185750.0     종근당   3990.333333   \n",
      "7  192400      쿠쿠홀딩스  179204.666667  177500       NaN     NaN           NaN   \n",
      "8  199800         툴젠   -2514.333333  115400       NaN     NaN           NaN   \n",
      "9  204210     모두투어리츠    3093.333333    3475  204210.0  모두투어리츠     85.166667   \n",
      "\n",
      "        bps        per       pbr  \n",
      "0       NaN        NaN       NaN  \n",
      "1   54068.0  15.695091  1.829178  \n",
      "2       NaN        NaN       NaN  \n",
      "3  295780.0  13.931338  0.860437  \n",
      "4       NaN        NaN       NaN  \n",
      "5  108090.0  14.283226  0.758627  \n",
      "6   40684.0  25.185866  2.470259  \n",
      "7       NaN        NaN       NaN  \n",
      "8       NaN        NaN       NaN  \n",
      "9    5335.0  40.802348  0.651359  \n"
     ]
    }
   ],
   "source": [
    "merge_left = pd.merge(df1, df2, how = 'right',\n",
    "                      left_on= 'stock_name', right_on = 'name')\n",
    "\n",
    "print('merge_outer = \\n\\n', merge_left)"
   ]
  },
  {
   "cell_type": "code",
   "execution_count": 86,
   "metadata": {},
   "outputs": [
    {
     "name": "stdout",
     "output_type": "stream",
     "text": [
      "0    False\n",
      "1    False\n",
      "2     True\n",
      "3    False\n",
      "4     True\n",
      "5    False\n",
      "6    False\n",
      "7    False\n",
      "8    False\n",
      "9     True\n",
      "Name: price, dtype: bool\n",
      "       id stock_name         value  price\n",
      "2  138250      엔에스쇼핑  14558.666667  13200\n",
      "4  142280     녹십자엠에스    468.833333  10200\n",
      "9  204210     모두투어리츠   3093.333333   3475\n",
      "       id stock_name         value  price    name        eps     bps   \n",
      "0  138250      엔에스쇼핑  14558.666667  13200     NaN        NaN     NaN  \\\n",
      "1  142280     녹십자엠에스    468.833333  10200     NaN        NaN     NaN   \n",
      "2  204210     모두투어리츠   3093.333333   3475  모두투어리츠  85.166667  5335.0   \n",
      "\n",
      "         per       pbr  \n",
      "0        NaN       NaN  \n",
      "1        NaN       NaN  \n",
      "2  40.802348  0.651359  \n"
     ]
    }
   ],
   "source": [
    "## df1에 가격이 50000 <- df2\n",
    "\n",
    "mask = df1['price'] < 50000\n",
    "print(mask)\n",
    "\n",
    "df1_50000 = df1[mask]\n",
    "print(df1_50000.head())\n",
    "\n",
    "df1_df2 = pd.merge(df1_50000, df2, on = 'id', how = 'left')\n",
    "print(df1_df2)"
   ]
  },
  {
   "cell_type": "code",
   "execution_count": 94,
   "metadata": {},
   "outputs": [
    {
     "data": {
      "text/plain": [
       "25.523893414211443"
      ]
     },
     "execution_count": 94,
     "metadata": {},
     "output_type": "execute_result"
    }
   ],
   "source": [
    "## group_by()\n",
    "\n",
    "titanic = sns.load_dataset('titanic')\n",
    "df = titanic.loc[:, ['age', 'sex', 'class', 'fare', 'survived']]\n",
    "\n",
    "# df.head()\n",
    "# df.fare.mean()\n",
    "df_male_idx = df.sex == 'male'\n",
    "df_male = df[df_male_idx]\n",
    "\n",
    "# df_male.fare.mean()"
   ]
  },
  {
   "cell_type": "code",
   "execution_count": 95,
   "metadata": {},
   "outputs": [
    {
     "data": {
      "text/plain": [
       "class\n",
       "First     84.154687\n",
       "Second    20.662183\n",
       "Third     13.675550\n",
       "Name: fare, dtype: float64"
      ]
     },
     "execution_count": 95,
     "metadata": {},
     "output_type": "execute_result"
    }
   ],
   "source": [
    "df_group = df.groupby(['class'])\n",
    "df_group['fare'].mean()"
   ]
  },
  {
   "cell_type": "code",
   "execution_count": 96,
   "metadata": {},
   "outputs": [
    {
     "name": "stdout",
     "output_type": "stream",
     "text": [
      "key ('First',)\n",
      "\n",
      "     age     sex  class     fare  survived\n",
      "1   38.0  female  First  71.2833         1\n",
      "3   35.0  female  First  53.1000         1\n",
      "6   54.0    male  First  51.8625         0\n",
      "11  58.0  female  First  26.5500         1\n",
      "23  28.0    male  First  35.5000         1\n",
      "\n",
      "key ('Second',)\n",
      "\n",
      "     age     sex   class     fare  survived\n",
      "9   14.0  female  Second  30.0708         1\n",
      "15  55.0  female  Second  16.0000         1\n",
      "17   NaN    male  Second  13.0000         1\n",
      "20  35.0    male  Second  26.0000         0\n",
      "21  34.0    male  Second  13.0000         1\n",
      "\n",
      "key ('Third',)\n",
      "\n",
      "    age     sex  class     fare  survived\n",
      "0  22.0    male  Third   7.2500         0\n",
      "2  26.0  female  Third   7.9250         1\n",
      "4  35.0    male  Third   8.0500         0\n",
      "5   NaN    male  Third   8.4583         0\n",
      "7   2.0    male  Third  21.0750         0\n",
      "\n"
     ]
    }
   ],
   "source": [
    "for key, group in df_group:\n",
    "   print('key', key)\n",
    "   print()\n",
    "   print(group.head()) \n",
    "   print()\n"
   ]
  },
  {
   "cell_type": "code",
   "execution_count": 98,
   "metadata": {},
   "outputs": [
    {
     "name": "stdout",
     "output_type": "stream",
     "text": [
      "     age     sex  class     fare  survived\n",
      "1   38.0  female  First  71.2833         1\n",
      "3   35.0  female  First  53.1000         1\n",
      "6   54.0    male  First  51.8625         0\n",
      "11  58.0  female  First  26.5500         1\n",
      "23  28.0    male  First  35.5000         1\n",
      "\n",
      "\n",
      "\n",
      "     age     sex   class     fare  survived\n",
      "9   14.0  female  Second  30.0708         1\n",
      "15  55.0  female  Second  16.0000         1\n",
      "17   NaN    male  Second  13.0000         1\n",
      "20  35.0    male  Second  26.0000         0\n",
      "21  34.0    male  Second  13.0000         1\n"
     ]
    }
   ],
   "source": [
    "\n",
    "group1 = df_group.get_group('First')\n",
    "print(group1.head())\n",
    "print('\\n\\n')\n",
    "group2 = df_group.get_group('Second')\n",
    "print(group2.head())"
   ]
  },
  {
   "cell_type": "code",
   "execution_count": 100,
   "metadata": {},
   "outputs": [
    {
     "data": {
      "text/plain": [
       "class   sex   \n",
       "First   female    34.611765\n",
       "        male      41.281386\n",
       "Second  female    28.722973\n",
       "        male      30.740707\n",
       "Third   female    21.750000\n",
       "        male      26.507589\n",
       "Name: age, dtype: float64"
      ]
     },
     "execution_count": 100,
     "metadata": {},
     "output_type": "execute_result"
    }
   ],
   "source": [
    "df.head()\n",
    "\n",
    "df_group_two = df.groupby(['class', 'sex'])\n",
    "df_group_two.age.mean()"
   ]
  },
  {
   "cell_type": "code",
   "execution_count": 101,
   "metadata": {},
   "outputs": [
    {
     "name": "stdout",
     "output_type": "stream",
     "text": [
      "key =  ('First', 'female')\n",
      "\n",
      "     age     sex  class      fare  survived\n",
      "1   38.0  female  First   71.2833         1\n",
      "3   35.0  female  First   53.1000         1\n",
      "11  58.0  female  First   26.5500         1\n",
      "31   NaN  female  First  146.5208         1\n",
      "52  49.0  female  First   76.7292         1\n",
      "key =  ('First', 'male')\n",
      "\n",
      "     age   sex  class      fare  survived\n",
      "6   54.0  male  First   51.8625         0\n",
      "23  28.0  male  First   35.5000         1\n",
      "27  19.0  male  First  263.0000         0\n",
      "30  40.0  male  First   27.7208         0\n",
      "34  28.0  male  First   82.1708         0\n",
      "key =  ('Second', 'female')\n",
      "\n",
      "     age     sex   class     fare  survived\n",
      "9   14.0  female  Second  30.0708         1\n",
      "15  55.0  female  Second  16.0000         1\n",
      "41  27.0  female  Second  21.0000         0\n",
      "43   3.0  female  Second  41.5792         1\n",
      "53  29.0  female  Second  26.0000         1\n",
      "key =  ('Second', 'male')\n",
      "\n",
      "     age   sex   class  fare  survived\n",
      "17   NaN  male  Second  13.0         1\n",
      "20  35.0  male  Second  26.0         0\n",
      "21  34.0  male  Second  13.0         1\n",
      "33  66.0  male  Second  10.5         0\n",
      "70  32.0  male  Second  10.5         0\n",
      "key =  ('Third', 'female')\n",
      "\n",
      "     age     sex  class     fare  survived\n",
      "2   26.0  female  Third   7.9250         1\n",
      "8   27.0  female  Third  11.1333         1\n",
      "10   4.0  female  Third  16.7000         1\n",
      "14  14.0  female  Third   7.8542         0\n",
      "18  31.0  female  Third  18.0000         0\n",
      "key =  ('Third', 'male')\n",
      "\n",
      "     age   sex  class     fare  survived\n",
      "0   22.0  male  Third   7.2500         0\n",
      "4   35.0  male  Third   8.0500         0\n",
      "5    NaN  male  Third   8.4583         0\n",
      "7    2.0  male  Third  21.0750         0\n",
      "12  20.0  male  Third   8.0500         0\n"
     ]
    }
   ],
   "source": [
    "for key, group in df_group_two:\n",
    "    print('key = ', key)\n",
    "    print()\n",
    "    print(group.head())"
   ]
  },
  {
   "cell_type": "code",
   "execution_count": 105,
   "metadata": {},
   "outputs": [
    {
     "data": {
      "text/html": [
       "<div>\n",
       "<style scoped>\n",
       "    .dataframe tbody tr th:only-of-type {\n",
       "        vertical-align: middle;\n",
       "    }\n",
       "\n",
       "    .dataframe tbody tr th {\n",
       "        vertical-align: top;\n",
       "    }\n",
       "\n",
       "    .dataframe thead th {\n",
       "        text-align: right;\n",
       "    }\n",
       "</style>\n",
       "<table border=\"1\" class=\"dataframe\">\n",
       "  <thead>\n",
       "    <tr style=\"text-align: right;\">\n",
       "      <th></th>\n",
       "      <th></th>\n",
       "      <th>age</th>\n",
       "      <th>fare</th>\n",
       "      <th>survived</th>\n",
       "    </tr>\n",
       "    <tr>\n",
       "      <th>class</th>\n",
       "      <th>sex</th>\n",
       "      <th></th>\n",
       "      <th></th>\n",
       "      <th></th>\n",
       "    </tr>\n",
       "  </thead>\n",
       "  <tbody>\n",
       "    <tr>\n",
       "      <th rowspan=\"2\" valign=\"top\">First</th>\n",
       "      <th>female</th>\n",
       "      <td>13.612052</td>\n",
       "      <td>74.259988</td>\n",
       "      <td>0.176716</td>\n",
       "    </tr>\n",
       "    <tr>\n",
       "      <th>male</th>\n",
       "      <td>15.139570</td>\n",
       "      <td>77.548021</td>\n",
       "      <td>0.484484</td>\n",
       "    </tr>\n",
       "    <tr>\n",
       "      <th rowspan=\"2\" valign=\"top\">Second</th>\n",
       "      <th>female</th>\n",
       "      <td>12.872702</td>\n",
       "      <td>10.891796</td>\n",
       "      <td>0.271448</td>\n",
       "    </tr>\n",
       "    <tr>\n",
       "      <th>male</th>\n",
       "      <td>14.793894</td>\n",
       "      <td>14.922235</td>\n",
       "      <td>0.365882</td>\n",
       "    </tr>\n",
       "    <tr>\n",
       "      <th rowspan=\"2\" valign=\"top\">Third</th>\n",
       "      <th>female</th>\n",
       "      <td>12.729964</td>\n",
       "      <td>11.690314</td>\n",
       "      <td>0.501745</td>\n",
       "    </tr>\n",
       "    <tr>\n",
       "      <th>male</th>\n",
       "      <td>12.159514</td>\n",
       "      <td>11.681696</td>\n",
       "      <td>0.342694</td>\n",
       "    </tr>\n",
       "  </tbody>\n",
       "</table>\n",
       "</div>"
      ],
      "text/plain": [
       "                     age       fare  survived\n",
       "class  sex                                   \n",
       "First  female  13.612052  74.259988  0.176716\n",
       "       male    15.139570  77.548021  0.484484\n",
       "Second female  12.872702  10.891796  0.271448\n",
       "       male    14.793894  14.922235  0.365882\n",
       "Third  female  12.729964  11.690314  0.501745\n",
       "       male    12.159514  11.681696  0.342694"
      ]
     },
     "execution_count": 105,
     "metadata": {},
     "output_type": "execute_result"
    }
   ],
   "source": [
    "df_group_two.std()\n",
    "# my_group = df_group_two.get_group(('Second', 'male'))\n",
    "# my_group.head()"
   ]
  },
  {
   "cell_type": "code",
   "execution_count": 107,
   "metadata": {},
   "outputs": [
    {
     "data": {
      "text/html": [
       "<div>\n",
       "<style scoped>\n",
       "    .dataframe tbody tr th:only-of-type {\n",
       "        vertical-align: middle;\n",
       "    }\n",
       "\n",
       "    .dataframe tbody tr th {\n",
       "        vertical-align: top;\n",
       "    }\n",
       "\n",
       "    .dataframe thead th {\n",
       "        text-align: right;\n",
       "    }\n",
       "</style>\n",
       "<table border=\"1\" class=\"dataframe\">\n",
       "  <thead>\n",
       "    <tr style=\"text-align: right;\">\n",
       "      <th></th>\n",
       "      <th></th>\n",
       "      <th>age</th>\n",
       "      <th>fare</th>\n",
       "      <th>survived</th>\n",
       "    </tr>\n",
       "    <tr>\n",
       "      <th>class</th>\n",
       "      <th>sex</th>\n",
       "      <th></th>\n",
       "      <th></th>\n",
       "      <th></th>\n",
       "    </tr>\n",
       "  </thead>\n",
       "  <tbody>\n",
       "    <tr>\n",
       "      <th rowspan=\"2\" valign=\"top\">First</th>\n",
       "      <th>female</th>\n",
       "      <td>35.0</td>\n",
       "      <td>82.66455</td>\n",
       "      <td>1.0</td>\n",
       "    </tr>\n",
       "    <tr>\n",
       "      <th>male</th>\n",
       "      <td>40.0</td>\n",
       "      <td>41.26250</td>\n",
       "      <td>0.0</td>\n",
       "    </tr>\n",
       "    <tr>\n",
       "      <th rowspan=\"2\" valign=\"top\">Second</th>\n",
       "      <th>female</th>\n",
       "      <td>28.0</td>\n",
       "      <td>22.00000</td>\n",
       "      <td>1.0</td>\n",
       "    </tr>\n",
       "    <tr>\n",
       "      <th>male</th>\n",
       "      <td>30.0</td>\n",
       "      <td>13.00000</td>\n",
       "      <td>0.0</td>\n",
       "    </tr>\n",
       "    <tr>\n",
       "      <th rowspan=\"2\" valign=\"top\">Third</th>\n",
       "      <th>female</th>\n",
       "      <td>21.5</td>\n",
       "      <td>12.47500</td>\n",
       "      <td>0.5</td>\n",
       "    </tr>\n",
       "    <tr>\n",
       "      <th>male</th>\n",
       "      <td>25.0</td>\n",
       "      <td>7.92500</td>\n",
       "      <td>0.0</td>\n",
       "    </tr>\n",
       "  </tbody>\n",
       "</table>\n",
       "</div>"
      ],
      "text/plain": [
       "                age      fare  survived\n",
       "class  sex                             \n",
       "First  female  35.0  82.66455       1.0\n",
       "       male    40.0  41.26250       0.0\n",
       "Second female  28.0  22.00000       1.0\n",
       "       male    30.0  13.00000       0.0\n",
       "Third  female  21.5  12.47500       0.5\n",
       "       male    25.0   7.92500       0.0"
      ]
     },
     "execution_count": 107,
     "metadata": {},
     "output_type": "execute_result"
    }
   ],
   "source": [
    "df_group_two.mean()\n",
    "df_group_two.median()\n"
   ]
  },
  {
   "cell_type": "code",
   "execution_count": 110,
   "metadata": {},
   "outputs": [
    {
     "name": "stdout",
     "output_type": "stream",
     "text": [
      "              age       fare  survived\n",
      "class                                 \n",
      "First   38.233441  84.154687  0.629630\n",
      "Second  29.877630  20.662183  0.472826\n",
      "Third   25.140620  13.675550  0.242363\n",
      "         age     fare  survived\n",
      "class                          \n",
      "First   37.0  60.2875       1.0\n",
      "Second  29.0  14.2500       0.0\n",
      "Third   24.0   8.0500       0.0\n"
     ]
    }
   ],
   "source": [
    "## group_by()\n",
    "\n",
    "titanic = sns.load_dataset('titanic')\n",
    "df = titanic.loc[:, ['age', 'class', 'fare', 'survived']]\n",
    "\n",
    "# df.head()\n",
    "# df.fare.mean()\n",
    "class_group = df.groupby(['class'])\n",
    "\n",
    "print(class_group.mean())\n",
    "print(class_group.median())\n"
   ]
  },
  {
   "cell_type": "code",
   "execution_count": 112,
   "metadata": {},
   "outputs": [
    {
     "data": {
      "text/html": [
       "<div>\n",
       "<style scoped>\n",
       "    .dataframe tbody tr th:only-of-type {\n",
       "        vertical-align: middle;\n",
       "    }\n",
       "\n",
       "    .dataframe tbody tr th {\n",
       "        vertical-align: top;\n",
       "    }\n",
       "\n",
       "    .dataframe thead tr th {\n",
       "        text-align: left;\n",
       "    }\n",
       "\n",
       "    .dataframe thead tr:last-of-type th {\n",
       "        text-align: right;\n",
       "    }\n",
       "</style>\n",
       "<table border=\"1\" class=\"dataframe\">\n",
       "  <thead>\n",
       "    <tr>\n",
       "      <th></th>\n",
       "      <th colspan=\"3\" halign=\"left\">age</th>\n",
       "      <th colspan=\"3\" halign=\"left\">fare</th>\n",
       "      <th colspan=\"3\" halign=\"left\">survived</th>\n",
       "    </tr>\n",
       "    <tr>\n",
       "      <th></th>\n",
       "      <th>mean</th>\n",
       "      <th>median</th>\n",
       "      <th>std</th>\n",
       "      <th>mean</th>\n",
       "      <th>median</th>\n",
       "      <th>std</th>\n",
       "      <th>mean</th>\n",
       "      <th>median</th>\n",
       "      <th>std</th>\n",
       "    </tr>\n",
       "    <tr>\n",
       "      <th>class</th>\n",
       "      <th></th>\n",
       "      <th></th>\n",
       "      <th></th>\n",
       "      <th></th>\n",
       "      <th></th>\n",
       "      <th></th>\n",
       "      <th></th>\n",
       "      <th></th>\n",
       "      <th></th>\n",
       "    </tr>\n",
       "  </thead>\n",
       "  <tbody>\n",
       "    <tr>\n",
       "      <th>First</th>\n",
       "      <td>38.233441</td>\n",
       "      <td>37.0</td>\n",
       "      <td>14.802856</td>\n",
       "      <td>84.154687</td>\n",
       "      <td>60.2875</td>\n",
       "      <td>78.380373</td>\n",
       "      <td>0.629630</td>\n",
       "      <td>1.0</td>\n",
       "      <td>0.484026</td>\n",
       "    </tr>\n",
       "    <tr>\n",
       "      <th>Second</th>\n",
       "      <td>29.877630</td>\n",
       "      <td>29.0</td>\n",
       "      <td>14.001077</td>\n",
       "      <td>20.662183</td>\n",
       "      <td>14.2500</td>\n",
       "      <td>13.417399</td>\n",
       "      <td>0.472826</td>\n",
       "      <td>0.0</td>\n",
       "      <td>0.500623</td>\n",
       "    </tr>\n",
       "    <tr>\n",
       "      <th>Third</th>\n",
       "      <td>25.140620</td>\n",
       "      <td>24.0</td>\n",
       "      <td>12.495398</td>\n",
       "      <td>13.675550</td>\n",
       "      <td>8.0500</td>\n",
       "      <td>11.778142</td>\n",
       "      <td>0.242363</td>\n",
       "      <td>0.0</td>\n",
       "      <td>0.428949</td>\n",
       "    </tr>\n",
       "  </tbody>\n",
       "</table>\n",
       "</div>"
      ],
      "text/plain": [
       "              age                         fare                      survived   \n",
       "             mean median        std       mean   median        std      mean   \n",
       "class                                                                          \n",
       "First   38.233441   37.0  14.802856  84.154687  60.2875  78.380373  0.629630  \\\n",
       "Second  29.877630   29.0  14.001077  20.662183  14.2500  13.417399  0.472826   \n",
       "Third   25.140620   24.0  12.495398  13.675550   8.0500  11.778142  0.242363   \n",
       "\n",
       "                         \n",
       "       median       std  \n",
       "class                    \n",
       "First     1.0  0.484026  \n",
       "Second    0.0  0.500623  \n",
       "Third     0.0  0.428949  "
      ]
     },
     "execution_count": 112,
     "metadata": {},
     "output_type": "execute_result"
    }
   ],
   "source": [
    "class_group.agg(['mean', 'median', 'std'])"
   ]
  },
  {
   "cell_type": "code",
   "execution_count": 116,
   "metadata": {},
   "outputs": [
    {
     "name": "stdout",
     "output_type": "stream",
     "text": [
      "      age   class     fare  survived\n",
      "0    22.0   Third   7.2500         0\n",
      "2    26.0   Third   7.9250         1\n",
      "4    35.0   Third   8.0500         0\n",
      "5     NaN   Third   8.4583         0\n",
      "7     2.0   Third  21.0750         0\n",
      "..    ...     ...      ...       ...\n",
      "884  25.0   Third   7.0500         0\n",
      "885  39.0   Third  29.1250         0\n",
      "886  27.0  Second  13.0000         0\n",
      "888   NaN   Third  23.4500         0\n",
      "890  32.0   Third   7.7500         0\n",
      "\n",
      "[675 rows x 4 columns]\n"
     ]
    },
    {
     "data": {
      "text/plain": [
       "class\n",
       "Third     491\n",
       "Second    184\n",
       "First       0\n",
       "Name: count, dtype: int64"
      ]
     },
     "execution_count": 116,
     "metadata": {},
     "output_type": "execute_result"
    }
   ],
   "source": [
    "## groupby filter\n",
    "\n",
    "# df.head()\n",
    "# df_le_30 = df[df.age < 30]\n",
    "\n",
    "# class_group = df.groupby(['class'])\n",
    "\n",
    "\n",
    "age_filter = class_group.filter(lambda x: x['age'].mean() < 30)\n",
    "print(age_filter)\n",
    "age_filter['class'].value_counts()"
   ]
  },
  {
   "cell_type": "code",
   "execution_count": 118,
   "metadata": {},
   "outputs": [
    {
     "name": "stdout",
     "output_type": "stream",
     "text": [
      "    age  class     fare  survived\n",
      "0  22.0  Third   7.2500         0\n",
      "1  38.0  First  71.2833         1\n",
      "2  26.0  Third   7.9250         1\n",
      "3  35.0  First  53.1000         1\n",
      "4  35.0  Third   8.0500         0\n"
     ]
    }
   ],
   "source": [
    "## pivot table\n",
    "\n",
    "class_group.agg(['mean', 'median'])\n",
    "print(df.head())"
   ]
  },
  {
   "cell_type": "code",
   "execution_count": 119,
   "metadata": {},
   "outputs": [],
   "source": [
    "titanic = sns.load_dataset('titanic')\n",
    "df = titanic.loc[:, ['age', 'sex', 'class', 'fare', 'survived']]"
   ]
  },
  {
   "cell_type": "code",
   "execution_count": 122,
   "metadata": {},
   "outputs": [
    {
     "data": {
      "text/html": [
       "<div>\n",
       "<style scoped>\n",
       "    .dataframe tbody tr th:only-of-type {\n",
       "        vertical-align: middle;\n",
       "    }\n",
       "\n",
       "    .dataframe tbody tr th {\n",
       "        vertical-align: top;\n",
       "    }\n",
       "\n",
       "    .dataframe thead tr th {\n",
       "        text-align: left;\n",
       "    }\n",
       "\n",
       "    .dataframe thead tr:last-of-type th {\n",
       "        text-align: right;\n",
       "    }\n",
       "</style>\n",
       "<table border=\"1\" class=\"dataframe\">\n",
       "  <thead>\n",
       "    <tr>\n",
       "      <th></th>\n",
       "      <th colspan=\"2\" halign=\"left\">mean</th>\n",
       "    </tr>\n",
       "    <tr>\n",
       "      <th></th>\n",
       "      <th colspan=\"2\" halign=\"left\">survived</th>\n",
       "    </tr>\n",
       "    <tr>\n",
       "      <th>sex</th>\n",
       "      <th>female</th>\n",
       "      <th>male</th>\n",
       "    </tr>\n",
       "    <tr>\n",
       "      <th>class</th>\n",
       "      <th></th>\n",
       "      <th></th>\n",
       "    </tr>\n",
       "  </thead>\n",
       "  <tbody>\n",
       "    <tr>\n",
       "      <th>First</th>\n",
       "      <td>0.968085</td>\n",
       "      <td>0.368852</td>\n",
       "    </tr>\n",
       "    <tr>\n",
       "      <th>Second</th>\n",
       "      <td>0.921053</td>\n",
       "      <td>0.157407</td>\n",
       "    </tr>\n",
       "    <tr>\n",
       "      <th>Third</th>\n",
       "      <td>0.500000</td>\n",
       "      <td>0.135447</td>\n",
       "    </tr>\n",
       "  </tbody>\n",
       "</table>\n",
       "</div>"
      ],
      "text/plain": [
       "            mean          \n",
       "        survived          \n",
       "sex       female      male\n",
       "class                     \n",
       "First   0.968085  0.368852\n",
       "Second  0.921053  0.157407\n",
       "Third   0.500000  0.135447"
      ]
     },
     "execution_count": 122,
     "metadata": {},
     "output_type": "execute_result"
    }
   ],
   "source": [
    "pdf = pd.pivot_table(\n",
    "    df,\n",
    "    index = 'class',\n",
    "    columns = 'sex',\n",
    "    values = ['survived'],\n",
    "    aggfunc=['mean']\n",
    ")\n",
    "pdf "
   ]
  },
  {
   "cell_type": "code",
   "execution_count": 123,
   "metadata": {},
   "outputs": [
    {
     "data": {
      "text/html": [
       "<div>\n",
       "<style scoped>\n",
       "    .dataframe tbody tr th:only-of-type {\n",
       "        vertical-align: middle;\n",
       "    }\n",
       "\n",
       "    .dataframe tbody tr th {\n",
       "        vertical-align: top;\n",
       "    }\n",
       "\n",
       "    .dataframe thead th {\n",
       "        text-align: right;\n",
       "    }\n",
       "</style>\n",
       "<table border=\"1\" class=\"dataframe\">\n",
       "  <thead>\n",
       "    <tr style=\"text-align: right;\">\n",
       "      <th></th>\n",
       "      <th>survived</th>\n",
       "      <th>pclass</th>\n",
       "      <th>sex</th>\n",
       "      <th>age</th>\n",
       "      <th>sibsp</th>\n",
       "      <th>parch</th>\n",
       "      <th>fare</th>\n",
       "      <th>embarked</th>\n",
       "      <th>class</th>\n",
       "      <th>who</th>\n",
       "      <th>adult_male</th>\n",
       "      <th>deck</th>\n",
       "      <th>embark_town</th>\n",
       "      <th>alive</th>\n",
       "      <th>alone</th>\n",
       "    </tr>\n",
       "  </thead>\n",
       "  <tbody>\n",
       "    <tr>\n",
       "      <th>0</th>\n",
       "      <td>0</td>\n",
       "      <td>3</td>\n",
       "      <td>male</td>\n",
       "      <td>22.0</td>\n",
       "      <td>1</td>\n",
       "      <td>0</td>\n",
       "      <td>7.2500</td>\n",
       "      <td>S</td>\n",
       "      <td>Third</td>\n",
       "      <td>man</td>\n",
       "      <td>True</td>\n",
       "      <td>NaN</td>\n",
       "      <td>Southampton</td>\n",
       "      <td>no</td>\n",
       "      <td>False</td>\n",
       "    </tr>\n",
       "    <tr>\n",
       "      <th>1</th>\n",
       "      <td>1</td>\n",
       "      <td>1</td>\n",
       "      <td>female</td>\n",
       "      <td>38.0</td>\n",
       "      <td>1</td>\n",
       "      <td>0</td>\n",
       "      <td>71.2833</td>\n",
       "      <td>C</td>\n",
       "      <td>First</td>\n",
       "      <td>woman</td>\n",
       "      <td>False</td>\n",
       "      <td>C</td>\n",
       "      <td>Cherbourg</td>\n",
       "      <td>yes</td>\n",
       "      <td>False</td>\n",
       "    </tr>\n",
       "    <tr>\n",
       "      <th>2</th>\n",
       "      <td>1</td>\n",
       "      <td>3</td>\n",
       "      <td>female</td>\n",
       "      <td>26.0</td>\n",
       "      <td>0</td>\n",
       "      <td>0</td>\n",
       "      <td>7.9250</td>\n",
       "      <td>S</td>\n",
       "      <td>Third</td>\n",
       "      <td>woman</td>\n",
       "      <td>False</td>\n",
       "      <td>NaN</td>\n",
       "      <td>Southampton</td>\n",
       "      <td>yes</td>\n",
       "      <td>True</td>\n",
       "    </tr>\n",
       "    <tr>\n",
       "      <th>3</th>\n",
       "      <td>1</td>\n",
       "      <td>1</td>\n",
       "      <td>female</td>\n",
       "      <td>35.0</td>\n",
       "      <td>1</td>\n",
       "      <td>0</td>\n",
       "      <td>53.1000</td>\n",
       "      <td>S</td>\n",
       "      <td>First</td>\n",
       "      <td>woman</td>\n",
       "      <td>False</td>\n",
       "      <td>C</td>\n",
       "      <td>Southampton</td>\n",
       "      <td>yes</td>\n",
       "      <td>False</td>\n",
       "    </tr>\n",
       "    <tr>\n",
       "      <th>4</th>\n",
       "      <td>0</td>\n",
       "      <td>3</td>\n",
       "      <td>male</td>\n",
       "      <td>35.0</td>\n",
       "      <td>0</td>\n",
       "      <td>0</td>\n",
       "      <td>8.0500</td>\n",
       "      <td>S</td>\n",
       "      <td>Third</td>\n",
       "      <td>man</td>\n",
       "      <td>True</td>\n",
       "      <td>NaN</td>\n",
       "      <td>Southampton</td>\n",
       "      <td>no</td>\n",
       "      <td>True</td>\n",
       "    </tr>\n",
       "  </tbody>\n",
       "</table>\n",
       "</div>"
      ],
      "text/plain": [
       "   survived  pclass     sex   age  sibsp  parch     fare embarked  class   \n",
       "0         0       3    male  22.0      1      0   7.2500        S  Third  \\\n",
       "1         1       1  female  38.0      1      0  71.2833        C  First   \n",
       "2         1       3  female  26.0      0      0   7.9250        S  Third   \n",
       "3         1       1  female  35.0      1      0  53.1000        S  First   \n",
       "4         0       3    male  35.0      0      0   8.0500        S  Third   \n",
       "\n",
       "     who  adult_male deck  embark_town alive  alone  \n",
       "0    man        True  NaN  Southampton    no  False  \n",
       "1  woman       False    C    Cherbourg   yes  False  \n",
       "2  woman       False  NaN  Southampton   yes   True  \n",
       "3  woman       False    C  Southampton   yes  False  \n",
       "4    man        True  NaN  Southampton    no   True  "
      ]
     },
     "execution_count": 123,
     "metadata": {},
     "output_type": "execute_result"
    }
   ],
   "source": [
    "df = sns.load_dataset('titanic')\n",
    "\n",
    "df.head()"
   ]
  },
  {
   "cell_type": "code",
   "execution_count": 127,
   "metadata": {},
   "outputs": [
    {
     "data": {
      "text/plain": [
       "deck\n",
       "NaN    688\n",
       "C       59\n",
       "B       47\n",
       "D       33\n",
       "E       32\n",
       "A       15\n",
       "F       13\n",
       "G        4\n",
       "Name: count, dtype: int64"
      ]
     },
     "execution_count": 127,
     "metadata": {},
     "output_type": "execute_result"
    }
   ],
   "source": [
    "df.age.mean()\n",
    "\n",
    "df['deck'].value_counts(dropna=False) # 범주형"
   ]
  },
  {
   "cell_type": "code",
   "execution_count": 135,
   "metadata": {},
   "outputs": [
    {
     "name": "stdout",
     "output_type": "stream",
     "text": [
      "survived         0\n",
      "pclass           0\n",
      "sex              0\n",
      "age            177\n",
      "sibsp            0\n",
      "parch            0\n",
      "fare             0\n",
      "embarked         2\n",
      "class            0\n",
      "who              0\n",
      "adult_male       0\n",
      "deck           688\n",
      "embark_town      2\n",
      "alive            0\n",
      "alone            0\n",
      "dtype: int64\n",
      "(891, 15)\n"
     ]
    }
   ],
   "source": [
    "## nan \n",
    "\n",
    "# print(df.head().isnull())\n",
    "\n",
    "print(df.isnull().sum())\n",
    "print(df.shape)"
   ]
  },
  {
   "cell_type": "code",
   "execution_count": 137,
   "metadata": {},
   "outputs": [
    {
     "name": "stdout",
     "output_type": "stream",
     "text": [
      "   survived  pclass     sex   age  sibsp  parch     fare embarked  class   \n",
      "0         0       3    male  22.0      1      0   7.2500        S  Third  \\\n",
      "1         1       1  female  38.0      1      0  71.2833        C  First   \n",
      "2         1       3  female  26.0      0      0   7.9250        S  Third   \n",
      "3         1       1  female  35.0      1      0  53.1000        S  First   \n",
      "4         0       3    male  35.0      0      0   8.0500        S  Third   \n",
      "\n",
      "     who  adult_male  embark_town alive  alone  \n",
      "0    man        True  Southampton    no  False  \n",
      "1  woman       False    Cherbourg   yes  False  \n",
      "2  woman       False  Southampton   yes   True  \n",
      "3  woman       False  Southampton   yes  False  \n",
      "4    man        True  Southampton    no   True  \n",
      "(891, 14)\n"
     ]
    },
    {
     "data": {
      "text/plain": [
       "(714, 15)"
      ]
     },
     "execution_count": 137,
     "metadata": {},
     "output_type": "execute_result"
    }
   ],
   "source": [
    "##\n",
    "df_thres_na = df.dropna(axis = 1, thresh= 500)\n",
    "print(df_thres_na.head())\n",
    "print(df_thres_na.shape)\n",
    "\n",
    "##\n",
    "df_age = df.dropna(subset=['age'], how = 'any', axis = 0)\n",
    "df_age.shape\n"
   ]
  },
  {
   "cell_type": "code",
   "execution_count": 138,
   "metadata": {},
   "outputs": [
    {
     "data": {
      "text/plain": [
       "0"
      ]
     },
     "execution_count": 138,
     "metadata": {},
     "output_type": "execute_result"
    }
   ],
   "source": [
    "##\n",
    "rep_value = df.age.mean()\n",
    "df.age.fillna(rep_value, inplace=True)\n",
    "\n",
    "df.age.isnull().sum()"
   ]
  },
  {
   "cell_type": "code",
   "execution_count": 150,
   "metadata": {},
   "outputs": [
    {
     "data": {
      "text/plain": [
       "0      NaN\n",
       "1        C\n",
       "2        C\n",
       "3        C\n",
       "4        C\n",
       "      ... \n",
       "886      C\n",
       "887      B\n",
       "888      B\n",
       "889      C\n",
       "890      C\n",
       "Name: deck, Length: 891, dtype: category\n",
       "Categories (7, object): ['A', 'B', 'C', 'D', 'E', 'F', 'G']"
      ]
     },
     "execution_count": 150,
     "metadata": {},
     "output_type": "execute_result"
    }
   ],
   "source": [
    "df.deck.fillna(method = 'ffill', inplace = True)\n",
    "df.deck"
   ]
  },
  {
   "cell_type": "code",
   "execution_count": 154,
   "metadata": {},
   "outputs": [
    {
     "name": "stdout",
     "output_type": "stream",
     "text": [
      "  c1  c2  c3\n",
      "0  a   1   1\n",
      "1  a   1   1\n",
      "2  b   1   2\n",
      "3  a   2   2\n",
      "4  b   2   2\n",
      "0    False\n",
      "1     True\n",
      "2    False\n",
      "3    False\n",
      "4    False\n",
      "dtype: bool\n",
      "0    False\n",
      "1     True\n",
      "2    False\n",
      "3     True\n",
      "4     True\n",
      "Name: c1, dtype: bool\n"
     ]
    }
   ],
   "source": [
    "df = pd.DataFrame({'c1':['a', 'a', 'b', 'a', 'b'],\n",
    "                  'c2':[1, 1, 1, 2, 2],\n",
    "                  'c3':[1, 1, 2, 2, 2]})\n",
    "\n",
    "print(df)\n",
    "\n",
    "df_dup = df.duplicated()\n",
    "print(df_dup)\n",
    "\n",
    "print(df['c1'].duplicated())"
   ]
  },
  {
   "cell_type": "code",
   "execution_count": 155,
   "metadata": {},
   "outputs": [
    {
     "data": {
      "text/html": [
       "<div>\n",
       "<style scoped>\n",
       "    .dataframe tbody tr th:only-of-type {\n",
       "        vertical-align: middle;\n",
       "    }\n",
       "\n",
       "    .dataframe tbody tr th {\n",
       "        vertical-align: top;\n",
       "    }\n",
       "\n",
       "    .dataframe thead th {\n",
       "        text-align: right;\n",
       "    }\n",
       "</style>\n",
       "<table border=\"1\" class=\"dataframe\">\n",
       "  <thead>\n",
       "    <tr style=\"text-align: right;\">\n",
       "      <th></th>\n",
       "      <th>c1</th>\n",
       "      <th>c2</th>\n",
       "      <th>c3</th>\n",
       "    </tr>\n",
       "  </thead>\n",
       "  <tbody>\n",
       "    <tr>\n",
       "      <th>0</th>\n",
       "      <td>a</td>\n",
       "      <td>1</td>\n",
       "      <td>1</td>\n",
       "    </tr>\n",
       "    <tr>\n",
       "      <th>2</th>\n",
       "      <td>b</td>\n",
       "      <td>1</td>\n",
       "      <td>2</td>\n",
       "    </tr>\n",
       "    <tr>\n",
       "      <th>3</th>\n",
       "      <td>a</td>\n",
       "      <td>2</td>\n",
       "      <td>2</td>\n",
       "    </tr>\n",
       "    <tr>\n",
       "      <th>4</th>\n",
       "      <td>b</td>\n",
       "      <td>2</td>\n",
       "      <td>2</td>\n",
       "    </tr>\n",
       "  </tbody>\n",
       "</table>\n",
       "</div>"
      ],
      "text/plain": [
       "  c1  c2  c3\n",
       "0  a   1   1\n",
       "2  b   1   2\n",
       "3  a   2   2\n",
       "4  b   2   2"
      ]
     },
     "execution_count": 155,
     "metadata": {},
     "output_type": "execute_result"
    }
   ],
   "source": [
    "df2 = df.drop_duplicates()\n",
    "\n",
    "df2"
   ]
  }
 ],
 "metadata": {
  "kernelspec": {
   "display_name": "pandas_nb",
   "language": "python",
   "name": "python3"
  },
  "language_info": {
   "codemirror_mode": {
    "name": "ipython",
    "version": 3
   },
   "file_extension": ".py",
   "mimetype": "text/x-python",
   "name": "python",
   "nbconvert_exporter": "python",
   "pygments_lexer": "ipython3",
   "version": "3.11.3"
  },
  "orig_nbformat": 4
 },
 "nbformat": 4,
 "nbformat_minor": 2
}
