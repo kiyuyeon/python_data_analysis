{
 "cells": [
  {
   "cell_type": "code",
   "execution_count": 1,
   "metadata": {},
   "outputs": [],
   "source": [
    "import pandas as pd\n",
    "import numpy as np"
   ]
  },
  {
   "cell_type": "code",
   "execution_count": 14,
   "metadata": {},
   "outputs": [
    {
     "name": "stdout",
     "output_type": "stream",
     "text": [
      "{'a': 1, 'b': 2, 'c': 3}\n",
      "<class 'dict'>\n",
      "3\n",
      "sr = \n",
      " a    1\n",
      "b    2\n",
      "c    3\n",
      "dtype: int64\n",
      "type =  <class 'pandas.core.series.Series'>\n"
     ]
    }
   ],
   "source": [
    "dict_data = {'a':1,'b':2,'c':3}\n",
    "\n",
    "print(dict_data)\n",
    "print(type(dict_data))\n",
    "print(len(dict_data))\n",
    "# key = a , value = 1\n",
    "sr = pd.Series(dict_data)\n",
    "print('sr = \\n',sr)\n",
    "#series 변환 이유 : 편리한 함수를 사용할수있기때문에 변환\n",
    "print('type = ',type(sr))"
   ]
  },
  {
   "cell_type": "code",
   "execution_count": 22,
   "metadata": {},
   "outputs": [
    {
     "name": "stdout",
     "output_type": "stream",
     "text": [
      "{'a': 1, 'b': 2, 'c': 3}\n",
      "key dict_keys(['a', 'b', 'c'])\n",
      "value dict_values([1, 2, 3])\n",
      "item dict_items([('a', 1), ('b', 2), ('c', 3)])\n",
      "\n",
      "index : Index(['a', 'b', 'c'], dtype='object')\n",
      "value [1 2 3]\n"
     ]
    }
   ],
   "source": [
    "# pd.series\n",
    "print(dict_data)\n",
    "print('key',dict_data.keys())\n",
    "print('value',dict_data.values())\n",
    "print('item',dict_data.items())\n",
    "\n",
    "print()\n",
    "# sr\n",
    "#dict = key == indx valuee == values\n",
    "\n",
    "print('index :',sr.index)\n",
    "print('value',sr.values)"
   ]
  },
  {
   "cell_type": "code",
   "execution_count": 56,
   "metadata": {},
   "outputs": [
    {
     "name": "stdout",
     "output_type": "stream",
     "text": [
      "1     apple\n",
      "2    banana\n",
      "3     grape\n",
      "dtype: object\n",
      "index : Index([1, 2, 3], dtype='int64')\n",
      "value ['apple' 'banana' 'grape']\n",
      "\n",
      "1    apple\n",
      "2    banan\n",
      "3    grape\n",
      "dtype: object\n",
      "<class 'pandas.core.series.Series'>\n"
     ]
    }
   ],
   "source": [
    "#From dict\n",
    "a = {1:'apple',2:'banana',3:'grape'}\n",
    "\n",
    "b= pd.Series(a)\n",
    "print(b)\n",
    "print('index :',b.index)\n",
    "print('value',b.values)\n",
    "print()\n",
    "#From list\n",
    "sr_list = pd.Series(['apple','banan','grape'],index=range(1,4))\n",
    "\n",
    "#From tuple\n",
    "sr_list = pd.Series(('apple','banan','grape'),index=range(1,4))\n",
    "\n",
    "\n",
    "print(sr_list)\n",
    "print(type(sr_list))"
   ]
  },
  {
   "cell_type": "code",
   "execution_count": 39,
   "metadata": {},
   "outputs": [
    {
     "name": "stdout",
     "output_type": "stream",
     "text": [
      "1     apple\n",
      "2    banana\n",
      "3     grape\n",
      "dtype: object\n",
      "Index([1, 2], dtype='int64')\n",
      "banana\n"
     ]
    }
   ],
   "source": [
    "print(b)\n",
    "print(b.index[0:2])\n",
    "print(b.values[1])"
   ]
  },
  {
   "cell_type": "code",
   "execution_count": 53,
   "metadata": {},
   "outputs": [
    {
     "name": "stdout",
     "output_type": "stream",
     "text": [
      "1    2019-01-02\n",
      "2          3.14\n",
      "3           ABC\n",
      "4           100\n",
      "5          True\n",
      "dtype: object\n",
      "loc :  1    2019-01-02\n",
      "2          3.14\n",
      "3           ABC\n",
      "dtype: object\n",
      "iloc :  2    3.14\n",
      "3     ABC\n",
      "dtype: object\n"
     ]
    }
   ],
   "source": [
    "sr_list = pd.Series(['2019-01-02',3.14,'ABC',100,True],index=range(1,6))\n",
    "print(sr_list)\n",
    "\n",
    "# 1    2019-01-02\n",
    "# 2          3.14\n",
    "# 3           ABC\n",
    "# 4           100\n",
    "# 5          True\n",
    "\n",
    "#inex로 접근한다. numpy처럼 0부터접근하지 않음\n",
    "sr_list[1:3]\n",
    "\n",
    "# loc방식 로케이션 엑셀형식으로 뽑겠다 index 값을 기준으로\n",
    "print('loc : ',sr_list.loc[1:3])\n",
    "\n",
    "# numpy 형식으로 뽑겠다 key값 기준 0->1->2 \n",
    "print('iloc : ',sr_list.iloc[1:3])"
   ]
  },
  {
   "cell_type": "code",
   "execution_count": 57,
   "metadata": {},
   "outputs": [
    {
     "name": "stdout",
     "output_type": "stream",
     "text": [
      "[1, 2, 3]\n"
     ]
    }
   ],
   "source": [
    "print(list(sr_list.index))"
   ]
  },
  {
   "cell_type": "code",
   "execution_count": 93,
   "metadata": {},
   "outputs": [
    {
     "name": "stdout",
     "output_type": "stream",
     "text": [
      "이름              영인\n",
      "생년월일    2010-05-05\n",
      "성별               여\n",
      "학생여부          True\n",
      "dtype: object\n",
      "\n",
      "이름              영인\n",
      "생년월일    2010-05-05\n",
      "성별               여\n",
      "dtype: object\n",
      "\n",
      "iloc =  이름              영인\n",
      "생년월일    2010-05-05\n",
      "dtype: object\n",
      "\n",
      "이름        영인\n",
      "학생여부    True\n",
      "dtype: object\n"
     ]
    }
   ],
   "source": [
    "tup_data = ('영인','2010-05-05','여',True)\n",
    "\n",
    "sr_from_tup = pd.Series(tup_data,index=['이름','생년월일','성별','학생여부'])\n",
    "\n",
    "print(sr_from_tup)\n",
    "sr_from_tup['이름']\n",
    "print()\n",
    "print(sr_from_tup['이름':'성별'])\n",
    "print()\n",
    "#iloc numpy 방식으로 0:1까지 출력\n",
    "print('iloc = ',sr_from_tup.iloc[:2])\n",
    "#필요한것만 뽑을경우\n",
    "print()\n",
    "print(sr_from_tup[['이름','학생여부']])"
   ]
  },
  {
   "cell_type": "code",
   "execution_count": 104,
   "metadata": {},
   "outputs": [
    {
     "name": "stdout",
     "output_type": "stream",
     "text": [
      "A     apple\n",
      "B     tmato\n",
      "C    banana\n",
      "D     melon\n",
      "E     grape\n",
      "F      pear\n",
      "dtype: object\n",
      "\n",
      "C    banana\n",
      "E     grape\n",
      "dtype: object\n",
      "iloc  C    banana\n",
      "E     grape\n",
      "dtype: object\n",
      "\n",
      "B     tmato\n",
      "C    banana\n",
      "D     melon\n",
      "E     grape\n",
      "dtype: object\n",
      "iloc  B     tmato\n",
      "C    banana\n",
      "D     melon\n",
      "E     grape\n",
      "dtype: object\n"
     ]
    }
   ],
   "source": [
    "data_ex = ['apple','tmato','banana','melon','grape','pear']\n",
    "\n",
    "\n",
    "sr_ex = pd.Series(data_ex,index=['A','B','C','D','E','F'])\n",
    "\n",
    "#inex를 list로 할수도 있다.\n",
    "sr_ex = pd.Series(data_ex,index=list('ABCDEF'))\n",
    "print(sr_ex)\n",
    "\n",
    "print()\n",
    "\n",
    "#Indexing iloc loc\n",
    "print(sr_ex[['C','E']])\n",
    "print('iloc ',sr_ex.iloc[[2,4]])\n",
    "\n",
    "print()\n",
    "\n",
    "\n",
    "#slicing iloc , lic\n",
    "print(sr_ex.loc['B':'E'])\n",
    "print('iloc ',sr_ex.iloc[1:5])\n"
   ]
  },
  {
   "cell_type": "code",
   "execution_count": 115,
   "metadata": {},
   "outputs": [
    {
     "name": "stdout",
     "output_type": "stream",
     "text": [
      "a    4\n",
      "b    5\n",
      "c    6\n",
      "d    7\n",
      "Name: variable, dtype: int16\n",
      "\n",
      "Kim     [10, 20]\n",
      "Park          20\n",
      "Hong          30\n",
      "dtype: object\n"
     ]
    }
   ],
   "source": [
    "ex_sr = pd.Series(range(4,8),index=list('abcd'),dtype=np.int16,name='variable')\n",
    "print(ex_sr)\n",
    "\n",
    "\n",
    "print()\n",
    "#list 사용\n",
    "ex_ez = [[10,20],20,30]\n",
    "ex_ssr = pd.Series(ex_ez,index=['Kim','Park','Hong'])\n",
    "print(ex_ssr)\n",
    "\n",
    "#dict 사용\n",
    "dict_type = {\n",
    "    \n",
    "    'kim' : [10,20],\n",
    "    'kim' : 20,\n",
    "    'kim' : 10\n",
    "\n",
    "}"
   ]
  },
  {
   "cell_type": "code",
   "execution_count": 124,
   "metadata": {},
   "outputs": [
    {
     "name": "stdout",
     "output_type": "stream",
     "text": [
      "{'C0': [1, 2, 3], 'c1': [4, 5, 6], 'c2': [7, 8, 9], 'c3': [10, 11, 12], 'c4': [13, 14, 15]}\n",
      "   C0  c1  c2  c3  c4\n",
      "1   1   4   7  10  13\n",
      "2   2   5   8  11  14\n",
      "3   3   6   9  12  15\n"
     ]
    }
   ],
   "source": [
    "# Data Frame\n",
    "\n",
    "dict_data = {\n",
    "    'C0':[1,2,3],'c1':[4,5,6],'c2':[7,8,9],\n",
    "    'c3':[10,11,12],'c4':[13,14,15] \n",
    "}\n",
    "\n",
    "print(dict_data)\n",
    "df = pd.DataFrame(dict_data,index=range(1,4))   \n",
    "print(df)"
   ]
  },
  {
   "cell_type": "code",
   "execution_count": 138,
   "metadata": {},
   "outputs": [
    {
     "name": "stdout",
     "output_type": "stream",
     "text": [
      "{'수학': [90, 80, 70], '영어': [98, 89, 95], '성별': ['남', '남', '여'], '합격': [True, False, True]}\n",
      "    수학  영어 성별     합격\n",
      "김씨  90  98  남   True\n",
      "이씨  80  89  남  False\n",
      "박씨  70  95  여   True\n"
     ]
    }
   ],
   "source": [
    "test ={\n",
    "    '수학':[90,80,70],\n",
    "    '영어':[98,89,95],\n",
    "    '성별':['남','남','여'],\n",
    "    '합격':[True,False,True]\n",
    "    \n",
    "}\n",
    "print(test)\n",
    "test_d = pd.DataFrame(test,index=['김씨','이씨','박씨'])\n",
    "print(test_d)\n",
    "\n"
   ]
  },
  {
   "cell_type": "code",
   "execution_count": 150,
   "metadata": {},
   "outputs": [
    {
     "name": "stdout",
     "output_type": "stream",
     "text": [
      "    수학  영어 성별     힙격\n",
      "김씨  90  98  남   True\n",
      "이씨  80  89  남  False\n",
      "박씨  70  95  여   True\n",
      "Index(['김씨', '이씨', '박씨'], dtype='object')\n",
      "Index(['수학', '영어', '성별', '힙격'], dtype='object')\n"
     ]
    }
   ],
   "source": [
    "df_from_list= pd.DataFrame(\n",
    "    [[90,98,'남',True],\n",
    "     [80,89,'남',False],\n",
    "     [70,95,'여',True]],\n",
    "     columns=['수학','영어','성별','힙격'],\n",
    "    index=['김씨','이씨','박씨']\n",
    "    )\n",
    "\n",
    "print(df_from_list)\n",
    "print(df_from_list.index)\n",
    "print(df_from_list.columns)\n",
    "\n"
   ]
  },
  {
   "cell_type": "code",
   "execution_count": 152,
   "metadata": {},
   "outputs": [
    {
     "name": "stdout",
     "output_type": "stream",
     "text": [
      "     1  2    3\n",
      "준서  15  남  덕영중\n",
      "예은  17  여  수리중\n",
      "    나이 성별   학교\n",
      "준서  15  남  덕영중\n",
      "예은  17  여  수리중\n"
     ]
    }
   ],
   "source": [
    "\n",
    "list_ex = pd.DataFrame([[15,'남','덕영중'],[17,'여','수리중']]\n",
    "                       ,index=['준서','예은'],columns=range(1,4))\n",
    "print(list_ex)\n",
    "\n",
    "\n",
    "list_ex = pd.DataFrame([[15,'남','덕영중'],[17,'여','수리중']]\n",
    "                       ,index=['준서','예은'],columns=['나이','성별','학교'])\n",
    "print(list_ex)\n"
   ]
  },
  {
   "cell_type": "code",
   "execution_count": 157,
   "metadata": {},
   "outputs": [
    {
     "name": "stdout",
     "output_type": "stream",
     "text": [
      "   color size  price   class\n",
      "1  green    M   13.5  class1\n",
      "2    red    L   15.3  class2\n"
     ]
    }
   ],
   "source": [
    "df = pd.DataFrame(\n",
    "    [['green','M',13.5,'class1'],\n",
    "     ['red','L',15.3,'class2']]\n",
    ")\n",
    "\n",
    "df.columns = ['color','size','price','class']\n",
    "df.index= range(1,3)\n",
    "print(df)"
   ]
  },
  {
   "cell_type": "code",
   "execution_count": 165,
   "metadata": {},
   "outputs": [
    {
     "name": "stdout",
     "output_type": "stream",
     "text": [
      "    나이 성별   학교\n",
      "준서  15  남  영우중\n",
      "은별  17  여  에티중\n",
      "    연령 남여   학교\n",
      "준서  15  남  영우중\n",
      "은별  17  여  에티중\n",
      "     연령 남여   학교\n",
      "학생1  15  남  영우중\n",
      "학생2  17  여  에티중\n"
     ]
    }
   ],
   "source": [
    "# DataFrame 수정\n",
    "\n",
    "df = pd.DataFrame(\n",
    "    [[15,'남','영우중'],\n",
    "     [17,'여','에티중']],\n",
    "    columns = ['나이','성별','학교'],\n",
    "    index = ['준서','은별']\n",
    ")\n",
    "\n",
    "print(df)\n",
    "\n",
    "df.rename(columns={'나이':'연령','성별' :'남여'}\n",
    "          ,inplace=True)\n",
    "print(df)\n",
    "df.rename(index={'준서':'학생1','은별':'학생2'},inplace=True)\n",
    "print(df)"
   ]
  },
  {
   "cell_type": "code",
   "execution_count": 202,
   "metadata": {},
   "outputs": [
    {
     "name": "stdout",
     "output_type": "stream",
     "text": [
      "    수학  영어   음악   체육\n",
      "서준  90  98   85  100\n",
      "우현  80  89   95   90\n",
      "인아  70  95  100   90\n",
      "    수학  영어   음악  체육\n",
      "인아  70  95  100  90\n"
     ]
    }
   ],
   "source": [
    "exam_data= {\n",
    "    '수학' : [90,80,70],'영어':[98,89,95],'음악':[85,95,100],'체육':[100,90,90]\n",
    "}\n",
    "\n",
    "df = pd.DataFrame(exam_data,index=['서준','우현','인아'])\n",
    "print(df)\n",
    "print(df.drop(['서준','우현'],axis=0))\n",
    "\n"
   ]
  },
  {
   "cell_type": "code",
   "execution_count": 203,
   "metadata": {},
   "outputs": [
    {
     "name": "stdout",
     "output_type": "stream",
     "text": [
      "None\n"
     ]
    }
   ],
   "source": [
    "df1=df.copy()\n",
    "print(df.drop('수학',axis=1,inplace=True))\n",
    "\n"
   ]
  },
  {
   "cell_type": "code",
   "execution_count": 220,
   "metadata": {},
   "outputs": [
    {
     "name": "stdout",
     "output_type": "stream",
     "text": [
      "   A           B    C      D    E\n",
      "0  1  2010-07-20  1.0   test  foo\n",
      "1  2  2010-07-20  1.0  train  foo\n",
      "2  1  2010-07-20  1.0   test  foo\n",
      "3  2  2010-07-20  1.0  train  foo\n"
     ]
    },
    {
     "data": {
      "text/html": [
       "<div>\n",
       "<style scoped>\n",
       "    .dataframe tbody tr th:only-of-type {\n",
       "        vertical-align: middle;\n",
       "    }\n",
       "\n",
       "    .dataframe tbody tr th {\n",
       "        vertical-align: top;\n",
       "    }\n",
       "\n",
       "    .dataframe thead th {\n",
       "        text-align: right;\n",
       "    }\n",
       "</style>\n",
       "<table border=\"1\" class=\"dataframe\">\n",
       "  <thead>\n",
       "    <tr style=\"text-align: right;\">\n",
       "      <th></th>\n",
       "      <th>Type</th>\n",
       "      <th>Date</th>\n",
       "      <th>C</th>\n",
       "      <th>D</th>\n",
       "      <th>E</th>\n",
       "    </tr>\n",
       "  </thead>\n",
       "  <tbody>\n",
       "    <tr>\n",
       "      <th>A</th>\n",
       "      <td>1</td>\n",
       "      <td>2010-07-20</td>\n",
       "      <td>1.0</td>\n",
       "      <td>test</td>\n",
       "      <td>foo</td>\n",
       "    </tr>\n",
       "    <tr>\n",
       "      <th>B</th>\n",
       "      <td>2</td>\n",
       "      <td>2010-07-20</td>\n",
       "      <td>1.0</td>\n",
       "      <td>train</td>\n",
       "      <td>foo</td>\n",
       "    </tr>\n",
       "    <tr>\n",
       "      <th>2</th>\n",
       "      <td>1</td>\n",
       "      <td>2010-07-20</td>\n",
       "      <td>1.0</td>\n",
       "      <td>test</td>\n",
       "      <td>foo</td>\n",
       "    </tr>\n",
       "  </tbody>\n",
       "</table>\n",
       "</div>"
      ],
      "text/plain": [
       "   Type        Date    C      D    E\n",
       "A     1  2010-07-20  1.0   test  foo\n",
       "B     2  2010-07-20  1.0  train  foo\n",
       "2     1  2010-07-20  1.0   test  foo"
      ]
     },
     "execution_count": 220,
     "metadata": {},
     "output_type": "execute_result"
    }
   ],
   "source": [
    "df_rename = pd.DataFrame({\n",
    "    'A' : [1,2,1,2],\n",
    "    'B' : '2010-07-20',\n",
    "    'C' : 1.0,\n",
    "    'D' : ['test','train','test','train'],\n",
    "    'E' : 'foo'\n",
    "})\n",
    "\n",
    "print(df_rename)\n",
    "df_rename.drop(3,axis=0,inplace=True)\n",
    "df_rename\n",
    "\n",
    "df_rename.rename(columns={'A':'Type','B':'Date'}\n",
    "                 ,index={0:'A',1:'B'},inplace=True)\n",
    "df_rename\n"
   ]
  },
  {
   "cell_type": "code",
   "execution_count": 253,
   "metadata": {},
   "outputs": [
    {
     "name": "stdout",
     "output_type": "stream",
     "text": [
      "    수학  영어   음악   체육\n",
      "서준  90  98   85  100\n",
      "우현  80  89   95   90\n",
      "인아  70  95  100   90\n",
      "    수학  음악\n",
      "서준  90  85\n",
      "우현  80  95\n",
      "    영어  음악   체육\n",
      "서준  98  85  100\n",
      "우현  89  95   90\n"
     ]
    }
   ],
   "source": [
    "exam_data= {\n",
    "    '수학' : [90,80,70],'영어':[98,89,95],'음악':[85,95,100],'체육':[100,90,90]\n",
    "}\n",
    "\n",
    "df = pd.DataFrame(exam_data,index=['서준','우현','인아'])\n",
    "print(df)\n",
    "\n",
    "df['서준':'인아']\n",
    "\n",
    "print(df.loc['서준':'우현',['수학','음악']])\n",
    "\n",
    "print(df.iloc[0:2,1:])\n",
    "\n",
    "df.set_index('수학',inplace=True)\n",
    "print(df)"
   ]
  },
  {
   "cell_type": "code",
   "execution_count": 272,
   "metadata": {},
   "outputs": [
    {
     "name": "stdout",
     "output_type": "stream",
     "text": [
      "   주식  다리갯수   이름 무리생활   비행\n",
      "0  고기     4   사자  yes   no\n",
      "1   풀     4   사슴  yes   no\n",
      "2  고기     4   늑대  yes   no\n",
      "3  고기     2  독수리  yes  yes\n",
      "4  잡식     2    곰   no  yes\n",
      "\n",
      "   주식  다리갯수   이름 무리생활   비행\n",
      "0  고기     4   사자  yes   no\n",
      "1   풀     4   사슴  yes   no\n",
      "2  고기     4   늑대  yes   no\n",
      "3  고기     2  독수리  yes  yes\n",
      "\n",
      "   주식  다리갯수   이름 무리생활   비행\n",
      "0  고기     4   사자  yes   no\n",
      "1   풀     4   사슴  yes   no\n",
      "2  고기     4   늑대  yes   no\n",
      "3  고기     2  독수리  yes  yes\n",
      "\n",
      "   주식   이름   비행\n",
      "0  고기   사자   no\n",
      "1   풀   사슴   no\n",
      "2  고기   늑대   no\n",
      "3  고기  독수리  yes\n",
      "4  잡식    곰  yes\n",
      "\n",
      "   주식   이름 무리생활\n",
      "0  고기   사자  yes\n",
      "2  고기   늑대  yes\n",
      "3  고기  독수리  yes\n"
     ]
    }
   ],
   "source": [
    "df_loc = pd.DataFrame([[\"고기\", 4, \"사자\", \"yes\", \"no\"],\n",
    "                      [\"풀\", 4, \"사슴\", \"yes\", \"no\"],\n",
    "                      [\"고기\", 4, \"늑대\", \"yes\", \"no\"],\n",
    "                      [\"고기\", 2, \"독수리\", \"yes\", \"yes\"],\n",
    "                      [\"잡식\", 2, \"곰\", \"no\", \"yes\"]],\n",
    "                     columns =  [\"주식\", \"다리갯수\", \"이름\", \"무리생활\", \"비행\"])\n",
    "print(df_loc)\n",
    "print()\n",
    "print(df_loc.iloc[0:4])\n",
    "print()\n",
    "print(df_loc.loc[0:3,:])\n",
    "print()\n",
    "print(df_loc.loc[:,['주식','이름','비행']])\n",
    "\n",
    "print()\n",
    "print(df_loc.loc[[0,2,3],['주식','이름','무리생활']])\n",
    "\n"
   ]
  },
  {
   "cell_type": "code",
   "execution_count": 279,
   "metadata": {},
   "outputs": [
    {
     "name": "stdout",
     "output_type": "stream",
     "text": [
      "   이름  수학  영어   음악   체육\n",
      "0  서준  90  98   85  100\n",
      "1  우현  80  89   95   90\n",
      "2  인아  70  95  100   90\n",
      "   이름  수학  영어   음악   체육  국어   물리\n",
      "0  서준  90  98   85  100  62  100\n",
      "1  우현  80  89   95   90  77  100\n",
      "2  인아  70  95  100   90  59  100\n",
      "3  흥민  95  70   90  100  80  100\n"
     ]
    }
   ],
   "source": [
    "## Insert, Delete\n",
    "\n",
    "exam_data = {'이름' : [ '서준', '우현', '인아'],\n",
    "             '수학' : [ 90, 80, 70],\n",
    "             '영어' : [ 98, 89, 95],\n",
    "             '음악' : [ 85, 95, 100],\n",
    "             '체육' : [ 100, 90, 90]}\n",
    "\n",
    "df = pd.DataFrame(exam_data)\n",
    "print(df)\n",
    "\n",
    "df['국어'] = [62,77,59]\n",
    "df['물리'] = 100\n",
    "\n",
    "df.loc[3]=['흥민',95,70,90,100,80,100]\n",
    "\n",
    "print(df)"
   ]
  },
  {
   "cell_type": "code",
   "execution_count": 290,
   "metadata": {},
   "outputs": [
    {
     "name": "stdout",
     "output_type": "stream",
     "text": [
      "   이름  수학  영어   음악   체육\n",
      "0  서준  90  98   85  100\n",
      "1  우현  80  89   95   90\n",
      "2  인아  70  95  100   90\n",
      "    수학  영어   음악   체육\n",
      "이름                  \n",
      "서준  90  98   85  100\n",
      "우현  80  89   95   90\n",
      "인아  70  95  100   90\n",
      "    수학  영어   음악  체육\n",
      "이름                 \n",
      "서준  90  98   85  50\n",
      "우현  80  89   95  90\n",
      "인아  70  95  100  90\n"
     ]
    }
   ],
   "source": []
  },
  {
   "cell_type": "code",
   "execution_count": 296,
   "metadata": {},
   "outputs": [
    {
     "name": "stdout",
     "output_type": "stream",
     "text": [
      "   이름  수학  영어   음악   체육\n",
      "0  서준  90  98   85  100\n",
      "1  우현  80  89   95   90\n",
      "2  인아  70  95  100   90\n",
      "    수학  영어   음악   체육\n",
      "이름                  \n",
      "서준  90  98   85  100\n",
      "우현  80  89   95   90\n",
      "인아  70  95  100   90\n",
      "    수학  영어   음악  체육\n",
      "이름                 \n",
      "서준  90  98   85  50\n",
      "우현  80  89   95  90\n",
      "인아  70  95  100  90\n",
      "    수학  영어   음악  체육\n",
      "이름                 \n",
      "서준  90  98   85  50\n",
      "우현  80  70   95  90\n",
      "인아  70  95  100  90\n",
      "이름   서준  우현   인아\n",
      "수학   90  80   70\n",
      "영어   98  70   95\n",
      "음악  100  95  100\n",
      "체육   50  90   90\n",
      "이름   서준  우현   인아\n",
      "수학   90  80   70\n",
      "영어   98  70   95\n",
      "음악  100  95  100\n",
      "체육   50  90   90\n"
     ]
    }
   ],
   "source": [
    "exam_data = {'이름' : [ '서준', '우현', '인아'],\n",
    "             '수학' : [ 90, 80, 70],\n",
    "             '영어' : [ 98, 89, 95],\n",
    "             '음악' : [ 85, 95, 100],\n",
    "             '체육' : [ 100, 90, 90]}\n",
    "\n",
    "df = pd.DataFrame(exam_data)\n",
    "\n",
    "print(df)\n",
    "df.set_index('이름',inplace = True)\n",
    "print(df)\n",
    "df.loc['서준','체육']=50\n",
    "print(df)\n",
    "\n",
    "df.iloc[1,1]=70\n",
    "\n",
    "print(df)\n",
    "\n",
    "df.loc['서준',['음악','체육']]=100,50\n",
    "\n",
    "print(df.T)\n",
    "print(df.transpose())\n"
   ]
  },
  {
   "cell_type": "code",
   "execution_count": 312,
   "metadata": {},
   "outputs": [
    {
     "name": "stdout",
     "output_type": "stream",
     "text": [
      "    C0  c1  c2  c3  c4\n",
      "r0   1   4   7  10  13\n",
      "r1   2   5   8  11  14\n",
      "r2   3   6   9  12  15\n",
      "  index  C0  c1  c2  c3  c4\n",
      "0    r0   1   4   7  10  13\n",
      "1    r1   2   5   8  11  14\n",
      "2    r2   3   6   9  12  15\n",
      "    C0  c1  c2  c3  c4\n",
      "r2   3   6   9  12  15\n",
      "r1   2   5   8  11  14\n",
      "r0   1   4   7  10  13\n"
     ]
    }
   ],
   "source": [
    "dict_data = {\n",
    "    'C0':[1,2,3],'c1':[4,5,6],'c2':[7,8,9],\n",
    "    'c3':[10,11,12],'c4':[13,14,15] \n",
    "}\n",
    "df=pd.DataFrame(dict_data,\n",
    "                index = ['r0','r1','r2']) \n",
    "print(df)\n",
    "\n",
    "new_index = ['r0','r1','r2','r3','r4']\n",
    "\n",
    "df2=df.reindex(new_index)\n",
    "\n",
    "df2 = df.reindex(new_index,fill_value=0)\n",
    "\n",
    "df3=df.reset_index()\n",
    "\n",
    "# print(df2)\n",
    "print(df3)\n",
    "\n",
    "df4=df.sort_index(ascending=False)\n",
    "\n",
    "print(df4)"
   ]
  },
  {
   "cell_type": "code",
   "execution_count": 317,
   "metadata": {},
   "outputs": [
    {
     "name": "stdout",
     "output_type": "stream",
     "text": [
      "    C0  c1  c2  c3  c4\n",
      "r2   3   6   9  12  15\n",
      "r1   2   5   8  11  14\n",
      "r0   1   4   7  10  13\n"
     ]
    }
   ],
   "source": [
    "df5 = df.sort_values(by='c4',ascending=False)\n",
    "print(df5)"
   ]
  },
  {
   "cell_type": "code",
   "execution_count": 321,
   "metadata": {},
   "outputs": [
    {
     "name": "stdout",
     "output_type": "stream",
     "text": [
      "국어    100\n",
      "영어     80\n",
      "수학     90\n",
      "dtype: int64\n",
      "국어    50.0\n",
      "영어    40.0\n",
      "수학    45.0\n",
      "dtype: float64\n"
     ]
    }
   ],
   "source": [
    "# Broadcasting\n",
    "\n",
    "student1 = pd.Series({'국어':100,'영어':80,'수학':90})\n",
    "\n",
    "print(student1)\n",
    "\n",
    "student1_per = (student1*100)/ 200\n",
    "print(student1_per)"
   ]
  },
  {
   "cell_type": "code",
   "execution_count": 346,
   "metadata": {},
   "outputs": [
    {
     "name": "stdout",
     "output_type": "stream",
     "text": [
      "         국어      영어      수학\n",
      "덧셈    180.0   170.0   170.0\n",
      "뺄셈     20.0   -10.0    10.0\n",
      "곱셈   8000.0  7200.0  7200.0\n",
      "나눗셈     1.2     0.9     1.1\n"
     ]
    }
   ],
   "source": [
    "student1_pre = pd.Series({'국어':100,'영어':80,'수학':90})\n",
    "student1_post = pd.Series({'국어':80,'영어':90,'수학':80})\n",
    "\n",
    "addition = student1_pre+student1_post\n",
    "subtraction = student1_pre-student1_post\n",
    "\n",
    "multi = student1_pre*student1_post\n",
    "dicision = student1_pre/student1_post\n",
    "\n",
    "result = pd.DataFrame([addition,subtraction,multi,dicision],\n",
    "                      index = ['덧셈','뺄셈','곱셈','나눗셈'])\n",
    "print(result.round(1))"
   ]
  },
  {
   "cell_type": "code",
   "execution_count": 352,
   "metadata": {},
   "outputs": [
    {
     "name": "stdout",
     "output_type": "stream",
     "text": [
      "Requirement already satisfied: seaborn in c:\\users\\chwo6\\anaconda3\\envs\\pandas_study\\lib\\site-packages (0.12.2)\n",
      "Requirement already satisfied: numpy!=1.24.0,>=1.17 in c:\\users\\chwo6\\anaconda3\\envs\\pandas_study\\lib\\site-packages (from seaborn) (1.24.3)\n",
      "Requirement already satisfied: pandas>=0.25 in c:\\users\\chwo6\\anaconda3\\envs\\pandas_study\\lib\\site-packages (from seaborn) (2.0.1)\n",
      "Requirement already satisfied: matplotlib!=3.6.1,>=3.1 in c:\\users\\chwo6\\anaconda3\\envs\\pandas_study\\lib\\site-packages (from seaborn) (3.7.1)\n",
      "Requirement already satisfied: contourpy>=1.0.1 in c:\\users\\chwo6\\anaconda3\\envs\\pandas_study\\lib\\site-packages (from matplotlib!=3.6.1,>=3.1->seaborn) (1.0.7)\n",
      "Requirement already satisfied: cycler>=0.10 in c:\\users\\chwo6\\anaconda3\\envs\\pandas_study\\lib\\site-packages (from matplotlib!=3.6.1,>=3.1->seaborn) (0.11.0)\n",
      "Requirement already satisfied: fonttools>=4.22.0 in c:\\users\\chwo6\\anaconda3\\envs\\pandas_study\\lib\\site-packages (from matplotlib!=3.6.1,>=3.1->seaborn) (4.39.3)\n",
      "Requirement already satisfied: kiwisolver>=1.0.1 in c:\\users\\chwo6\\anaconda3\\envs\\pandas_study\\lib\\site-packages (from matplotlib!=3.6.1,>=3.1->seaborn) (1.4.4)\n",
      "Requirement already satisfied: packaging>=20.0 in c:\\users\\chwo6\\anaconda3\\envs\\pandas_study\\lib\\site-packages (from matplotlib!=3.6.1,>=3.1->seaborn) (23.1)\n",
      "Requirement already satisfied: pillow>=6.2.0 in c:\\users\\chwo6\\anaconda3\\envs\\pandas_study\\lib\\site-packages (from matplotlib!=3.6.1,>=3.1->seaborn) (9.5.0)\n",
      "Requirement already satisfied: pyparsing>=2.3.1 in c:\\users\\chwo6\\anaconda3\\envs\\pandas_study\\lib\\site-packages (from matplotlib!=3.6.1,>=3.1->seaborn) (3.0.9)\n",
      "Requirement already satisfied: python-dateutil>=2.7 in c:\\users\\chwo6\\anaconda3\\envs\\pandas_study\\lib\\site-packages (from matplotlib!=3.6.1,>=3.1->seaborn) (2.8.2)\n",
      "Requirement already satisfied: pytz>=2020.1 in c:\\users\\chwo6\\anaconda3\\envs\\pandas_study\\lib\\site-packages (from pandas>=0.25->seaborn) (2023.3)\n",
      "Requirement already satisfied: tzdata>=2022.1 in c:\\users\\chwo6\\anaconda3\\envs\\pandas_study\\lib\\site-packages (from pandas>=0.25->seaborn) (2023.3)\n",
      "Requirement already satisfied: six>=1.5 in c:\\users\\chwo6\\anaconda3\\envs\\pandas_study\\lib\\site-packages (from python-dateutil>=2.7->matplotlib!=3.6.1,>=3.1->seaborn) (1.16.0)\n"
     ]
    }
   ],
   "source": [
    "! pip install seaborn"
   ]
  },
  {
   "cell_type": "code",
   "execution_count": 2,
   "metadata": {},
   "outputs": [
    {
     "name": "stdout",
     "output_type": "stream",
     "text": [
      "   survived  pclass     sex   age  sibsp  parch     fare embarked  class   \n",
      "0         0       3    male  22.0      1      0   7.2500        S  Third  \\\n",
      "1         1       1  female  38.0      1      0  71.2833        C  First   \n",
      "2         1       3  female  26.0      0      0   7.9250        S  Third   \n",
      "3         1       1  female  35.0      1      0  53.1000        S  First   \n",
      "4         0       3    male  35.0      0      0   8.0500        S  Third   \n",
      "\n",
      "     who  adult_male deck  embark_town alive  alone  \n",
      "0    man        True  NaN  Southampton    no  False  \n",
      "1  woman       False    C    Cherbourg   yes  False  \n",
      "2  woman       False  NaN  Southampton   yes   True  \n",
      "3  woman       False    C  Southampton   yes  False  \n",
      "4    man        True  NaN  Southampton    no   True  \n",
      "     survived   age     fare      won\n",
      "0           0  22.0   7.2500   7250.0\n",
      "1           1  38.0  71.2833  71283.3\n",
      "2           1  26.0   7.9250   7925.0\n",
      "3           1  35.0  53.1000  53100.0\n",
      "4           0  35.0   8.0500   8050.0\n",
      "..        ...   ...      ...      ...\n",
      "886         0  27.0  13.0000  13000.0\n",
      "887         1  19.0  30.0000  30000.0\n",
      "888         0   NaN  23.4500  23450.0\n",
      "889         1  26.0  30.0000  30000.0\n",
      "890         0  32.0   7.7500   7750.0\n",
      "\n",
      "[891 rows x 4 columns]\n"
     ]
    }
   ],
   "source": [
    "import seaborn as sns\n",
    "\n",
    "titanic = sns.load_dataset('titanic')\n",
    "\n",
    "print(titanic.head())\n",
    "# print(titanic.shape)\n",
    "\n",
    "# print(titanic2)\n",
    "titanic2 = pd.DataFrame(titanic)\n",
    "titanic2['won'] = titanic['fare']*1000\n",
    "\n",
    "\n",
    "\n",
    "# print(titanic2)\n",
    "print(titanic2.loc[:,['survived','age','fare','won']])\n",
    "# print()"
   ]
  },
  {
   "cell_type": "code",
   "execution_count": 13,
   "metadata": {},
   "outputs": [
    {
     "name": "stdout",
     "output_type": "stream",
     "text": [
      "1     apple\n",
      "2    banana\n",
      "3    grapes\n",
      "dtype: object\n",
      "1     apple\n",
      "2    banana\n",
      "3    grapes\n",
      "dtype: object\n",
      "2    banana\n",
      "3    grapes\n",
      "dtype: object\n",
      "2    banana\n",
      "3    grapes\n",
      "dtype: object\n"
     ]
    }
   ],
   "source": [
    "str_list = pd.Series(['apple','banana','grapes'],index=[1,2,3])\n",
    "sr_dict = pd.Series({'1':'apple','2':'banana','3':'grapes'})\n",
    "\n",
    "print(str_list)\n",
    "print(sr_dict)\n",
    "\n",
    "print(sr_dict.iloc[1:])\n",
    "print(sr_dict.loc['2':])\n"
   ]
  },
  {
   "cell_type": "code",
   "execution_count": 17,
   "metadata": {},
   "outputs": [
    {
     "name": "stdout",
     "output_type": "stream",
     "text": [
      "   c0  c1 c2\n",
      "1   1  10  A\n",
      "2   2  10  B\n",
      "3   3  10  C\n"
     ]
    }
   ],
   "source": [
    "dict_data={\n",
    "    'c0':[1,2,3],\n",
    "    'c1':10,\n",
    "    'c2':list('ABC'),\n",
    "}\n",
    "\n",
    "df = pd.DataFrame(dict_data,index = range(1,4))\n",
    "                    \n",
    "\n",
    "print(df)"
   ]
  },
  {
   "cell_type": "code",
   "execution_count": 20,
   "metadata": {},
   "outputs": [
    {
     "data": {
      "text/html": [
       "<div>\n",
       "<style scoped>\n",
       "    .dataframe tbody tr th:only-of-type {\n",
       "        vertical-align: middle;\n",
       "    }\n",
       "\n",
       "    .dataframe tbody tr th {\n",
       "        vertical-align: top;\n",
       "    }\n",
       "\n",
       "    .dataframe thead th {\n",
       "        text-align: right;\n",
       "    }\n",
       "</style>\n",
       "<table border=\"1\" class=\"dataframe\">\n",
       "  <thead>\n",
       "    <tr style=\"text-align: right;\">\n",
       "      <th></th>\n",
       "      <th>수학</th>\n",
       "      <th>영어</th>\n",
       "      <th>성별</th>\n",
       "      <th>합격여부</th>\n",
       "    </tr>\n",
       "  </thead>\n",
       "  <tbody>\n",
       "    <tr>\n",
       "      <th>1</th>\n",
       "      <td>90</td>\n",
       "      <td>80</td>\n",
       "      <td>남</td>\n",
       "      <td>False</td>\n",
       "    </tr>\n",
       "    <tr>\n",
       "      <th>2</th>\n",
       "      <td>80</td>\n",
       "      <td>89</td>\n",
       "      <td>남</td>\n",
       "      <td>True</td>\n",
       "    </tr>\n",
       "    <tr>\n",
       "      <th>3</th>\n",
       "      <td>70</td>\n",
       "      <td>95</td>\n",
       "      <td>남</td>\n",
       "      <td>False</td>\n",
       "    </tr>\n",
       "  </tbody>\n",
       "</table>\n",
       "</div>"
      ],
      "text/plain": [
       "   수학  영어 성별   합격여부\n",
       "1  90  80  남  False\n",
       "2  80  89  남   True\n",
       "3  70  95  남  False"
      ]
     },
     "execution_count": 20,
     "metadata": {},
     "output_type": "execute_result"
    }
   ],
   "source": [
    "df_from_list=pd.DataFrame(\n",
    "    [[90,80,'남',False],\n",
    "     [80,89,'남',True],\n",
    "     [70,95,'남',False]],\n",
    "    columns =['수학','영어','성별','합격여부'],\n",
    "    index = [1,2,3]\n",
    ")\n",
    "df_from_list"
   ]
  },
  {
   "cell_type": "code",
   "execution_count": 23,
   "metadata": {},
   "outputs": [
    {
     "name": "stdout",
     "output_type": "stream",
     "text": [
      "     과학  영어 성별   합격여부\n",
      "학생1  90  80  남  False\n",
      "2    80  89  남   True\n",
      "3    70  95  남  False\n"
     ]
    }
   ],
   "source": [
    "df_from_list.rename(columns={'수학':'과학'},\n",
    "                    index={1: '학생1'},inplace = True)\n",
    "print(df_from_list)"
   ]
  },
  {
   "cell_type": "code",
   "execution_count": 28,
   "metadata": {},
   "outputs": [
    {
     "ename": "KeyError",
     "evalue": "\"['합격여부'] not found in axis\"",
     "output_type": "error",
     "traceback": [
      "\u001b[1;31m---------------------------------------------------------------------------\u001b[0m",
      "\u001b[1;31mKeyError\u001b[0m                                  Traceback (most recent call last)",
      "Cell \u001b[1;32mIn[28], line 3\u001b[0m\n\u001b[0;32m      1\u001b[0m save_df\u001b[39m=\u001b[39m df_from_list\u001b[39m.\u001b[39mcopy()\n\u001b[1;32m----> 3\u001b[0m df_from_list\u001b[39m.\u001b[39;49mdrop([\u001b[39m'\u001b[39;49m\u001b[39m합격여부\u001b[39;49m\u001b[39m'\u001b[39;49m],axis\u001b[39m=\u001b[39;49m\u001b[39m1\u001b[39;49m,inplace\u001b[39m=\u001b[39;49m\u001b[39mTrue\u001b[39;49;00m)\n\u001b[0;32m      5\u001b[0m \u001b[39mprint\u001b[39m(save_df)\n\u001b[0;32m      6\u001b[0m \u001b[39mprint\u001b[39m(df_from_list)\n",
      "File \u001b[1;32mc:\\Users\\chwo6\\anaconda3\\envs\\pandas_study\\Lib\\site-packages\\pandas\\core\\frame.py:5268\u001b[0m, in \u001b[0;36mDataFrame.drop\u001b[1;34m(self, labels, axis, index, columns, level, inplace, errors)\u001b[0m\n\u001b[0;32m   5120\u001b[0m \u001b[39mdef\u001b[39;00m \u001b[39mdrop\u001b[39m(\n\u001b[0;32m   5121\u001b[0m     \u001b[39mself\u001b[39m,\n\u001b[0;32m   5122\u001b[0m     labels: IndexLabel \u001b[39m=\u001b[39m \u001b[39mNone\u001b[39;00m,\n\u001b[1;32m   (...)\u001b[0m\n\u001b[0;32m   5129\u001b[0m     errors: IgnoreRaise \u001b[39m=\u001b[39m \u001b[39m\"\u001b[39m\u001b[39mraise\u001b[39m\u001b[39m\"\u001b[39m,\n\u001b[0;32m   5130\u001b[0m ) \u001b[39m-\u001b[39m\u001b[39m>\u001b[39m DataFrame \u001b[39m|\u001b[39m \u001b[39mNone\u001b[39;00m:\n\u001b[0;32m   5131\u001b[0m \u001b[39m    \u001b[39m\u001b[39m\"\"\"\u001b[39;00m\n\u001b[0;32m   5132\u001b[0m \u001b[39m    Drop specified labels from rows or columns.\u001b[39;00m\n\u001b[0;32m   5133\u001b[0m \n\u001b[1;32m   (...)\u001b[0m\n\u001b[0;32m   5266\u001b[0m \u001b[39m            weight  1.0     0.8\u001b[39;00m\n\u001b[0;32m   5267\u001b[0m \u001b[39m    \"\"\"\u001b[39;00m\n\u001b[1;32m-> 5268\u001b[0m     \u001b[39mreturn\u001b[39;00m \u001b[39msuper\u001b[39;49m()\u001b[39m.\u001b[39;49mdrop(\n\u001b[0;32m   5269\u001b[0m         labels\u001b[39m=\u001b[39;49mlabels,\n\u001b[0;32m   5270\u001b[0m         axis\u001b[39m=\u001b[39;49maxis,\n\u001b[0;32m   5271\u001b[0m         index\u001b[39m=\u001b[39;49mindex,\n\u001b[0;32m   5272\u001b[0m         columns\u001b[39m=\u001b[39;49mcolumns,\n\u001b[0;32m   5273\u001b[0m         level\u001b[39m=\u001b[39;49mlevel,\n\u001b[0;32m   5274\u001b[0m         inplace\u001b[39m=\u001b[39;49minplace,\n\u001b[0;32m   5275\u001b[0m         errors\u001b[39m=\u001b[39;49merrors,\n\u001b[0;32m   5276\u001b[0m     )\n",
      "File \u001b[1;32mc:\\Users\\chwo6\\anaconda3\\envs\\pandas_study\\Lib\\site-packages\\pandas\\core\\generic.py:4549\u001b[0m, in \u001b[0;36mNDFrame.drop\u001b[1;34m(self, labels, axis, index, columns, level, inplace, errors)\u001b[0m\n\u001b[0;32m   4547\u001b[0m \u001b[39mfor\u001b[39;00m axis, labels \u001b[39min\u001b[39;00m axes\u001b[39m.\u001b[39mitems():\n\u001b[0;32m   4548\u001b[0m     \u001b[39mif\u001b[39;00m labels \u001b[39mis\u001b[39;00m \u001b[39mnot\u001b[39;00m \u001b[39mNone\u001b[39;00m:\n\u001b[1;32m-> 4549\u001b[0m         obj \u001b[39m=\u001b[39m obj\u001b[39m.\u001b[39;49m_drop_axis(labels, axis, level\u001b[39m=\u001b[39;49mlevel, errors\u001b[39m=\u001b[39;49merrors)\n\u001b[0;32m   4551\u001b[0m \u001b[39mif\u001b[39;00m inplace:\n\u001b[0;32m   4552\u001b[0m     \u001b[39mself\u001b[39m\u001b[39m.\u001b[39m_update_inplace(obj)\n",
      "File \u001b[1;32mc:\\Users\\chwo6\\anaconda3\\envs\\pandas_study\\Lib\\site-packages\\pandas\\core\\generic.py:4591\u001b[0m, in \u001b[0;36mNDFrame._drop_axis\u001b[1;34m(self, labels, axis, level, errors, only_slice)\u001b[0m\n\u001b[0;32m   4589\u001b[0m         new_axis \u001b[39m=\u001b[39m axis\u001b[39m.\u001b[39mdrop(labels, level\u001b[39m=\u001b[39mlevel, errors\u001b[39m=\u001b[39merrors)\n\u001b[0;32m   4590\u001b[0m     \u001b[39melse\u001b[39;00m:\n\u001b[1;32m-> 4591\u001b[0m         new_axis \u001b[39m=\u001b[39m axis\u001b[39m.\u001b[39;49mdrop(labels, errors\u001b[39m=\u001b[39;49merrors)\n\u001b[0;32m   4592\u001b[0m     indexer \u001b[39m=\u001b[39m axis\u001b[39m.\u001b[39mget_indexer(new_axis)\n\u001b[0;32m   4594\u001b[0m \u001b[39m# Case for non-unique axis\u001b[39;00m\n\u001b[0;32m   4595\u001b[0m \u001b[39melse\u001b[39;00m:\n",
      "File \u001b[1;32mc:\\Users\\chwo6\\anaconda3\\envs\\pandas_study\\Lib\\site-packages\\pandas\\core\\indexes\\base.py:6696\u001b[0m, in \u001b[0;36mIndex.drop\u001b[1;34m(self, labels, errors)\u001b[0m\n\u001b[0;32m   6694\u001b[0m \u001b[39mif\u001b[39;00m mask\u001b[39m.\u001b[39many():\n\u001b[0;32m   6695\u001b[0m     \u001b[39mif\u001b[39;00m errors \u001b[39m!=\u001b[39m \u001b[39m\"\u001b[39m\u001b[39mignore\u001b[39m\u001b[39m\"\u001b[39m:\n\u001b[1;32m-> 6696\u001b[0m         \u001b[39mraise\u001b[39;00m \u001b[39mKeyError\u001b[39;00m(\u001b[39mf\u001b[39m\u001b[39m\"\u001b[39m\u001b[39m{\u001b[39;00m\u001b[39mlist\u001b[39m(labels[mask])\u001b[39m}\u001b[39;00m\u001b[39m not found in axis\u001b[39m\u001b[39m\"\u001b[39m)\n\u001b[0;32m   6697\u001b[0m     indexer \u001b[39m=\u001b[39m indexer[\u001b[39m~\u001b[39mmask]\n\u001b[0;32m   6698\u001b[0m \u001b[39mreturn\u001b[39;00m \u001b[39mself\u001b[39m\u001b[39m.\u001b[39mdelete(indexer)\n",
      "\u001b[1;31mKeyError\u001b[0m: \"['합격여부'] not found in axis\""
     ]
    }
   ],
   "source": [
    "save_df= df_from_list.copy()\n",
    "\n",
    "df_from_list.drop(['합격여부'],axis=1,inplace=True)\n",
    "\n",
    "print(save_df)\n",
    "print(df_from_list)"
   ]
  },
  {
   "cell_type": "code",
   "execution_count": 30,
   "metadata": {},
   "outputs": [],
   "source": [
    "exam_data = {\n",
    "    '수학': [90, 80, 70],\n",
    "    '영어': [98, 89, 95],\n",
    "    '음악': [85, 95, 100],\n",
    "    '체육':[ 100, 90, 90]\n",
    "}\n",
    "\n",
    "df = pd.DataFrame(exam_data,\n",
    "                  index= ['길동','흥민','민재'])"
   ]
  },
  {
   "cell_type": "code",
   "execution_count": 36,
   "metadata": {},
   "outputs": [
    {
     "data": {
      "text/html": [
       "<div>\n",
       "<style scoped>\n",
       "    .dataframe tbody tr th:only-of-type {\n",
       "        vertical-align: middle;\n",
       "    }\n",
       "\n",
       "    .dataframe tbody tr th {\n",
       "        vertical-align: top;\n",
       "    }\n",
       "\n",
       "    .dataframe thead th {\n",
       "        text-align: right;\n",
       "    }\n",
       "</style>\n",
       "<table border=\"1\" class=\"dataframe\">\n",
       "  <thead>\n",
       "    <tr style=\"text-align: right;\">\n",
       "      <th></th>\n",
       "      <th>음악</th>\n",
       "      <th>체육</th>\n",
       "    </tr>\n",
       "  </thead>\n",
       "  <tbody>\n",
       "    <tr>\n",
       "      <th>흥민</th>\n",
       "      <td>95</td>\n",
       "      <td>90</td>\n",
       "    </tr>\n",
       "    <tr>\n",
       "      <th>민재</th>\n",
       "      <td>100</td>\n",
       "      <td>90</td>\n",
       "    </tr>\n",
       "  </tbody>\n",
       "</table>\n",
       "</div>"
      ],
      "text/plain": [
       "     음악  체육\n",
       "흥민   95  90\n",
       "민재  100  90"
      ]
     },
     "execution_count": 36,
     "metadata": {},
     "output_type": "execute_result"
    }
   ],
   "source": [
    "df['수학']\n",
    "\n",
    "df.loc['흥민':'민재',:]\n",
    "df.iloc[1:,2:]"
   ]
  },
  {
   "cell_type": "code",
   "execution_count": 39,
   "metadata": {},
   "outputs": [
    {
     "name": "stdout",
     "output_type": "stream",
     "text": [
      "       영어   음악   체육\n",
      "   수학              \n",
      "길동 90  98   85  100\n",
      "흥민 80  89   95   90\n",
      "민재 70  95  100   90\n"
     ]
    },
    {
     "ename": "KeyError",
     "evalue": "\"None of ['수학'] are in the columns\"",
     "output_type": "error",
     "traceback": [
      "\u001b[1;31m---------------------------------------------------------------------------\u001b[0m",
      "\u001b[1;31mKeyError\u001b[0m                                  Traceback (most recent call last)",
      "\u001b[1;32m~\\AppData\\Local\\Temp\\ipykernel_3712\\430276086.py\u001b[0m in \u001b[0;36m?\u001b[1;34m()\u001b[0m\n\u001b[0;32m      1\u001b[0m \u001b[0mprint\u001b[0m\u001b[1;33m(\u001b[0m\u001b[0mdf\u001b[0m\u001b[1;33m)\u001b[0m\u001b[1;33m\u001b[0m\u001b[1;33m\u001b[0m\u001b[0m\n\u001b[0;32m      2\u001b[0m \u001b[1;33m\u001b[0m\u001b[0m\n\u001b[1;32m----> 3\u001b[1;33m \u001b[0mdf\u001b[0m\u001b[1;33m.\u001b[0m\u001b[0mset_index\u001b[0m\u001b[1;33m(\u001b[0m\u001b[1;34m'수학'\u001b[0m\u001b[1;33m,\u001b[0m\u001b[0minplace\u001b[0m\u001b[1;33m=\u001b[0m\u001b[1;32mTrue\u001b[0m\u001b[1;33m,\u001b[0m\u001b[0mappend\u001b[0m\u001b[1;33m=\u001b[0m\u001b[1;32mTrue\u001b[0m\u001b[1;33m)\u001b[0m\u001b[1;33m\u001b[0m\u001b[1;33m\u001b[0m\u001b[0m\n\u001b[0m",
      "\u001b[1;32mc:\\Users\\chwo6\\anaconda3\\envs\\pandas_study\\Lib\\site-packages\\pandas\\core\\frame.py\u001b[0m in \u001b[0;36m?\u001b[1;34m(self, keys, drop, append, inplace, verify_integrity)\u001b[0m\n\u001b[0;32m   5865\u001b[0m                     \u001b[1;32mif\u001b[0m \u001b[1;32mnot\u001b[0m \u001b[0mfound\u001b[0m\u001b[1;33m:\u001b[0m\u001b[1;33m\u001b[0m\u001b[1;33m\u001b[0m\u001b[0m\n\u001b[0;32m   5866\u001b[0m                         \u001b[0mmissing\u001b[0m\u001b[1;33m.\u001b[0m\u001b[0mappend\u001b[0m\u001b[1;33m(\u001b[0m\u001b[0mcol\u001b[0m\u001b[1;33m)\u001b[0m\u001b[1;33m\u001b[0m\u001b[1;33m\u001b[0m\u001b[0m\n\u001b[0;32m   5867\u001b[0m \u001b[1;33m\u001b[0m\u001b[0m\n\u001b[0;32m   5868\u001b[0m         \u001b[1;32mif\u001b[0m \u001b[0mmissing\u001b[0m\u001b[1;33m:\u001b[0m\u001b[1;33m\u001b[0m\u001b[1;33m\u001b[0m\u001b[0m\n\u001b[1;32m-> 5869\u001b[1;33m             \u001b[1;32mraise\u001b[0m \u001b[0mKeyError\u001b[0m\u001b[1;33m(\u001b[0m\u001b[1;34mf\"None of {missing} are in the columns\"\u001b[0m\u001b[1;33m)\u001b[0m\u001b[1;33m\u001b[0m\u001b[1;33m\u001b[0m\u001b[0m\n\u001b[0m\u001b[0;32m   5870\u001b[0m \u001b[1;33m\u001b[0m\u001b[0m\n\u001b[0;32m   5871\u001b[0m         \u001b[1;32mif\u001b[0m \u001b[0minplace\u001b[0m\u001b[1;33m:\u001b[0m\u001b[1;33m\u001b[0m\u001b[1;33m\u001b[0m\u001b[0m\n\u001b[0;32m   5872\u001b[0m             \u001b[0mframe\u001b[0m \u001b[1;33m=\u001b[0m \u001b[0mself\u001b[0m\u001b[1;33m\u001b[0m\u001b[1;33m\u001b[0m\u001b[0m\n",
      "\u001b[1;31mKeyError\u001b[0m: \"None of ['수학'] are in the columns\""
     ]
    }
   ],
   "source": [
    "print(df)\n",
    "\n",
    "df.set_index('수학',inplace=True,append=True)\n"
   ]
  },
  {
   "cell_type": "code",
   "execution_count": 42,
   "metadata": {},
   "outputs": [
    {
     "name": "stdout",
     "output_type": "stream",
     "text": [
      "       영어   음악   체육\n",
      "   수학              \n",
      "길동 90  98   85  100\n",
      "흥민 80  89   95   90\n",
      "민재 70  95  100   90\n",
      "       영어   음악   체육\n",
      "   수학              \n",
      "민재 70  95  100   90\n",
      "흥민 80  89   95   90\n",
      "길동 90  98   85  100\n"
     ]
    }
   ],
   "source": [
    "print(df)\n",
    "\n",
    "df_sorted=df.sort_values(by= '음악',ascending=False)\n",
    "print(df_sorted)"
   ]
  },
  {
   "cell_type": "code",
   "execution_count": 44,
   "metadata": {},
   "outputs": [
    {
     "name": "stdout",
     "output_type": "stream",
     "text": [
      "국어    190\n",
      "수학    170\n",
      "영어    160\n",
      "dtype: int64\n"
     ]
    }
   ],
   "source": [
    "student1_pre = pd.Series({'국어':100, '영어':80, '수학':90})\n",
    "student1_post = pd.Series({'수학':80, '국어':90, '영어':80})\n",
    "\n",
    "addition = student1_pre + student1_post\n",
    "\n",
    "print(addition)"
   ]
  },
  {
   "cell_type": "code",
   "execution_count": 51,
   "metadata": {},
   "outputs": [
    {
     "data": {
      "text/plain": [
       "<function seaborn.utils.get_dataset_names()>"
      ]
     },
     "execution_count": 51,
     "metadata": {},
     "output_type": "execute_result"
    }
   ],
   "source": [
    "import seaborn as sns\n",
    "sns.get_dataset_names\n",
    "\n"
   ]
  },
  {
   "cell_type": "code",
   "execution_count": 52,
   "metadata": {},
   "outputs": [
    {
     "name": "stdout",
     "output_type": "stream",
     "text": [
      "Requirement already satisfied: matplotlib in c:\\users\\chwo6\\anaconda3\\envs\\pandas_study\\lib\\site-packages (3.7.1)\n",
      "Requirement already satisfied: contourpy>=1.0.1 in c:\\users\\chwo6\\anaconda3\\envs\\pandas_study\\lib\\site-packages (from matplotlib) (1.0.7)\n",
      "Requirement already satisfied: cycler>=0.10 in c:\\users\\chwo6\\anaconda3\\envs\\pandas_study\\lib\\site-packages (from matplotlib) (0.11.0)\n",
      "Requirement already satisfied: fonttools>=4.22.0 in c:\\users\\chwo6\\anaconda3\\envs\\pandas_study\\lib\\site-packages (from matplotlib) (4.39.3)\n",
      "Requirement already satisfied: kiwisolver>=1.0.1 in c:\\users\\chwo6\\anaconda3\\envs\\pandas_study\\lib\\site-packages (from matplotlib) (1.4.4)\n",
      "Requirement already satisfied: numpy>=1.20 in c:\\users\\chwo6\\anaconda3\\envs\\pandas_study\\lib\\site-packages (from matplotlib) (1.24.3)\n",
      "Requirement already satisfied: packaging>=20.0 in c:\\users\\chwo6\\anaconda3\\envs\\pandas_study\\lib\\site-packages (from matplotlib) (23.1)\n",
      "Requirement already satisfied: pillow>=6.2.0 in c:\\users\\chwo6\\anaconda3\\envs\\pandas_study\\lib\\site-packages (from matplotlib) (9.5.0)\n",
      "Requirement already satisfied: pyparsing>=2.3.1 in c:\\users\\chwo6\\anaconda3\\envs\\pandas_study\\lib\\site-packages (from matplotlib) (3.0.9)\n",
      "Requirement already satisfied: python-dateutil>=2.7 in c:\\users\\chwo6\\anaconda3\\envs\\pandas_study\\lib\\site-packages (from matplotlib) (2.8.2)\n",
      "Requirement already satisfied: six>=1.5 in c:\\users\\chwo6\\anaconda3\\envs\\pandas_study\\lib\\site-packages (from python-dateutil>=2.7->matplotlib) (1.16.0)\n"
     ]
    }
   ],
   "source": [
    "! pip install matplotlib"
   ]
  },
  {
   "cell_type": "code",
   "execution_count": 50,
   "metadata": {},
   "outputs": [],
   "source": [
    "import numpy as np\n",
    "import pandas as pd\n",
    "import matplotlib.pyplot as plt"
   ]
  },
  {
   "cell_type": "code",
   "execution_count": 54,
   "metadata": {},
   "outputs": [
    {
     "ename": "FileNotFoundError",
     "evalue": "[Errno 2] No such file or directory: './read_csv_sample.csv'",
     "output_type": "error",
     "traceback": [
      "\u001b[1;31m---------------------------------------------------------------------------\u001b[0m",
      "\u001b[1;31mFileNotFoundError\u001b[0m                         Traceback (most recent call last)",
      "Cell \u001b[1;32mIn[54], line 1\u001b[0m\n\u001b[1;32m----> 1\u001b[0m df1 \u001b[39m=\u001b[39m pd\u001b[39m.\u001b[39;49mread_csv(\u001b[39m'\u001b[39;49m\u001b[39m./read_csv_sample.csv\u001b[39;49m\u001b[39m'\u001b[39;49m,header\u001b[39m=\u001b[39;49m\u001b[39mNone\u001b[39;49;00m)\n",
      "File \u001b[1;32mc:\\Users\\chwo6\\anaconda3\\envs\\pandas_study\\Lib\\site-packages\\pandas\\io\\parsers\\readers.py:912\u001b[0m, in \u001b[0;36mread_csv\u001b[1;34m(filepath_or_buffer, sep, delimiter, header, names, index_col, usecols, dtype, engine, converters, true_values, false_values, skipinitialspace, skiprows, skipfooter, nrows, na_values, keep_default_na, na_filter, verbose, skip_blank_lines, parse_dates, infer_datetime_format, keep_date_col, date_parser, date_format, dayfirst, cache_dates, iterator, chunksize, compression, thousands, decimal, lineterminator, quotechar, quoting, doublequote, escapechar, comment, encoding, encoding_errors, dialect, on_bad_lines, delim_whitespace, low_memory, memory_map, float_precision, storage_options, dtype_backend)\u001b[0m\n\u001b[0;32m    899\u001b[0m kwds_defaults \u001b[39m=\u001b[39m _refine_defaults_read(\n\u001b[0;32m    900\u001b[0m     dialect,\n\u001b[0;32m    901\u001b[0m     delimiter,\n\u001b[1;32m   (...)\u001b[0m\n\u001b[0;32m    908\u001b[0m     dtype_backend\u001b[39m=\u001b[39mdtype_backend,\n\u001b[0;32m    909\u001b[0m )\n\u001b[0;32m    910\u001b[0m kwds\u001b[39m.\u001b[39mupdate(kwds_defaults)\n\u001b[1;32m--> 912\u001b[0m \u001b[39mreturn\u001b[39;00m _read(filepath_or_buffer, kwds)\n",
      "File \u001b[1;32mc:\\Users\\chwo6\\anaconda3\\envs\\pandas_study\\Lib\\site-packages\\pandas\\io\\parsers\\readers.py:577\u001b[0m, in \u001b[0;36m_read\u001b[1;34m(filepath_or_buffer, kwds)\u001b[0m\n\u001b[0;32m    574\u001b[0m _validate_names(kwds\u001b[39m.\u001b[39mget(\u001b[39m\"\u001b[39m\u001b[39mnames\u001b[39m\u001b[39m\"\u001b[39m, \u001b[39mNone\u001b[39;00m))\n\u001b[0;32m    576\u001b[0m \u001b[39m# Create the parser.\u001b[39;00m\n\u001b[1;32m--> 577\u001b[0m parser \u001b[39m=\u001b[39m TextFileReader(filepath_or_buffer, \u001b[39m*\u001b[39;49m\u001b[39m*\u001b[39;49mkwds)\n\u001b[0;32m    579\u001b[0m \u001b[39mif\u001b[39;00m chunksize \u001b[39mor\u001b[39;00m iterator:\n\u001b[0;32m    580\u001b[0m     \u001b[39mreturn\u001b[39;00m parser\n",
      "File \u001b[1;32mc:\\Users\\chwo6\\anaconda3\\envs\\pandas_study\\Lib\\site-packages\\pandas\\io\\parsers\\readers.py:1407\u001b[0m, in \u001b[0;36mTextFileReader.__init__\u001b[1;34m(self, f, engine, **kwds)\u001b[0m\n\u001b[0;32m   1404\u001b[0m     \u001b[39mself\u001b[39m\u001b[39m.\u001b[39moptions[\u001b[39m\"\u001b[39m\u001b[39mhas_index_names\u001b[39m\u001b[39m\"\u001b[39m] \u001b[39m=\u001b[39m kwds[\u001b[39m\"\u001b[39m\u001b[39mhas_index_names\u001b[39m\u001b[39m\"\u001b[39m]\n\u001b[0;32m   1406\u001b[0m \u001b[39mself\u001b[39m\u001b[39m.\u001b[39mhandles: IOHandles \u001b[39m|\u001b[39m \u001b[39mNone\u001b[39;00m \u001b[39m=\u001b[39m \u001b[39mNone\u001b[39;00m\n\u001b[1;32m-> 1407\u001b[0m \u001b[39mself\u001b[39m\u001b[39m.\u001b[39m_engine \u001b[39m=\u001b[39m \u001b[39mself\u001b[39;49m\u001b[39m.\u001b[39;49m_make_engine(f, \u001b[39mself\u001b[39;49m\u001b[39m.\u001b[39;49mengine)\n",
      "File \u001b[1;32mc:\\Users\\chwo6\\anaconda3\\envs\\pandas_study\\Lib\\site-packages\\pandas\\io\\parsers\\readers.py:1661\u001b[0m, in \u001b[0;36mTextFileReader._make_engine\u001b[1;34m(self, f, engine)\u001b[0m\n\u001b[0;32m   1659\u001b[0m     \u001b[39mif\u001b[39;00m \u001b[39m\"\u001b[39m\u001b[39mb\u001b[39m\u001b[39m\"\u001b[39m \u001b[39mnot\u001b[39;00m \u001b[39min\u001b[39;00m mode:\n\u001b[0;32m   1660\u001b[0m         mode \u001b[39m+\u001b[39m\u001b[39m=\u001b[39m \u001b[39m\"\u001b[39m\u001b[39mb\u001b[39m\u001b[39m\"\u001b[39m\n\u001b[1;32m-> 1661\u001b[0m \u001b[39mself\u001b[39m\u001b[39m.\u001b[39mhandles \u001b[39m=\u001b[39m get_handle(\n\u001b[0;32m   1662\u001b[0m     f,\n\u001b[0;32m   1663\u001b[0m     mode,\n\u001b[0;32m   1664\u001b[0m     encoding\u001b[39m=\u001b[39;49m\u001b[39mself\u001b[39;49m\u001b[39m.\u001b[39;49moptions\u001b[39m.\u001b[39;49mget(\u001b[39m\"\u001b[39;49m\u001b[39mencoding\u001b[39;49m\u001b[39m\"\u001b[39;49m, \u001b[39mNone\u001b[39;49;00m),\n\u001b[0;32m   1665\u001b[0m     compression\u001b[39m=\u001b[39;49m\u001b[39mself\u001b[39;49m\u001b[39m.\u001b[39;49moptions\u001b[39m.\u001b[39;49mget(\u001b[39m\"\u001b[39;49m\u001b[39mcompression\u001b[39;49m\u001b[39m\"\u001b[39;49m, \u001b[39mNone\u001b[39;49;00m),\n\u001b[0;32m   1666\u001b[0m     memory_map\u001b[39m=\u001b[39;49m\u001b[39mself\u001b[39;49m\u001b[39m.\u001b[39;49moptions\u001b[39m.\u001b[39;49mget(\u001b[39m\"\u001b[39;49m\u001b[39mmemory_map\u001b[39;49m\u001b[39m\"\u001b[39;49m, \u001b[39mFalse\u001b[39;49;00m),\n\u001b[0;32m   1667\u001b[0m     is_text\u001b[39m=\u001b[39;49mis_text,\n\u001b[0;32m   1668\u001b[0m     errors\u001b[39m=\u001b[39;49m\u001b[39mself\u001b[39;49m\u001b[39m.\u001b[39;49moptions\u001b[39m.\u001b[39;49mget(\u001b[39m\"\u001b[39;49m\u001b[39mencoding_errors\u001b[39;49m\u001b[39m\"\u001b[39;49m, \u001b[39m\"\u001b[39;49m\u001b[39mstrict\u001b[39;49m\u001b[39m\"\u001b[39;49m),\n\u001b[0;32m   1669\u001b[0m     storage_options\u001b[39m=\u001b[39;49m\u001b[39mself\u001b[39;49m\u001b[39m.\u001b[39;49moptions\u001b[39m.\u001b[39;49mget(\u001b[39m\"\u001b[39;49m\u001b[39mstorage_options\u001b[39;49m\u001b[39m\"\u001b[39;49m, \u001b[39mNone\u001b[39;49;00m),\n\u001b[0;32m   1670\u001b[0m )\n\u001b[0;32m   1671\u001b[0m \u001b[39massert\u001b[39;00m \u001b[39mself\u001b[39m\u001b[39m.\u001b[39mhandles \u001b[39mis\u001b[39;00m \u001b[39mnot\u001b[39;00m \u001b[39mNone\u001b[39;00m\n\u001b[0;32m   1672\u001b[0m f \u001b[39m=\u001b[39m \u001b[39mself\u001b[39m\u001b[39m.\u001b[39mhandles\u001b[39m.\u001b[39mhandle\n",
      "File \u001b[1;32mc:\\Users\\chwo6\\anaconda3\\envs\\pandas_study\\Lib\\site-packages\\pandas\\io\\common.py:859\u001b[0m, in \u001b[0;36mget_handle\u001b[1;34m(path_or_buf, mode, encoding, compression, memory_map, is_text, errors, storage_options)\u001b[0m\n\u001b[0;32m    854\u001b[0m \u001b[39melif\u001b[39;00m \u001b[39misinstance\u001b[39m(handle, \u001b[39mstr\u001b[39m):\n\u001b[0;32m    855\u001b[0m     \u001b[39m# Check whether the filename is to be opened in binary mode.\u001b[39;00m\n\u001b[0;32m    856\u001b[0m     \u001b[39m# Binary mode does not support 'encoding' and 'newline'.\u001b[39;00m\n\u001b[0;32m    857\u001b[0m     \u001b[39mif\u001b[39;00m ioargs\u001b[39m.\u001b[39mencoding \u001b[39mand\u001b[39;00m \u001b[39m\"\u001b[39m\u001b[39mb\u001b[39m\u001b[39m\"\u001b[39m \u001b[39mnot\u001b[39;00m \u001b[39min\u001b[39;00m ioargs\u001b[39m.\u001b[39mmode:\n\u001b[0;32m    858\u001b[0m         \u001b[39m# Encoding\u001b[39;00m\n\u001b[1;32m--> 859\u001b[0m         handle \u001b[39m=\u001b[39m \u001b[39mopen\u001b[39;49m(\n\u001b[0;32m    860\u001b[0m             handle,\n\u001b[0;32m    861\u001b[0m             ioargs\u001b[39m.\u001b[39;49mmode,\n\u001b[0;32m    862\u001b[0m             encoding\u001b[39m=\u001b[39;49mioargs\u001b[39m.\u001b[39;49mencoding,\n\u001b[0;32m    863\u001b[0m             errors\u001b[39m=\u001b[39;49merrors,\n\u001b[0;32m    864\u001b[0m             newline\u001b[39m=\u001b[39;49m\u001b[39m\"\u001b[39;49m\u001b[39m\"\u001b[39;49m,\n\u001b[0;32m    865\u001b[0m         )\n\u001b[0;32m    866\u001b[0m     \u001b[39melse\u001b[39;00m:\n\u001b[0;32m    867\u001b[0m         \u001b[39m# Binary mode\u001b[39;00m\n\u001b[0;32m    868\u001b[0m         handle \u001b[39m=\u001b[39m \u001b[39mopen\u001b[39m(handle, ioargs\u001b[39m.\u001b[39mmode)\n",
      "\u001b[1;31mFileNotFoundError\u001b[0m: [Errno 2] No such file or directory: './read_csv_sample.csv'"
     ]
    }
   ],
   "source": [
    "df1 = pd.read_csv('./read_csv_sample.csv',header=None)"
   ]
  }
 ],
 "metadata": {
  "kernelspec": {
   "display_name": "pandas_study",
   "language": "python",
   "name": "python3"
  },
  "language_info": {
   "codemirror_mode": {
    "name": "ipython",
    "version": 3
   },
   "file_extension": ".py",
   "mimetype": "text/x-python",
   "name": "python",
   "nbconvert_exporter": "python",
   "pygments_lexer": "ipython3",
   "version": "3.11.3"
  },
  "orig_nbformat": 4
 },
 "nbformat": 4,
 "nbformat_minor": 2
}
