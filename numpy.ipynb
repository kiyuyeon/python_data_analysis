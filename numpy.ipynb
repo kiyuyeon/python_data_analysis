{
 "cells": [
  {
   "cell_type": "code",
   "execution_count": 4,
   "metadata": {},
   "outputs": [
    {
     "name": "stdout",
     "output_type": "stream",
     "text": [
      "Requirement already satisfied: pandas in c:\\users\\chwo6\\anaconda3\\envs\\pandas_study\\lib\\site-packages (2.0.1)\n",
      "Requirement already satisfied: python-dateutil>=2.8.2 in c:\\users\\chwo6\\anaconda3\\envs\\pandas_study\\lib\\site-packages (from pandas) (2.8.2)\n",
      "Requirement already satisfied: pytz>=2020.1 in c:\\users\\chwo6\\anaconda3\\envs\\pandas_study\\lib\\site-packages (from pandas) (2023.3)\n",
      "Requirement already satisfied: tzdata>=2022.1 in c:\\users\\chwo6\\anaconda3\\envs\\pandas_study\\lib\\site-packages (from pandas) (2023.3)\n",
      "Requirement already satisfied: numpy>=1.21.0 in c:\\users\\chwo6\\anaconda3\\envs\\pandas_study\\lib\\site-packages (from pandas) (1.24.3)\n",
      "Requirement already satisfied: six>=1.5 in c:\\users\\chwo6\\anaconda3\\envs\\pandas_study\\lib\\site-packages (from python-dateutil>=2.8.2->pandas) (1.16.0)\n"
     ]
    }
   ],
   "source": [
    "! pip install pandas"
   ]
  },
  {
   "cell_type": "code",
   "execution_count": 1,
   "metadata": {},
   "outputs": [
    {
     "name": "stdout",
     "output_type": "stream",
     "text": [
      "2.0.1\n"
     ]
    }
   ],
   "source": [
    "import pandas as pd\n",
    "import numpy as np\n",
    "\n",
    "\n",
    "print(pd.__version__)\n",
    "\n"
   ]
  },
  {
   "cell_type": "code",
   "execution_count": 12,
   "metadata": {},
   "outputs": [
    {
     "name": "stdout",
     "output_type": "stream",
     "text": [
      "[1, 2, 4, 5]\n",
      "[[1, 3, 4], [2, 2, 6]]\n",
      "1 4\n",
      "[10, 'apple', True]\n"
     ]
    },
    {
     "data": {
      "text/plain": [
       "array(['10', 'apple', 'True'], dtype='<U11')"
      ]
     },
     "execution_count": 12,
     "metadata": {},
     "output_type": "execute_result"
    }
   ],
   "source": [
    "#list\n",
    "\n",
    "a = [1,2,4,5]\n",
    "\n",
    "a[1:3]\n",
    "print(a)\n",
    "\n",
    "\n",
    "b = [[1,3,4]\n",
    "     ,[2,2,6]]\n",
    "print(b)\n",
    "\n",
    "\n",
    "print(b[0][0],b[0][2])\n",
    "\n",
    "c = [10,'apple',True]\n",
    "\n",
    "print(c)\n",
    "\n",
    "np.array(c)"
   ]
  },
  {
   "cell_type": "code",
   "execution_count": 25,
   "metadata": {},
   "outputs": [
    {
     "name": "stdout",
     "output_type": "stream",
     "text": [
      "a =  [0 1 2 3 4]\n",
      "<class 'numpy.ndarray'>\n",
      "int8 \n",
      "\n",
      "[2 3 4]\n",
      "(5,)\n",
      "int8\n"
     ]
    }
   ],
   "source": [
    "# numpy\n",
    "\n",
    "a = np.array([0,1,2,3,4],dtype = np.int8)\n",
    "print('a = ', a)\n",
    "print(type(a))\n",
    "print(a.dtype,'\\n')\n",
    "\n",
    "print(a[2:])\n",
    "# attribute\n",
    "print(a.shape)\n",
    "print(a.dtype)\n"
   ]
  },
  {
   "cell_type": "code",
   "execution_count": 26,
   "metadata": {},
   "outputs": [
    {
     "data": {
      "text/plain": [
       "128.0"
      ]
     },
     "execution_count": 26,
     "metadata": {},
     "output_type": "execute_result"
    }
   ],
   "source": [
    "2**8/2"
   ]
  },
  {
   "cell_type": "code",
   "execution_count": 34,
   "metadata": {},
   "outputs": [
    {
     "name": "stdout",
     "output_type": "stream",
     "text": [
      "[1, 2, 3, 4, 5]\n",
      "[[1 2]\n",
      " [4 5]\n",
      " [7 8]]\n",
      "(3, 2)\n",
      "int32\n"
     ]
    }
   ],
   "source": [
    "print(list(range(1,6)))\n",
    "\n",
    "array = np.array([range(i,i+2)for i in [1,4,7]])\n",
    "print(array)\n",
    "\n",
    "print(array.shape)\n",
    "print(array.dtype)\n"
   ]
  },
  {
   "cell_type": "code",
   "execution_count": 35,
   "metadata": {},
   "outputs": [
    {
     "name": "stdout",
     "output_type": "stream",
     "text": [
      "(2,) [0 1]\n",
      "(1, 2) [[0 1]]\n"
     ]
    }
   ],
   "source": [
    "a = np.array([0,1]) #vetor\n",
    "b = np.array([[0,1]]) #matrix\n",
    "\n",
    "print(a.shape,a)\n",
    "print(b.shape,b)"
   ]
  },
  {
   "cell_type": "code",
   "execution_count": 41,
   "metadata": {},
   "outputs": [
    {
     "name": "stdout",
     "output_type": "stream",
     "text": [
      "[[1. 0. 0. 0. 0.]\n",
      " [0. 1. 0. 0. 0.]\n",
      " [0. 0. 1. 0. 0.]] \n",
      "\n",
      "[[1. 0. 0.]\n",
      " [0. 1. 0.]\n",
      " [0. 0. 1.]]\n",
      "[[1. 0. 0. 0. 0.]\n",
      " [0. 1. 0. 0. 0.]\n",
      " [0. 0. 1. 0. 0.]\n",
      " [0. 0. 0. 1. 0.]\n",
      " [0. 0. 0. 0. 1.]]\n"
     ]
    }
   ],
   "source": [
    "print(np.eye(3,5),'\\n')\n",
    "\n",
    "\n",
    "# Identity matrix\n",
    "print(np.identity(3))\n",
    "print(np.identity(5))"
   ]
  },
  {
   "cell_type": "code",
   "execution_count": 44,
   "metadata": {},
   "outputs": [
    {
     "data": {
      "text/plain": [
       "array([[0., 0., 0., 0.],\n",
       "       [0., 0., 0., 0.],\n",
       "       [0., 0., 0., 0.]])"
      ]
     },
     "execution_count": 44,
     "metadata": {},
     "output_type": "execute_result"
    }
   ],
   "source": [
    "np.zeros([3,4]) #리스트 []"
   ]
  },
  {
   "cell_type": "code",
   "execution_count": 47,
   "metadata": {},
   "outputs": [
    {
     "data": {
      "text/plain": [
       "array([[255., 255., 255., 255., 255.],\n",
       "       [255., 255., 255., 255., 255.],\n",
       "       [255., 255., 255., 255., 255.]])"
      ]
     },
     "execution_count": 47,
     "metadata": {},
     "output_type": "execute_result"
    }
   ],
   "source": [
    "np.ones((3,5))*255 #튜플()"
   ]
  },
  {
   "cell_type": "code",
   "execution_count": 52,
   "metadata": {},
   "outputs": [
    {
     "data": {
      "text/plain": [
       "array([[4, 4, 4, 4],\n",
       "       [4, 4, 4, 4],\n",
       "       [4, 4, 4, 4],\n",
       "       [4, 4, 4, 4],\n",
       "       [4, 4, 4, 4]])"
      ]
     },
     "execution_count": 52,
     "metadata": {},
     "output_type": "execute_result"
    }
   ],
   "source": [
    "np.full((5,4),4)"
   ]
  },
  {
   "cell_type": "code",
   "execution_count": 62,
   "metadata": {},
   "outputs": [
    {
     "name": "stdout",
     "output_type": "stream",
     "text": [
      "[[1 2]\n",
      " [3 4]]\n",
      "[1, 3, 5]\n",
      "[1 3 5]\n"
     ]
    }
   ],
   "source": [
    "array = np.array([range(i,i+2)for i in [1,3]])\n",
    "print(array)\n",
    "\n",
    "np.array([[1,2],[3,4]])\n",
    "\n",
    "print(list(range(1,7,2)))\n",
    "\n",
    "print(np.arange(1,7,2))\n"
   ]
  },
  {
   "cell_type": "code",
   "execution_count": 78,
   "metadata": {},
   "outputs": [
    {
     "name": "stdout",
     "output_type": "stream",
     "text": [
      "[[ 1  3  5  7  9]\n",
      " [ 3  5  7  9 11]]\n",
      "(2, 5)\n",
      "int64\n"
     ]
    }
   ],
   "source": [
    "array = np.array([range(i,i+9,2)for i in [1,3]],dtype = np.int64)\n",
    "# 배열 1 들어가거 1 부터 10까지 2씩 증가 3 들어가고 9까지 2씩 증가 \n",
    "print(array)\n",
    "\n",
    "print(array.shape)\n",
    "print(array.dtype)"
   ]
  },
  {
   "cell_type": "code",
   "execution_count": 83,
   "metadata": {},
   "outputs": [
    {
     "name": "stdout",
     "output_type": "stream",
     "text": [
      "[[ 1  3  5  7  9]\n",
      " [ 3  5  7  9 11]]\n",
      "(2, 5)\n",
      "int64\n"
     ]
    }
   ],
   "source": [
    "a1 = np.arange(1,10,2)\n",
    "a2 = np.arange(3,12,2)\n",
    "\n",
    "a = np.array([a1,a2],np.int64)\n",
    "print(a)\n",
    "print(a.shape)\n",
    "print(a.dtype)"
   ]
  },
  {
   "cell_type": "code",
   "execution_count": 100,
   "metadata": {},
   "outputs": [
    {
     "name": "stdout",
     "output_type": "stream",
     "text": [
      "[[2 0 0 0 0]\n",
      " [0 2 0 0 0]\n",
      " [0 0 2 0 0]\n",
      " [0 0 0 2 0]\n",
      " [0 0 0 0 2]]\n"
     ]
    }
   ],
   "source": [
    "i = np.identity(5,np.int64)*2\n",
    "print(i)"
   ]
  },
  {
   "cell_type": "code",
   "execution_count": 131,
   "metadata": {},
   "outputs": [
    {
     "name": "stdout",
     "output_type": "stream",
     "text": [
      "[ 0  1  2  3  4  5  6  7  8  9 10 11]\n",
      "[[ 0  1  2  3]\n",
      " [ 4  5  6  7]\n",
      " [ 8  9 10 11]]\n"
     ]
    }
   ],
   "source": [
    "arr = np.arange(12)\n",
    "\n",
    "arr_3by4 = arr.reshape(-1,4)\n",
    "\n",
    "print(arr)\n",
    "\n",
    "print(arr_3by4)"
   ]
  },
  {
   "cell_type": "code",
   "execution_count": 132,
   "metadata": {},
   "outputs": [
    {
     "name": "stdout",
     "output_type": "stream",
     "text": [
      "[[ 0  1  2  3]\n",
      " [ 4  5  6  7]\n",
      " [ 8  9 10 11]]\n",
      "[0, 1, 2, 3, 4, 5, 6, 7, 8, 9, 10, 11]\n",
      "[[ 0  4  8]\n",
      " [ 1  5  9]\n",
      " [ 2  6 10]\n",
      " [ 3  7 11]]\n"
     ]
    }
   ],
   "source": [
    "arr_3by4 = arr.reshape(-1,4)\n",
    "\n",
    "print(arr_3by4)\n",
    "print(list(arr_3by4.flat))\n",
    "\n",
    "print(arr_3by4.T)\n",
    "\n"
   ]
  },
  {
   "cell_type": "code",
   "execution_count": 146,
   "metadata": {},
   "outputs": [
    {
     "name": "stdout",
     "output_type": "stream",
     "text": [
      "[[[0]\n",
      "  [1]\n",
      "  [2]]]\n",
      "(1, 3, 1)\n",
      "[[[0 1 2]]]\n",
      "[[[0]]\n",
      "\n",
      " [[1]]\n",
      "\n",
      " [[2]]]\n"
     ]
    }
   ],
   "source": [
    "x= np.array([[[0],[1],[2]]])\n",
    "print(x)\n",
    "print(x.shape)\n",
    "print(x.reshape(1,1,3))\n",
    "print(x.reshape(3,1,1))\n"
   ]
  },
  {
   "cell_type": "code",
   "execution_count": 160,
   "metadata": {},
   "outputs": [
    {
     "name": "stdout",
     "output_type": "stream",
     "text": [
      "[[[0]\n",
      "  [1]\n",
      "  [2]]]\n",
      "[[0]\n",
      " [1]\n",
      " [2]]\n",
      "(3, 1)\n",
      "[[0 1 2]]\n",
      "(1, 3)\n"
     ]
    }
   ],
   "source": [
    "print(x)\n",
    "x.squeeze().shape\n",
    "print(x.squeeze(axis=0))\n",
    "print(x.squeeze(axis=0).shape)\n",
    "print(x.squeeze(axis=2))\n",
    "print(x.squeeze(axis=2).shape)\n"
   ]
  },
  {
   "cell_type": "code",
   "execution_count": 167,
   "metadata": {},
   "outputs": [
    {
     "name": "stdout",
     "output_type": "stream",
     "text": [
      "[1 2 3] [3 5 1] [1 2 1]\n",
      "[[1 2 3]\n",
      " [3 5 1]\n",
      " [1 2 1]]\n"
     ]
    }
   ],
   "source": [
    "# vstack 묶고 싶을때\n",
    "\n",
    "a = np.array([1,2,3])\n",
    "b = np.array([3,5,1])\n",
    "c = np.array([1,2,1])\n",
    "\n",
    "print(a,b,c) \n",
    "\n",
    "d = np.vstack([a,b,c])\n",
    "print(d)\n"
   ]
  },
  {
   "cell_type": "code",
   "execution_count": 181,
   "metadata": {},
   "outputs": [
    {
     "name": "stdout",
     "output_type": "stream",
     "text": [
      "[[1]\n",
      " [2]\n",
      " [3]]\n",
      "[[1]\n",
      " [2]\n",
      " [3]]\n",
      "hstack =  [[1 1]\n",
      " [2 2]\n",
      " [3 3]]\n",
      "vstack =  [[1]\n",
      " [2]\n",
      " [3]\n",
      " [1]\n",
      " [2]\n",
      " [3]]\n"
     ]
    }
   ],
   "source": [
    "# 한배열에 합치기 \n",
    "\n",
    "a = np.array([1,2,3])\n",
    "b = np.array([3,5,1])\n",
    "\n",
    "\n",
    "\n",
    "a= np.array([[1],[2],[3]])\n",
    "b= np.array([[1],[2],[3]])\n",
    "\n",
    "print(a)\n",
    "print(b)\n",
    "\n",
    "print('hstack = ',np.hstack([a,b]))\n",
    "print('vstack = ',np.vstack([a,b]))\n",
    "\n",
    "\n",
    "# d=np.hstack([a,b])\n",
    "\n",
    "# print(d)"
   ]
  },
  {
   "cell_type": "code",
   "execution_count": 197,
   "metadata": {},
   "outputs": [
    {
     "name": "stdout",
     "output_type": "stream",
     "text": [
      "hstack =  [1 2 3 4 5 2 3 4 5 6]\n",
      "vstack =  [[1 2 3 4 5]\n",
      " [2 3 4 5 6]]\n",
      "[1 2 3 4 5]\n",
      "[2 3 4 5 6]\n"
     ]
    }
   ],
   "source": [
    "#column stack\n",
    "\n",
    "a = np.arange(1,6)\n",
    "\n",
    "\n",
    "b = np.arange(2,7)\n",
    "\n",
    "print('hstack = ',np.hstack([a,b]))\n",
    "print('vstack = ',np.vstack([a,b]))\n",
    "# print('column = ',np.column([a,b]))\n",
    "\n",
    "print(a)\n",
    "print(b)"
   ]
  },
  {
   "cell_type": "code",
   "execution_count": 198,
   "metadata": {},
   "outputs": [
    {
     "name": "stdout",
     "output_type": "stream",
     "text": [
      "[[1 2 6]\n",
      " [2 4 6]\n",
      " [3 5 5]\n",
      " [4 8 4]]\n"
     ]
    }
   ],
   "source": [
    "A = [[1,2,3,4],[2,4,5,8]]\n",
    "B = [6,6,5,4]\n",
    "\n",
    "c = np.vstack([A,B])\n",
    "\n",
    "print(c.T)\n"
   ]
  },
  {
   "cell_type": "code",
   "execution_count": 260,
   "metadata": {},
   "outputs": [
    {
     "data": {
      "text/plain": [
       "array([[0.17547364, 0.12626487, 0.23810329, ..., 0.53236172, 0.65290364,\n",
       "        0.46668712],\n",
       "       [0.40794518, 0.64402647, 0.78194362, ..., 0.26663207, 0.30767218,\n",
       "        0.32136442],\n",
       "       [0.53785953, 0.11916895, 0.02073976, ..., 0.75545773, 0.20397364,\n",
       "        0.1817198 ],\n",
       "       ...,\n",
       "       [0.24621018, 0.99149571, 0.97721365, ..., 0.02060518, 0.84982647,\n",
       "        0.36918884],\n",
       "       [0.73254793, 0.82411665, 0.61228214, ..., 0.86644851, 0.12155455,\n",
       "        0.756435  ],\n",
       "       [0.11661159, 0.51068025, 0.8652069 , ..., 0.76442096, 0.71172613,\n",
       "        0.02121655]])"
      ]
     },
     "execution_count": 260,
     "metadata": {},
     "output_type": "execute_result"
    }
   ],
   "source": [
    "# Random sampling\n",
    "\n",
    "# Uniform (균일분포) ,integer unifrom, Gaussian 분포 (정규분표)\n",
    "\n",
    "\n",
    "# Uniform (균일분포)\n",
    "np.random.rand(256,256)"
   ]
  },
  {
   "cell_type": "code",
   "execution_count": 340,
   "metadata": {},
   "outputs": [
    {
     "data": {
      "text/plain": [
       "array([[2, 7],\n",
       "       [5, 9],\n",
       "       [7, 5]])"
      ]
     },
     "execution_count": 340,
     "metadata": {},
     "output_type": "execute_result"
    }
   ],
   "source": [
    "np.random.randint(1,10,(3,2))"
   ]
  },
  {
   "cell_type": "code",
   "execution_count": 386,
   "metadata": {},
   "outputs": [
    {
     "data": {
      "text/plain": [
       "array([[166.62478047, 174.72572638, 171.10839055],\n",
       "       [171.86379648, 171.86958907, 175.20471618],\n",
       "       [169.67524542, 176.07343932, 173.55534353]])"
      ]
     },
     "execution_count": 386,
     "metadata": {},
     "output_type": "execute_result"
    }
   ],
   "source": [
    "# np.random.seed(503)\n",
    "# np.random.randn(100)\n",
    "np.random.normal(172,3,(3,3))\n"
   ]
  },
  {
   "cell_type": "code",
   "execution_count": 393,
   "metadata": {},
   "outputs": [
    {
     "name": "stdout",
     "output_type": "stream",
     "text": [
      "[1 3 5 7 9]\n",
      "5.0\n",
      "5.0\n",
      "8.459093057147467\n",
      "7.685364440404802\n"
     ]
    }
   ],
   "source": [
    "a= np.arange(1,10,2)\n",
    "print(a)\n",
    "\n",
    "print(a.mean())\n",
    "\n",
    "print(np.median(a))\n",
    "\n",
    "b = np.random.normal(10,3,20)\n",
    "print(b.mean())\n",
    "\n",
    "print(np.median(b))\n"
   ]
  },
  {
   "cell_type": "code",
   "execution_count": 401,
   "metadata": {},
   "outputs": [
    {
     "name": "stdout",
     "output_type": "stream",
     "text": [
      "[[1 2]\n",
      " [3 4]]\n",
      "[2. 3.]\n",
      "[1.5 3.5]\n"
     ]
    }
   ],
   "source": [
    "a = np.array([[1,2],[3,4]])\n",
    "print(a)\n",
    "print(np.mean(a,axis=0))\n",
    "print(np.mean(a,axis=1))"
   ]
  },
  {
   "cell_type": "code",
   "execution_count": 402,
   "metadata": {},
   "outputs": [
    {
     "name": "stdout",
     "output_type": "stream",
     "text": [
      "1.25\n",
      "1.118033988749895\n",
      "1\n",
      "4\n"
     ]
    }
   ],
   "source": [
    "print(np.var(a))\n",
    "print(np.std(a))\n",
    "print(np.min(a))\n",
    "print(np.max(a))"
   ]
  },
  {
   "cell_type": "code",
   "execution_count": 32,
   "metadata": {},
   "outputs": [
    {
     "name": "stdout",
     "output_type": "stream",
     "text": [
      "[[1 2 3 5]\n",
      " [4 5 6 2]\n",
      " [4 4 6 3]]\n",
      "(3, 4)\n",
      "int32\n"
     ]
    }
   ],
   "source": [
    "a= np.array([1,2,3,5])\n",
    "b= np.array([4,5,6,2])\n",
    "c= np.array([4,4,6,3])\n",
    "\n",
    "A = np.vstack([a,b,c])\n",
    "\n",
    "print(A)\n",
    "print(A.shape)\n",
    "print(a.dtype)"
   ]
  },
  {
   "cell_type": "code",
   "execution_count": 36,
   "metadata": {},
   "outputs": [
    {
     "name": "stdout",
     "output_type": "stream",
     "text": [
      "[2 3]\n"
     ]
    }
   ],
   "source": [
    "# # row indexing\n",
    "# print(A[0])\n",
    "# print(A[1])\n",
    "# print(A[2])\n",
    "\n",
    "# # colum indexing\n",
    "# print(A[:,0])\n",
    "# print(A[:,1])\n",
    "# print(A[:,2])\n",
    "# print(A[:,3])\n",
    "\n",
    "# # row and colum indexing\n",
    "# print(A[0:2,1:])\n",
    "\n",
    "# Fancy inexing 가로 행0,세로 열1 가로 행2,세로 열3이 뽑힌다\n",
    "\n",
    "print(A[[0,2],\n",
    "        [1,3]])"
   ]
  },
  {
   "cell_type": "code",
   "execution_count": null,
   "metadata": {},
   "outputs": [],
   "source": []
  }
 ],
 "metadata": {
  "kernelspec": {
   "display_name": "pandas_study",
   "language": "python",
   "name": "python3"
  },
  "language_info": {
   "codemirror_mode": {
    "name": "ipython",
    "version": 3
   },
   "file_extension": ".py",
   "mimetype": "text/x-python",
   "name": "python",
   "nbconvert_exporter": "python",
   "pygments_lexer": "ipython3",
   "version": "3.11.3"
  },
  "orig_nbformat": 4
 },
 "nbformat": 4,
 "nbformat_minor": 2
}
