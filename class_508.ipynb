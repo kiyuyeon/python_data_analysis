{
 "cells": [
  {
   "cell_type": "code",
   "execution_count": 1,
   "metadata": {},
   "outputs": [
    {
     "name": "stdout",
     "output_type": "stream",
     "text": [
      "Requirement already satisfied: openpyxl in c:\\users\\chwo6\\anaconda3\\envs\\pandas_study\\lib\\site-packages (3.1.2)\n",
      "Requirement already satisfied: et-xmlfile in c:\\users\\chwo6\\anaconda3\\envs\\pandas_study\\lib\\site-packages (from openpyxl) (1.1.0)\n",
      "Requirement already satisfied: lxml in c:\\users\\chwo6\\anaconda3\\envs\\pandas_study\\lib\\site-packages (4.9.2)\n"
     ]
    }
   ],
   "source": [
    "import numpy as np\n",
    "import pandas as pd\n",
    "import matplotlib.pyplot as plt\n",
    "! pip install openpyxl\n",
    "! pip install lxml"
   ]
  },
  {
   "cell_type": "code",
   "execution_count": 15,
   "metadata": {},
   "outputs": [
    {
     "name": "stdout",
     "output_type": "stream",
     "text": [
      "   c0  c1  c2  c3\n",
      "0   0   1   4   7\n",
      "1   1   2   5   8\n",
      "2   2   3   6   9\n"
     ]
    }
   ],
   "source": [
    "df1 = pd.read_csv('./read_csv_sample.csv',header=0,delimiter=\",\",index_col=None)\n",
    "\n",
    "print(df1)"
   ]
  },
  {
   "cell_type": "code",
   "execution_count": 17,
   "metadata": {},
   "outputs": [
    {
     "name": "stdout",
     "output_type": "stream",
     "text": [
      "    Species  Weight  Length  Diagonal   Height   Width\n",
      "0     Bream   242.0    25.4      30.0  11.5200  4.0200\n",
      "1     Bream   290.0    26.3      31.2  12.4800  4.3056\n",
      "2     Bream   340.0    26.5      31.1  12.3778  4.6961\n",
      "3     Bream   363.0    29.0      33.5  12.7300  4.4555\n",
      "4     Bream   430.0    29.0      34.0  12.4440  5.1340\n",
      "..      ...     ...     ...       ...      ...     ...\n",
      "154   Smelt    12.2    12.2      13.4   2.0904  1.3936\n",
      "155   Smelt    13.4    12.4      13.5   2.4300  1.2690\n",
      "156   Smelt    12.2    13.0      13.8   2.2770  1.2558\n",
      "157   Smelt    19.7    14.3      15.2   2.8728  2.0672\n",
      "158   Smelt    19.9    15.0      16.2   2.9322  1.8792\n",
      "\n",
      "[159 rows x 6 columns]\n"
     ]
    }
   ],
   "source": [
    "fish_df = pd.read_csv('https://raw.githubusercontent.com/rickiepark/hongong-ml/master/fish.csv')\n",
    "\n",
    "print(fish_df)"
   ]
  },
  {
   "cell_type": "code",
   "execution_count": 29,
   "metadata": {},
   "outputs": [
    {
     "name": "stdout",
     "output_type": "stream",
     "text": [
      "    A  B  C  D\n",
      "ID            \n",
      "C1  1  2  3  4\n",
      "C2  5  6  7  8\n",
      "C3  1  3  5  7\n"
     ]
    }
   ],
   "source": [
    "df_bar = pd.read_csv('./test_bar.txt',sep=\"|\",header=0,index_col='ID')\n",
    "print(df_bar)"
   ]
  },
  {
   "cell_type": "code",
   "execution_count": 59,
   "metadata": {},
   "outputs": [
    {
     "name": "stdout",
     "output_type": "stream",
     "text": [
      "    A  B  C  D\n",
      "ID            \n",
      "C1  1  2  3  4\n",
      "C2  5  6  7  8\n",
      "C3  1  3  5  7\n"
     ]
    }
   ],
   "source": [
    "df_tap = pd.read_csv('./test_tab.txt',sep=\"\\t\",header=0,index_col='ID')\n",
    "print(df_tap)"
   ]
  },
  {
   "cell_type": "code",
   "execution_count": 61,
   "metadata": {},
   "outputs": [
    {
     "name": "stdout",
     "output_type": "stream",
     "text": [
      "   ID  A  B  C  D\n",
      "0  C1  1  2  3  4\n",
      "1  C2  5  6  7  8\n",
      "2  C3  1  3  5  7\n"
     ]
    }
   ],
   "source": [
    "df_header = pd.read_csv('./test_tab_no_header.txt',\n",
    "                        header=None,\n",
    "                        sep='\\t',\n",
    "                        names=['ID','A','B','C','D'])\n",
    "print(df_header)"
   ]
  },
  {
   "cell_type": "code",
   "execution_count": 68,
   "metadata": {},
   "outputs": [
    {
     "name": "stdout",
     "output_type": "stream",
     "text": [
      "   ID  A  B  C  D\n",
      "0  C1  1  2  3  4\n",
      "1  C2  5  6  7  8\n",
      "2  C3  1  3  5  7\n",
      "   ID  A  B  C  D\n",
      "0  C1  1  2  3  4\n",
      "1  C2  5  6  7  8\n",
      "2  C3  1  3  5  7\n"
     ]
    }
   ],
   "source": [
    "df_skip = pd.read_csv('./test_tab_skip.txt',\n",
    "                      header=2,\n",
    "                      sep= '\\t')\n",
    "print(df_skip)\n",
    "\n",
    "df_skip = pd.read_csv('./test_tab_skip.txt',\n",
    "                      header=0,\n",
    "                      sep= '\\t',\n",
    "                      skiprows =[0,1])\n",
    "print(df_skip)"
   ]
  },
  {
   "cell_type": "code",
   "execution_count": 80,
   "metadata": {},
   "outputs": [
    {
     "name": "stdout",
     "output_type": "stream",
     "text": [
      "          발전 전력별  1990  1991  1992  1993  1994  1995  1996  1997  1998  ...   \n",
      "전력량 (억㎾h)                                                               ...   \n",
      "남한            합계  1077  1186  1310  1444  1650  1847  2055  2244  2153  ...  \\\n",
      "NaN           수력    64    51    49    60    41    55    52    54    61  ...   \n",
      "NaN           화력   484   573   696   803  1022  1122  1264  1420  1195  ...   \n",
      "NaN          원자력   529   563   565   581   587   670   739   771   897  ...   \n",
      "NaN          신재생     -     -     -     -     -     -     -     -     -  ...   \n",
      "북한            합계   277   263   247   221   231   230   213   193   170  ...   \n",
      "NaN           수력   156   150   142   133   138   142   125   107   102  ...   \n",
      "NaN           화력   121   113   105    88    93    88    88    86    68  ...   \n",
      "NaN          원자력     -     -     -     -     -     -     -     -     -  ...   \n",
      "\n",
      "           2007  2008  2009  2010  2011  2012  2013  2014  2015  2016  \n",
      "전력량 (억㎾h)                                                              \n",
      "남한         4031  4224  4336  4747  4969  5096  5171  5220  5281  5404  \n",
      "NaN          50    56    56    65    78    77    84    78    58    66  \n",
      "NaN        2551  2658  2802  3196  3343  3430  3581  3427  3402  3523  \n",
      "NaN        1429  1510  1478  1486  1547  1503  1388  1564  1648  1620  \n",
      "NaN           -     -     -     -     -    86   118   151   173   195  \n",
      "북한          236   255   235   237   211   215   221   216   190   239  \n",
      "NaN         133   141   125   134   132   135   139   130   100   128  \n",
      "NaN         103   114   110   103    79    80    82    86    90   111  \n",
      "NaN           -     -     -     -     -     -     -     -     -     -  \n",
      "\n",
      "[9 rows x 28 columns]\n"
     ]
    }
   ],
   "source": [
    "df_excel = pd.read_excel('./남북한발전전력량.xlsx',\n",
    "                         index_col='전력량 (억㎾h)',\n",
    "                         sheet_name='데이터')\n",
    "\n",
    "print(df_excel)"
   ]
  },
  {
   "cell_type": "code",
   "execution_count": 87,
   "metadata": {},
   "outputs": [
    {
     "name": "stdout",
     "output_type": "stream",
     "text": [
      "           name  year        developer opensource\n",
      "pandas           2008    Wes Mckinneye       True\n",
      "NumPy            2006  Travis Oliphant       True\n",
      "matplotlib       2003   John D. Hunter       True\n"
     ]
    }
   ],
   "source": [
    "df_json = pd.read_json('./read_json_sample.json')\n",
    "\n",
    "print(df_json)"
   ]
  },
  {
   "cell_type": "code",
   "execution_count": 13,
   "metadata": {},
   "outputs": [
    {
     "name": "stdout",
     "output_type": "stream",
     "text": [
      "2\n",
      "   Unnamed: 0  c0  c1  c2  c3\n",
      "0           0   0   1   4   7\n",
      "1           1   1   2   5   8\n",
      "2           2   2   3   6   9 \n",
      "\n",
      "         name  year        developer  opensource\n",
      "0       NumPy  2006  Travis Oliphant        True\n",
      "1  matplotlib  2003   John D. Hunter        True\n",
      "2      pandas  2008    Wes Mckinneye        True \n",
      "\n",
      "   Unnamed: 0  c0  c1  c2  c3\n",
      "0           0   0   1   4   7\n",
      "1           1   1   2   5   8\n",
      "2           2   2   3   6   9\n"
     ]
    }
   ],
   "source": [
    "url = './sample.html'\n",
    "\n",
    "tables = pd.read_html(url)\n",
    "\n",
    "print(len(tables))\n",
    "\n",
    "for i in range(2):\n",
    "    print(tables[i],'\\n')\n",
    "    \n",
    "my_table = tables[0]\n",
    "\n",
    "print(my_table)"
   ]
  },
  {
   "cell_type": "code",
   "execution_count": 15,
   "metadata": {},
   "outputs": [
    {
     "name": "stdout",
     "output_type": "stream",
     "text": [
      "Requirement already satisfied: bs4 in c:\\users\\chwo6\\anaconda3\\envs\\pandas_study\\lib\\site-packages (0.0.1)\n",
      "Requirement already satisfied: beautifulsoup4 in c:\\users\\chwo6\\anaconda3\\envs\\pandas_study\\lib\\site-packages (from bs4) (4.12.2)\n",
      "Requirement already satisfied: soupsieve>1.2 in c:\\users\\chwo6\\anaconda3\\envs\\pandas_study\\lib\\site-packages (from beautifulsoup4->bs4) (2.4.1)\n",
      "Note: you may need to restart the kernel to use updated packages.\n"
     ]
    }
   ],
   "source": [
    "pip install bs4"
   ]
  },
  {
   "cell_type": "code",
   "execution_count": 17,
   "metadata": {},
   "outputs": [
    {
     "name": "stdout",
     "output_type": "stream",
     "text": [
      "Requirement already satisfied: requests in c:\\users\\chwo6\\anaconda3\\envs\\pandas_study\\lib\\site-packages (2.30.0)Note: you may need to restart the kernel to use updated packages.\n",
      "\n",
      "Requirement already satisfied: charset-normalizer<4,>=2 in c:\\users\\chwo6\\anaconda3\\envs\\pandas_study\\lib\\site-packages (from requests) (3.1.0)\n",
      "Requirement already satisfied: idna<4,>=2.5 in c:\\users\\chwo6\\anaconda3\\envs\\pandas_study\\lib\\site-packages (from requests) (3.4)\n",
      "Requirement already satisfied: urllib3<3,>=1.21.1 in c:\\users\\chwo6\\anaconda3\\envs\\pandas_study\\lib\\site-packages (from requests) (2.0.2)\n",
      "Requirement already satisfied: certifi>=2017.4.17 in c:\\users\\chwo6\\anaconda3\\envs\\pandas_study\\lib\\site-packages (from requests) (2023.5.7)\n"
     ]
    }
   ],
   "source": [
    "pip install requests"
   ]
  },
  {
   "cell_type": "code",
   "execution_count": 54,
   "metadata": {},
   "outputs": [
    {
     "name": "stdout",
     "output_type": "stream",
     "text": [
      "[<li class=\"mw-list-item\" id=\"n-mainpage-description\"><a accesskey=\"z\" href=\"/wiki/Main_Page\" title=\"Visit the main page [z]\"><span>Main page</span></a></li>, <li class=\"mw-list-item\" id=\"n-contents\"><a href=\"/wiki/Wikipedia:Contents\" title=\"Guides to browsing Wikipedia\"><span>Contents</span></a></li>, <li class=\"mw-list-item\" id=\"n-currentevents\"><a href=\"/wiki/Portal:Current_events\" title=\"Articles related to current events\"><span>Current events</span></a></li>, <li class=\"mw-list-item\" id=\"n-randompage\"><a accesskey=\"x\" href=\"/wiki/Special:Random\" title=\"Visit a randomly selected article [x]\"><span>Random article</span></a></li>, <li class=\"mw-list-item\" id=\"n-aboutsite\"><a href=\"/wiki/Wikipedia:About\" title=\"Learn about Wikipedia and how it works\"><span>About Wikipedia</span></a></li>, <li class=\"mw-list-item\" id=\"n-contactpage\"><a href=\"//en.wikipedia.org/wiki/Wikipedia:Contact_us\" title=\"How to contact Wikipedia\"><span>Contact us</span></a></li>, <li class=\"mw-list-item\" id=\"n-sitesupport\"><a href=\"https://donate.wikimedia.org/wiki/Special:FundraiserRedirector?utm_source=donate&amp;utm_medium=sidebar&amp;utm_campaign=C13_en.wikipedia.org&amp;uselang=en\" title=\"Support us by donating to the Wikimedia Foundation\"><span>Donate</span></a></li>, <li class=\"mw-list-item\" id=\"n-help\"><a href=\"/wiki/Help:Contents\" title=\"Guidance on how to use and edit Wikipedia\"><span>Help</span></a></li>, <li class=\"mw-list-item\" id=\"n-introduction\"><a href=\"/wiki/Help:Introduction\" title=\"Learn how to edit Wikipedia\"><span>Learn to edit</span></a></li>, <li class=\"mw-list-item\" id=\"n-portal\"><a href=\"/wiki/Wikipedia:Community_portal\" title=\"The hub for editors\"><span>Community portal</span></a></li>, <li class=\"mw-list-item\" id=\"n-recentchanges\"><a accesskey=\"r\" href=\"/wiki/Special:RecentChanges\" title=\"A list of recent changes to Wikipedia [r]\"><span>Recent changes</span></a></li>, <li class=\"mw-list-item\" id=\"n-upload\"><a href=\"/wiki/Wikipedia:File_upload_wizard\" title=\"Add images or other media for use on Wikipedia\"><span>Upload file</span></a></li>, <li class=\"user-links-collapsible-item mw-list-item\" id=\"pt-createaccount-2\"><a href=\"/w/index.php?title=Special:CreateAccount&amp;returnto=Lists+of+Americans+excahange-traded+funds\" title=\"You are encouraged to create an account and log in; however, it is not mandatory\"><span>Create account</span></a></li>, <li class=\"user-links-collapsible-item mw-list-item\" id=\"pt-login-2\"><a accesskey=\"o\" href=\"/w/index.php?title=Special:UserLogin&amp;returnto=Lists+of+Americans+excahange-traded+funds\" title=\"You're encouraged to log in; however, it's not mandatory. [o]\"><span>Log in</span></a></li>, <li class=\"user-links-collapsible-item mw-list-item\" id=\"pt-createaccount\"><a href=\"/w/index.php?title=Special:CreateAccount&amp;returnto=Lists+of+Americans+excahange-traded+funds\" title=\"You are encouraged to create an account and log in; however, it is not mandatory\"><span class=\"mw-ui-icon mw-ui-icon-userAdd mw-ui-icon-wikimedia-userAdd\"></span> <span>Create account</span></a></li>, <li class=\"user-links-collapsible-item mw-list-item\" id=\"pt-login\"><a accesskey=\"o\" href=\"/w/index.php?title=Special:UserLogin&amp;returnto=Lists+of+Americans+excahange-traded+funds\" title=\"You're encouraged to log in; however, it's not mandatory. [o]\"><span class=\"mw-ui-icon mw-ui-icon-logIn mw-ui-icon-wikimedia-logIn\"></span> <span>Log in</span></a></li>, <li class=\"mw-list-item\" id=\"pt-anoncontribs\"><a accesskey=\"y\" href=\"/wiki/Special:MyContributions\" title=\"A list of edits made from this IP address [y]\"><span>Contributions</span></a></li>, <li class=\"mw-list-item\" id=\"pt-anontalk\"><a accesskey=\"n\" href=\"/wiki/Special:MyTalk\" title=\"Discussion about edits from this IP address [n]\"><span>Talk</span></a></li>, <li class=\"selected vector-tab-noicon mw-list-item\" id=\"ca-nstab-main\"><a accesskey=\"c\" class=\"\" data-mw=\"interface\" href=\"/w/index.php?title=Lists_of_Americans_excahange-traded_funds&amp;action=edit&amp;redlink=1\" title=\"View the content page (page does not exist) [c]\"><span>Article</span></a>\n",
      "</li>, <li class=\"new vector-tab-noicon mw-list-item\" id=\"ca-talk\"><a accesskey=\"t\" class=\"\" data-mw=\"interface\" href=\"/w/index.php?title=Talk:Lists_of_Americans_excahange-traded_funds&amp;action=edit&amp;redlink=1\" rel=\"discussion\" title=\"Discuss improvements to the content page (page does not exist) [t]\"><span>Talk</span></a>\n",
      "</li>, <li class=\"mw-list-item\" id=\"t-whatlinkshere\"><a accesskey=\"j\" href=\"/wiki/Special:WhatLinksHere/Lists_of_Americans_excahange-traded_funds\" title=\"List of all English Wikipedia pages containing links to this page [j]\"><span>What links here</span></a></li>, <li class=\"mw-list-item\" id=\"t-upload\"><a accesskey=\"u\" href=\"/wiki/Wikipedia:File_Upload_Wizard\" title=\"Upload files [u]\"><span>Upload file</span></a></li>, <li class=\"mw-list-item\" id=\"t-specialpages\"><a accesskey=\"q\" href=\"/wiki/Special:SpecialPages\" title=\"A list of all special pages [q]\"><span>Special pages</span></a></li>, <li class=\"mw-list-item\" id=\"t-print\"><a accesskey=\"p\" href=\"javascript:print();\" rel=\"alternate\" title=\"Printable version of this page [p]\"><span>Printable version</span></a></li>, <li class=\"mw-list-item\" id=\"t-info\"><a href=\"/w/index.php?title=Lists_of_Americans_excahange-traded_funds&amp;action=info\" title=\"More information about this page\"><span>Page information</span></a></li>, <li>\n",
      "<div><img alt=\"\" data-file-height=\"391\" data-file-width=\"391\" decoding=\"async\" height=\"30\" src=\"//upload.wikimedia.org/wikipedia/en/thumb/0/06/Wiktionary-logo-v2.svg/30px-Wiktionary-logo-v2.svg.png\" srcset=\"//upload.wikimedia.org/wikipedia/en/thumb/0/06/Wiktionary-logo-v2.svg/45px-Wiktionary-logo-v2.svg.png 1.5x, //upload.wikimedia.org/wikipedia/en/thumb/0/06/Wiktionary-logo-v2.svg/60px-Wiktionary-logo-v2.svg.png 2x\" width=\"30\"/></div>\n",
      "<div><a class=\"extiw\" href=\"https://en.wiktionary.org/wiki/Special:Search/Lists_of_Americans_excahange-traded_funds\" title=\"wiktionary:Special:Search/Lists of Americans excahange-traded funds\">Wiktionary</a> (dictionary)</div>\n",
      "</li>, <li>\n",
      "<div><img alt=\"\" data-file-height=\"300\" data-file-width=\"300\" decoding=\"async\" height=\"30\" src=\"//upload.wikimedia.org/wikipedia/commons/thumb/f/fa/Wikibooks-logo.svg/30px-Wikibooks-logo.svg.png\" srcset=\"//upload.wikimedia.org/wikipedia/commons/thumb/f/fa/Wikibooks-logo.svg/45px-Wikibooks-logo.svg.png 1.5x, //upload.wikimedia.org/wikipedia/commons/thumb/f/fa/Wikibooks-logo.svg/60px-Wikibooks-logo.svg.png 2x\" width=\"30\"/></div>\n",
      "<div><a class=\"extiw\" href=\"https://en.wikibooks.org/wiki/Special:Search/Lists_of_Americans_excahange-traded_funds\" title=\"wikibooks:Special:Search/Lists of Americans excahange-traded funds\">Wikibooks</a> (textbooks)</div>\n",
      "</li>, <li>\n",
      "<div><img alt=\"\" data-file-height=\"355\" data-file-width=\"300\" decoding=\"async\" height=\"30\" src=\"//upload.wikimedia.org/wikipedia/commons/thumb/f/fa/Wikiquote-logo.svg/25px-Wikiquote-logo.svg.png\" srcset=\"//upload.wikimedia.org/wikipedia/commons/thumb/f/fa/Wikiquote-logo.svg/38px-Wikiquote-logo.svg.png 1.5x, //upload.wikimedia.org/wikipedia/commons/thumb/f/fa/Wikiquote-logo.svg/51px-Wikiquote-logo.svg.png 2x\" width=\"25\"/></div>\n",
      "<div><a class=\"extiw\" href=\"https://en.wikiquote.org/wiki/Special:Search/Lists_of_Americans_excahange-traded_funds\" title=\"wikiquote:Special:Search/Lists of Americans excahange-traded funds\">Wikiquote</a> (quotations)</div>\n",
      "</li>, <li>\n",
      "<div><img alt=\"\" data-file-height=\"430\" data-file-width=\"410\" decoding=\"async\" height=\"30\" src=\"//upload.wikimedia.org/wikipedia/commons/thumb/4/4c/Wikisource-logo.svg/29px-Wikisource-logo.svg.png\" srcset=\"//upload.wikimedia.org/wikipedia/commons/thumb/4/4c/Wikisource-logo.svg/43px-Wikisource-logo.svg.png 1.5x, //upload.wikimedia.org/wikipedia/commons/thumb/4/4c/Wikisource-logo.svg/57px-Wikisource-logo.svg.png 2x\" width=\"29\"/></div>\n",
      "<div><a class=\"extiw\" href=\"https://en.wikisource.org/wiki/Special:Search/Lists_of_Americans_excahange-traded_funds\" title=\"wikisource:Special:Search/Lists of Americans excahange-traded funds\">Wikisource</a> (library)</div>\n",
      "</li>, <li>\n",
      "<div><img alt=\"\" data-file-height=\"512\" data-file-width=\"626\" decoding=\"async\" height=\"25\" src=\"//upload.wikimedia.org/wikipedia/commons/thumb/0/0b/Wikiversity_logo_2017.svg/30px-Wikiversity_logo_2017.svg.png\" srcset=\"//upload.wikimedia.org/wikipedia/commons/thumb/0/0b/Wikiversity_logo_2017.svg/45px-Wikiversity_logo_2017.svg.png 1.5x, //upload.wikimedia.org/wikipedia/commons/thumb/0/0b/Wikiversity_logo_2017.svg/60px-Wikiversity_logo_2017.svg.png 2x\" width=\"30\"/></div>\n",
      "<div><a class=\"extiw\" href=\"https://en.wikiversity.org/wiki/Special:Search/Lists_of_Americans_excahange-traded_funds\" title=\"wikiversity:Special:Search/Lists of Americans excahange-traded funds\">Wikiversity</a> (learning resources)</div>\n",
      "</li>, <li>\n",
      "<div><img alt=\"\" data-file-height=\"1376\" data-file-width=\"1024\" decoding=\"async\" height=\"30\" src=\"//upload.wikimedia.org/wikipedia/en/thumb/4/4a/Commons-logo.svg/22px-Commons-logo.svg.png\" srcset=\"//upload.wikimedia.org/wikipedia/en/thumb/4/4a/Commons-logo.svg/33px-Commons-logo.svg.png 1.5x, //upload.wikimedia.org/wikipedia/en/thumb/4/4a/Commons-logo.svg/45px-Commons-logo.svg.png 2x\" width=\"22\"/></div>\n",
      "<div><a class=\"extiw\" href=\"https://commons.wikimedia.org/wiki/Special:Search/Lists_of_Americans_excahange-traded_funds\" title=\"commons:Special:Search/Lists of Americans excahange-traded funds\">Commons</a> (media)</div>\n",
      "</li>, <li>\n",
      "<div><img alt=\"\" data-file-height=\"193\" data-file-width=\"193\" decoding=\"async\" height=\"30\" src=\"//upload.wikimedia.org/wikipedia/commons/thumb/d/dd/Wikivoyage-Logo-v3-icon.svg/30px-Wikivoyage-Logo-v3-icon.svg.png\" srcset=\"//upload.wikimedia.org/wikipedia/commons/thumb/d/dd/Wikivoyage-Logo-v3-icon.svg/45px-Wikivoyage-Logo-v3-icon.svg.png 1.5x, //upload.wikimedia.org/wikipedia/commons/thumb/d/dd/Wikivoyage-Logo-v3-icon.svg/60px-Wikivoyage-Logo-v3-icon.svg.png 2x\" width=\"30\"/></div>\n",
      "<div><a class=\"extiw\" href=\"https://en.wikivoyage.org/wiki/Special:Search/Lists_of_Americans_excahange-traded_funds\" title=\"wikivoyage:Special:Search/Lists of Americans excahange-traded funds\">Wikivoyage</a> (travel guide)</div>\n",
      "</li>, <li>\n",
      "<div><img alt=\"\" data-file-height=\"415\" data-file-width=\"759\" decoding=\"async\" height=\"16\" src=\"//upload.wikimedia.org/wikipedia/commons/thumb/2/24/Wikinews-logo.svg/30px-Wikinews-logo.svg.png\" srcset=\"//upload.wikimedia.org/wikipedia/commons/thumb/2/24/Wikinews-logo.svg/45px-Wikinews-logo.svg.png 1.5x, //upload.wikimedia.org/wikipedia/commons/thumb/2/24/Wikinews-logo.svg/60px-Wikinews-logo.svg.png 2x\" width=\"30\"/></div>\n",
      "<div><a class=\"extiw\" href=\"https://en.wikinews.org/wiki/Special:Search/Lists_of_Americans_excahange-traded_funds\" title=\"wikinews:Special:Search/Lists of Americans excahange-traded funds\">Wikinews</a> (news source)</div>\n",
      "</li>, <li>\n",
      "<div><img alt=\"\" data-file-height=\"590\" data-file-width=\"1050\" decoding=\"async\" height=\"17\" src=\"//upload.wikimedia.org/wikipedia/commons/thumb/f/ff/Wikidata-logo.svg/30px-Wikidata-logo.svg.png\" srcset=\"//upload.wikimedia.org/wikipedia/commons/thumb/f/ff/Wikidata-logo.svg/45px-Wikidata-logo.svg.png 1.5x, //upload.wikimedia.org/wikipedia/commons/thumb/f/ff/Wikidata-logo.svg/60px-Wikidata-logo.svg.png 2x\" width=\"30\"/></div>\n",
      "<div><a class=\"extiw\" href=\"https://www.wikidata.org/wiki/Special:Search/Lists_of_Americans_excahange-traded_funds\" title=\"wikidata:Special:Search/Lists of Americans excahange-traded funds\">Wikidata</a> (linked database)</div>\n",
      "</li>, <li>\n",
      "<div><img alt=\"\" data-file-height=\"1103\" data-file-width=\"941\" decoding=\"async\" height=\"30\" src=\"//upload.wikimedia.org/wikipedia/commons/thumb/d/df/Wikispecies-logo.svg/26px-Wikispecies-logo.svg.png\" srcset=\"//upload.wikimedia.org/wikipedia/commons/thumb/d/df/Wikispecies-logo.svg/38px-Wikispecies-logo.svg.png 1.5x, //upload.wikimedia.org/wikipedia/commons/thumb/d/df/Wikispecies-logo.svg/51px-Wikispecies-logo.svg.png 2x\" width=\"26\"/></div>\n",
      "<div><a class=\"extiw\" href=\"https://species.wikimedia.org/wiki/Special:Search/Lists_of_Americans_excahange-traded_funds\" title=\"wikispecies:Special:Search/Lists of Americans excahange-traded funds\">Wikispecies</a> (species directory)</div>\n",
      "</li>, <li>If a page was recently created here, it may not be visible yet because of a delay in updating the database; wait a few minutes or <a href=\"/wiki/Special:Purge/Lists_of_Americans_excahange-traded_funds\" title=\"Special:Purge/Lists of Americans excahange-traded funds\">try the purge function</a>.</li>, <li>Titles on Wikipedia are <b><a href=\"/wiki/Case_sensitivity\" title=\"Case sensitivity\">case sensitive</a></b> except for the first character; please <span class=\"plainlinks\"><a class=\"external text\" href=\"https://en.wikipedia.org/w/index.php?search=Lists+of+Americans+excahange-traded+funds&amp;title=Special%3ASearch&amp;fulltext=1\">check alternative capitalizations</a></span> and consider adding a <a href=\"/wiki/Wikipedia:Redirect\" title=\"Wikipedia:Redirect\">redirect</a> here to the correct title.</li>, <li>If the page has been deleted, <a class=\"external text\" href=\"https://en.wikipedia.org/w/index.php?title=Special:Log/delete&amp;page=Lists_of_Americans_excahange-traded_funds\">check the <b>deletion log</b></a>, and see <a href=\"/wiki/Wikipedia:Why_was_the_page_I_created_deleted%3F\" title=\"Wikipedia:Why was the page I created deleted?\">Why was the page I created deleted?</a>.</li>]\n",
      "None\n"
     ]
    }
   ],
   "source": [
    "import requests\n",
    "from bs4 import BeautifulSoup\n",
    "url = 'https://en.wikipedia.org/wiki/Lists_of_Americans_excahange-traded_funds'\n",
    "\n",
    "resp= requests.get(url) \n",
    "# print(resp.text)\n",
    "\n",
    "\n",
    "soup = BeautifulSoup(resp.text)\n",
    "test = print(soup.select('div > ul > li'))\n",
    "\n",
    "print(test)"
   ]
  },
  {
   "cell_type": "code",
   "execution_count": 56,
   "metadata": {},
   "outputs": [
    {
     "name": "stdout",
     "output_type": "stream",
     "text": [
      "[<span class=\"_1syGnXOL _3VkgqBXB\" data-clk=\"dropbanner1b\" style=\"padding-right: 20px; font-size: 17px; color: black\"><span>매일 쓰는 브라우저 보안이 걱정된다면, </span><strong>안전하고 빠른 최신 브라우저 웨일로 업데이트 하세요.</strong></span>, <span class=\"kwd_dsc\">설정이 초기화 된다면 <a class=\"kwd_help\" data-clk=\"sly.help\" href=\"https://help.naver.com/support/alias/search/word/word_29.naver\" target=\"_blank\">도움말</a>을 확인해주세요.</span>, <span class=\"kwd_dsc\">설정이 초기화 된다면 <a class=\"kwd_help\" data-clk=\"sly.help\" href=\"https://help.naver.com/support/alias/search/word/word_29.naver\" target=\"_blank\">도움말</a>을 확인해주세요.</span>, <span class=\"side_opt_area\">\n",
      "<span class=\"opt_item\"><a data-clk=\"sly.help\" href=\"https://help.naver.com/support/service/main.help?serviceNo=605&amp;categoryNo=1991\" target=\"_blank\">도움말</a></span>\n",
      "</span>, <span class=\"rside_opt_area\">\n",
      "<span class=\"opt_item\">\n",
      "<!-- [AU] _keywordOnOff 클래스를 추가해주세요. -->\n",
      "<a class=\"close _keywordOnOff\" href=\"#\">자동저장 끄기</a>\n",
      "</span>\n",
      "</span>, <span class=\"tit\">@5@회 로또당첨번호</span>, <span class=\"dsc\">\n",
      "<span class=\"item\">동행복권 제공</span>\n",
      "</span>, <span class=\"tit\">@txt@<span class=\"sub\">@currency@</span></span>, <span class=\"dsc\">\n",
      "<span class=\"item\"><i class=\"imsc ico_arr\"></i>@8@(@9@%)</span>\n",
      "</span>, <span class=\"tit\">@txt@</span>, <span class=\"dsc\">\n",
      "<span class=\"item\">@7@, @message@</span>\n",
      "</span>, <span class=\"tit\">@txt@</span>, <span class=\"dsc\">\n",
      "<span class=\"item\">@5@</span>\n",
      "</span>, <span class=\"dsc_inner\">\n",
      "<!-- [AU] _alert_passage2 클래스를 추가해주세요. -->\n",
      "<span class=\"_alert_passage2\"></span>\n",
      "<!-- [AU] _alert_link 클래스를 추가해주세요. -->\n",
      "<a class=\"link _alert_link\" href=\"#\" target=\"_blank\">자세히보기</a>\n",
      "</span>, <span class=\"side_opt_area\">\n",
      "<span class=\"opt_item\"><a data-clk=\"sug.help\" href=\"https://help.naver.com/alias/search/word/word_17.naver\" target=\"_blank\">도움말</a></span>\n",
      "<span class=\"opt_item\"><a class=\"report\" data-clk=\"sug.report\" href=\"https://help.naver.com/support/contents/contents.help?serviceNo=605&amp;categoryNo=18215\" target=\"_blank\">신고</a></span>\n",
      "</span>, <span class=\"rside_opt_area\">\n",
      "<span class=\"opt_item\">\n",
      "<!-- [AU] _suggestOnOff 클래스를 추가해주세요. -->\n",
      "<a class=\"close _suggestOnOff\" href=\"#\">자동완성 끄기</a>\n",
      "</span>\n",
      "</span>, <span aria-label=\"최저기온\" class=\"min\">9.0°</span>, <span aria-label=\"최고기온\" class=\"max\">22.0°</span>, <span class=\"veta_bd_t\"></span>, <span class=\"veta_bd_b\"></span>, <span class=\"veta_bd_l\"></span>, <span class=\"veta_bd_r\"></span>, <span class=\"dsc\">주제별로 분류된 다양한 글 모음</span>, <span class=\"info\"><strong class=\"new\">645</strong> 개의 글</span>, <span class=\"source\"><span class=\"source_inner\">네이버스포츠</span></span>, <span class=\"source\"><span class=\"source_inner\">홍순국의 일요골프</span></span>, <span class=\"thumb_dim\"></span>, <span class=\"thumb_bd\"></span>, <span class=\"theme_runtime\"><span class=\"runtime_bg\">재생시간</span><em class=\"time\">00:56</em></span>, <span class=\"date\">3시간 전</span>, <span class=\"source\">\n",
      "<span class=\"source_inner\">MHN스포츠</span>\n",
      "</span>, <span class=\"thumb_bd\"></span>, <span class=\"date\">5시간 전</span>, <span class=\"source\">\n",
      "<span class=\"source_inner\">네이버스포츠</span>\n",
      "</span>, <span class=\"thumb_bd\"></span>, <span class=\"date\">5시간 전</span>, <span class=\"source\">\n",
      "<span class=\"source_inner\">네이버스포츠</span>\n",
      "</span>, <span class=\"thumb_dim\"></span>, <span class=\"thumb_bd\"></span>, <span class=\"theme_runtime\"><span class=\"runtime_bg\">재생시간</span><em class=\"time\">00:25</em></span>, <span class=\"date\">6시간 전</span>, <span class=\"source\">\n",
      "<span class=\"source_inner\">KBL(Korean Basketball League)</span>\n",
      "</span>, <span class=\"thumb_dim\"></span>, <span class=\"thumb_bd\"></span>, <span class=\"theme_runtime\"><span class=\"runtime_bg\">재생시간</span><em class=\"time\">23:53</em></span>, <span class=\"date\">8시간 전</span>, <span class=\"source\">\n",
      "<span class=\"source_inner\">한준TV</span>\n",
      "</span>, <span class=\"thumb_dim\"></span>, <span class=\"thumb_bd\"></span>, <span class=\"theme_runtime\"><span class=\"runtime_bg\">재생시간</span><em class=\"time\">07:33</em></span>, <span class=\"date\">9시간 전</span>, <span class=\"source\">\n",
      "<span class=\"source_inner\">2022-23 프랑스 리그1</span>\n",
      "</span>, <span class=\"thumb_dim\"></span>, <span class=\"thumb_bd\"></span>, <span class=\"theme_runtime\"><span class=\"runtime_bg\">재생시간</span><em class=\"time\">02:08</em></span>, <span class=\"date\">5시간 전</span>, <span class=\"source\">\n",
      "<span class=\"source_inner\">크보연구소_네이버스포츠</span>\n",
      "</span>, <span class=\"thumb_dim\"></span>, <span class=\"thumb_bd\"></span>, <span class=\"theme_runtime\"><span class=\"runtime_bg\">재생시간</span><em class=\"time\">25:28</em></span>, <span class=\"date\">13시간 전</span>, <span class=\"source\">\n",
      "<span class=\"source_inner\">뭉쳐야 찬다2</span>\n",
      "</span>, <span class=\"thumb_dim\"></span>, <span class=\"thumb_bd\"></span>, <span class=\"theme_runtime\"><span class=\"runtime_bg\">재생시간</span><em class=\"time\">09:46</em></span>, <span class=\"date\">14시간 전</span>, <span class=\"source\">\n",
      "<span class=\"source_inner\">천하제일장사2</span>\n",
      "</span>, <span class=\"thumb_dim\"></span>, <span class=\"thumb_bd\"></span>, <span class=\"theme_runtime\"><span class=\"runtime_bg\">재생시간</span><em class=\"time\">04:58</em></span>, <span class=\"date\">17시간 전</span>, <span class=\"source\">\n",
      "<span class=\"source_inner\">STNSPORTS</span>\n",
      "</span>, <span class=\"thumb_bd\"></span>, <span class=\"date\">3주일 전</span>, <span class=\"source\">\n",
      "<span class=\"source_inner\">네이버스포츠</span>\n",
      "</span>, <span class=\"thumb_bd\"></span>, <span class=\"date\">4개월 전</span>, <span class=\"source\">\n",
      "<span class=\"source_inner\">네이버스포츠</span>\n",
      "</span>, <span class=\"thumb_bd\"></span>, <span class=\"date\">4개월 전</span>, <span class=\"source\">\n",
      "<span class=\"source_inner\">네이버스포츠</span>\n",
      "</span>, <span class=\"thumb_bd\"></span>, <span class=\"date\">4개월 전</span>, <span class=\"source\">\n",
      "<span class=\"source_inner\">네이버스포츠</span>\n",
      "</span>, <span class=\"thumb_bd\"></span>, <span class=\"date\">4개월 전</span>, <span class=\"source\">\n",
      "<span class=\"source_inner\">네이버스포츠</span>\n",
      "</span>, <span class=\"thumb_bd\"></span>, <span class=\"date\">4개월 전</span>, <span class=\"source\">\n",
      "<span class=\"source_inner\">네이버스포츠</span>\n",
      "</span>, <span class=\"thumb_bd\"></span>, <span class=\"date\">4개월 전</span>, <span class=\"source\">\n",
      "<span class=\"source_inner\">네이버스포츠</span>\n",
      "</span>, <span class=\"thumb_dim\"></span>, <span class=\"thumb_bd\"></span>, <span class=\"theme_runtime\"><span class=\"runtime_bg\">재생시간</span><em class=\"time\">00:15</em></span>, <span class=\"date\">6시간 전</span>, <span class=\"source\">\n",
      "<span class=\"source_inner\">크보연구소_네이버스포츠</span>\n",
      "</span>, <span class=\"thumb_dim\"></span>, <span class=\"thumb_bd\"></span>, <span class=\"theme_runtime\"><span class=\"runtime_bg\">재생시간</span><em class=\"time\">10:31</em></span>, <span class=\"date\">19시간 전</span>, <span class=\"source\">\n",
      "<span class=\"source_inner\">KBO리그 한화 홈경기 영상</span>\n",
      "</span>, <span class=\"thumb_dim\"></span>, <span class=\"thumb_bd\"></span>, <span class=\"theme_runtime\"><span class=\"runtime_bg\">재생시간</span><em class=\"time\">09:25</em></span>, <span class=\"date\">19시간 전</span>, <span class=\"source\">\n",
      "<span class=\"source_inner\">KBO리그 두산 홈경기 영상</span>\n",
      "</span>, <span class=\"thumb_dim\"></span>, <span class=\"thumb_bd\"></span>, <span class=\"theme_runtime\"><span class=\"runtime_bg\">재생시간</span><em class=\"time\">03:38</em></span>, <span class=\"date\">18시간 전</span>, <span class=\"source\">\n",
      "<span class=\"source_inner\">KBO리그 한화 홈경기 영상</span>\n",
      "</span>, <span class=\"thumb_dim\"></span>, <span class=\"thumb_bd\"></span>, <span class=\"theme_runtime\"><span class=\"runtime_bg\">재생시간</span><em class=\"time\">00:35</em></span>, <span class=\"date\">6시간 전</span>, <span class=\"source\">\n",
      "<span class=\"source_inner\">크보연구소_네이버스포츠</span>\n",
      "</span>, <span class=\"thumb_dim\"></span>, <span class=\"thumb_bd\"></span>, <span class=\"theme_runtime\"><span class=\"runtime_bg\">재생시간</span><em class=\"time\">02:11</em></span>, <span class=\"date\">21시간 전</span>, <span class=\"source\">\n",
      "<span class=\"source_inner\">KBO리그 두산 홈경기 영상</span>\n",
      "</span>, <span class=\"thumb_dim\"></span>, <span class=\"thumb_bd\"></span>, <span class=\"theme_runtime\"><span class=\"runtime_bg\">재생시간</span><em class=\"time\">02:18</em></span>, <span class=\"date\">20시간 전</span>, <span class=\"source\">\n",
      "<span class=\"source_inner\">KBO리그 한화 홈경기 영상</span>\n",
      "</span>, <span class=\"thumb_dim\"></span>, <span class=\"thumb_bd\"></span>, <span class=\"theme_runtime\"><span class=\"runtime_bg\">재생시간</span><em class=\"time\">01:35</em></span>, <span class=\"date\">19시간 전</span>, <span class=\"source\">\n",
      "<span class=\"source_inner\">KBO리그 한화 홈경기 영상</span>\n",
      "</span>, <span class=\"thumb_dim\"></span>, <span class=\"thumb_bd\"></span>, <span class=\"theme_runtime\"><span class=\"runtime_bg\">재생시간</span><em class=\"time\">03:16</em></span>, <span class=\"date\">20시간 전</span>, <span class=\"source\">\n",
      "<span class=\"source_inner\">KBO리그 두산 홈경기 영상</span>\n",
      "</span>, <span class=\"thumb_dim\"></span>, <span class=\"thumb_bd\"></span>, <span class=\"theme_runtime\"><span class=\"runtime_bg\">재생시간</span><em class=\"time\">12:08</em></span>, <span class=\"date\">17시간 전</span>, <span class=\"source\">\n",
      "<span class=\"source_inner\">KBO리그 키움 홈경기 영상</span>\n",
      "</span>, <span class=\"thumb_dim\"></span>, <span class=\"thumb_bd\"></span>, <span class=\"theme_runtime\"><span class=\"runtime_bg\">재생시간</span><em class=\"time\">00:45</em></span>, <span class=\"date\">19시간 전</span>, <span class=\"source\">\n",
      "<span class=\"source_inner\">KBO리그 두산 홈경기 영상</span>\n",
      "</span>, <span class=\"thumb_dim\"></span>, <span class=\"thumb_bd\"></span>, <span class=\"theme_runtime\"><span class=\"runtime_bg\">재생시간</span><em class=\"time\">02:38</em></span>, <span class=\"date\">19시간 전</span>, <span class=\"source\">\n",
      "<span class=\"source_inner\">KPGA 네이버스포츠</span>\n",
      "</span>, <span class=\"thumb_dim\"></span>, <span class=\"thumb_bd\"></span>, <span class=\"theme_runtime\"><span class=\"runtime_bg\">재생시간</span><em class=\"time\">12:25</em></span>, <span class=\"date\">19시간 전</span>, <span class=\"source\">\n",
      "<span class=\"source_inner\">크보연구소_네이버스포츠</span>\n",
      "</span>, <span class=\"thumb_dim\"></span>, <span class=\"thumb_bd\"></span>, <span class=\"theme_runtime\"><span class=\"runtime_bg\">재생시간</span><em class=\"time\">02:20</em></span>, <span class=\"date\">21시간 전</span>, <span class=\"source\">\n",
      "<span class=\"source_inner\">KBO리그 두산 홈경기 영상</span>\n",
      "</span>, <span class=\"thumb_dim\"></span>, <span class=\"thumb_bd\"></span>, <span class=\"theme_runtime\"><span class=\"runtime_bg\">재생시간</span><em class=\"time\">03:50</em></span>, <span class=\"date\">19시간 전</span>, <span class=\"source\">\n",
      "<span class=\"source_inner\">KLPGA 네이버스포츠</span>\n",
      "</span>, <span class=\"thumb_dim\"></span>, <span class=\"thumb_bd\"></span>, <span class=\"theme_runtime\"><span class=\"runtime_bg\">재생시간</span><em class=\"time\">02:26</em></span>, <span class=\"date\">18시간 전</span>, <span class=\"source\">\n",
      "<span class=\"source_inner\">KBO리그 두산 홈경기 영상</span>\n",
      "</span>, <span class=\"thumb_dim\"></span>, <span class=\"thumb_bd\"></span>, <span class=\"theme_runtime\"><span class=\"runtime_bg\">재생시간</span><em class=\"time\">07:21</em></span>, <span class=\"date\">19시간 전</span>, <span class=\"source\">\n",
      "<span class=\"source_inner\">크보연구소_네이버스포츠</span>\n",
      "</span>, <span class=\"thumb_dim\"></span>, <span class=\"thumb_bd\"></span>, <span class=\"theme_runtime\"><span class=\"runtime_bg\">재생시간</span><em class=\"time\">01:08</em></span>, <span class=\"date\">20시간 전</span>, <span class=\"source\">\n",
      "<span class=\"source_inner\">KBO리그 한화 홈경기 영상</span>\n",
      "</span>, <span class=\"thumb_dim\"></span>, <span class=\"thumb_bd\"></span>, <span class=\"theme_runtime\"><span class=\"runtime_bg\">재생시간</span><em class=\"time\">00:24</em></span>, <span class=\"date\">6시간 전</span>, <span class=\"source\">\n",
      "<span class=\"source_inner\">크보연구소_네이버스포츠</span>\n",
      "</span>, <span class=\"thumb_dim\"></span>, <span class=\"thumb_bd\"></span>, <span class=\"theme_runtime\"><span class=\"runtime_bg\">재생시간</span><em class=\"time\">00:17</em></span>, <span class=\"date\">2일 전</span>, <span class=\"source\">\n",
      "<span class=\"source_inner\">크보연구소_네이버스포츠</span>\n",
      "</span>, <span class=\"thumb_dim\"></span>, <span class=\"thumb_bd\"></span>, <span class=\"theme_runtime\"><span class=\"runtime_bg\">재생시간</span><em class=\"time\">02:01</em></span>, <span class=\"date\">어제</span>, <span class=\"source\">\n",
      "<span class=\"source_inner\">KLPGA 네이버스포츠</span>\n",
      "</span>, <span class=\"thumb_dim\"></span>, <span class=\"thumb_bd\"></span>, <span class=\"theme_runtime\"><span class=\"runtime_bg\">재생시간</span><em class=\"time\">02:31</em></span>, <span class=\"date\">어제</span>, <span class=\"source\">\n",
      "<span class=\"source_inner\">KBO리그 키움 홈경기 영상</span>\n",
      "</span>, <span class=\"thumb_dim\"></span>, <span class=\"thumb_bd\"></span>, <span class=\"theme_runtime\"><span class=\"runtime_bg\">재생시간</span><em class=\"time\">09:24</em></span>, <span class=\"date\">어제</span>, <span class=\"source\">\n",
      "<span class=\"source_inner\">KBO리그 키움 홈경기 영상</span>\n",
      "</span>, <span class=\"thumb_dim\"></span>, <span class=\"thumb_bd\"></span>, <span class=\"theme_runtime\"><span class=\"runtime_bg\">재생시간</span><em class=\"time\">00:33</em></span>, <span class=\"date\">어제</span>, <span class=\"source\">\n",
      "<span class=\"source_inner\">크보연구소_네이버스포츠</span>\n",
      "</span>, <span class=\"thumb_dim\"></span>, <span class=\"thumb_bd\"></span>, <span class=\"theme_runtime\"><span class=\"runtime_bg\">재생시간</span><em class=\"time\">00:26</em></span>, <span class=\"date\">어제</span>, <span class=\"source\">\n",
      "<span class=\"source_inner\">크보연구소_네이버스포츠</span>\n",
      "</span>, <span class=\"thumb_dim\"></span>, <span class=\"thumb_bd\"></span>, <span class=\"theme_runtime\"><span class=\"runtime_bg\">재생시간</span><em class=\"time\">00:59</em></span>, <span class=\"date\">2일 전</span>, <span class=\"source\">\n",
      "<span class=\"source_inner\">크보연구소_네이버스포츠</span>\n",
      "</span>, <span class=\"thumb_dim\"></span>, <span class=\"thumb_bd\"></span>, <span class=\"theme_runtime\"><span class=\"runtime_bg\">재생시간</span><em class=\"time\">00:30</em></span>, <span class=\"date\">어제</span>, <span class=\"source\">\n",
      "<span class=\"source_inner\">크보연구소_네이버스포츠</span>\n",
      "</span>, <span class=\"thumb_dim\"></span>, <span class=\"thumb_bd\"></span>, <span class=\"theme_runtime\"><span class=\"runtime_bg\">재생시간</span><em class=\"time\">03:09</em></span>, <span class=\"date\">2일 전</span>, <span class=\"source\">\n",
      "<span class=\"source_inner\">박축공 Football Park</span>\n",
      "</span>, <span class=\"thumb_dim\"></span>, <span class=\"thumb_bd\"></span>, <span class=\"theme_runtime\"><span class=\"runtime_bg\">재생시간</span><em class=\"time\">02:05</em></span>, <span class=\"date\">어제</span>, <span class=\"source\">\n",
      "<span class=\"source_inner\">KBO리그 키움 홈경기 영상</span>\n",
      "</span>, <span class=\"thumb_dim\"></span>, <span class=\"thumb_bd\"></span>, <span class=\"theme_runtime\"><span class=\"runtime_bg\">재생시간</span><em class=\"time\">04:41</em></span>, <span class=\"date\">2일 전</span>, <span class=\"source\">\n",
      "<span class=\"source_inner\">수원삼성블루윙즈</span>\n",
      "</span>, <span class=\"thumb_dim\"></span>, <span class=\"thumb_bd\"></span>, <span class=\"theme_runtime\"><span class=\"runtime_bg\">재생시간</span><em class=\"time\">00:24</em></span>, <span class=\"date\">2일 전</span>, <span class=\"source\">\n",
      "<span class=\"source_inner\">크보연구소_네이버스포츠</span>\n",
      "</span>, <span class=\"thumb_dim\"></span>, <span class=\"thumb_bd\"></span>, <span class=\"theme_runtime\"><span class=\"runtime_bg\">재생시간</span><em class=\"time\">00:30</em></span>, <span class=\"date\">2일 전</span>, <span class=\"source\">\n",
      "<span class=\"source_inner\">SPOTIME (스포타임)</span>\n",
      "</span>, <span class=\"thumb_dim\"></span>, <span class=\"thumb_bd\"></span>, <span class=\"theme_runtime\"><span class=\"runtime_bg\">재생시간</span><em class=\"time\">02:28</em></span>, <span class=\"date\">어제</span>, <span class=\"source\">\n",
      "<span class=\"source_inner\">KBO리그 키움 홈경기 영상</span>\n",
      "</span>, <span class=\"thumb_dim\"></span>, <span class=\"thumb_bd\"></span>, <span class=\"theme_runtime\"><span class=\"runtime_bg\">재생시간</span><em class=\"time\">00:22</em></span>, <span class=\"date\">3일 전</span>, <span class=\"source\">\n",
      "<span class=\"source_inner\">크보연구소_네이버스포츠</span>\n",
      "</span>, <span class=\"thumb_dim\"></span>, <span class=\"thumb_bd\"></span>, <span class=\"theme_runtime\"><span class=\"runtime_bg\">재생시간</span><em class=\"time\">01:34</em></span>, <span class=\"date\">2일 전</span>, <span class=\"source\">\n",
      "<span class=\"source_inner\">스태츠퍼폼</span>\n",
      "</span>, <span class=\"thumb_dim\"></span>, <span class=\"thumb_bd\"></span>, <span class=\"theme_runtime\"><span class=\"runtime_bg\">재생시간</span><em class=\"time\">01:28</em></span>, <span class=\"date\">어제</span>, <span class=\"source\">\n",
      "<span class=\"source_inner\">KBO리그 키움 홈경기 영상</span>\n",
      "</span>, <span class=\"thumb_dim\"></span>, <span class=\"thumb_bd\"></span>, <span class=\"theme_runtime\"><span class=\"runtime_bg\">재생시간</span><em class=\"time\">02:47</em></span>, <span class=\"date\">어제</span>, <span class=\"source\">\n",
      "<span class=\"source_inner\">KBO리그 키움 홈경기 영상</span>\n",
      "</span>, <span class=\"rate rate_up\"><span class=\"blind\">상승</span>21.13 +0.84%</span>, <span class=\"rate rate_up\"><span class=\"blind\">상승</span>1.25 +0.15%</span>, <span class=\"rate rate_down\"><span class=\"blind\">하락</span>4.10 -0.31%</span>, <span class=\"blind\"> <script id=\"veta_service_check\"></script> </span>, <span class=\"veta_bd_t\"></span>, <span class=\"veta_bd_b\"></span>, <span class=\"veta_bd_l\"></span>, <span class=\"veta_bd_r\"></span>]\n"
     ]
    }
   ],
   "source": [
    "url = 'https://www.naver.com/'\n",
    "\n",
    "resp = requests.get(url)\n",
    "\n",
    "# print(resp.text)\n",
    "soup = BeautifulSoup(resp.text,'html.parser')\n",
    "# print(soup)\n",
    "\n",
    "tag = soup.select('div>span')\n",
    "print(tag)"
   ]
  },
  {
   "cell_type": "code",
   "execution_count": 58,
   "metadata": {},
   "outputs": [
    {
     "data": {
      "text/plain": [
       "\"\\n<html>\\n    <head>\\n    </head>\\n    <body>\\n        <h1> 우리동네시장</h1>\\n            <div class = 'sale'>\\n                <p id='fruits1' class='fruits'>\\n                    <span class = 'name'> 바나나 </span>\\n                    <span class = 'price'> 3000원 </span>\\n                    <span class = 'inventory'> 500개 </span>\\n                    <span class = 'store'> 가나다상회 </span>\\n                    <a href = 'http://bit.ly/forPlaywithData' > 홈페이지 </a>\\n                </p>\\n            </div>\\n            <div class = 'prepare'>\\n                <p id='fruits2' class='fruits'>\\n                    <span class ='name'> 파인애플 </span>\\n                </p>\\n            </div>\\n    </body>\\n</html>\\n\""
      ]
     },
     "execution_count": 58,
     "metadata": {},
     "output_type": "execute_result"
    }
   ],
   "source": [
    "html = '''\n",
    "<html>\n",
    "    <head>\n",
    "    </head>\n",
    "    <body>\n",
    "        <h1> 우리동네시장</h1>\n",
    "            <div class = 'sale'>\n",
    "                <p id='fruits1' class='fruits'>\n",
    "                    <span class = 'name'> 바나나 </span>\n",
    "                    <span class = 'price'> 3000원 </span>\n",
    "                    <span class = 'inventory'> 500개 </span>\n",
    "                    <span class = 'store'> 가나다상회 </span>\n",
    "                    <a href = 'http://bit.ly/forPlaywithData' > 홈페이지 </a>\n",
    "                </p>\n",
    "            </div>\n",
    "            <div class = 'prepare'>\n",
    "                <p id='fruits2' class='fruits'>\n",
    "                    <span class ='name'> 파인애플 </span>\n",
    "                </p>\n",
    "            </div>\n",
    "    </body>\n",
    "</html>\n",
    "'''\n",
    "\n",
    "html"
   ]
  },
  {
   "cell_type": "code",
   "execution_count": 61,
   "metadata": {},
   "outputs": [
    {
     "name": "stdout",
     "output_type": "stream",
     "text": [
      "\n",
      "<html>\n",
      "<head>\n",
      "</head>\n",
      "<body>\n",
      "<h1> 우리동네시장</h1>\n",
      "<div class=\"sale\">\n",
      "<p class=\"fruits\" id=\"fruits1\">\n",
      "<span class=\"name\"> 바나나 </span>\n",
      "<span class=\"price\"> 3000원 </span>\n",
      "<span class=\"inventory\"> 500개 </span>\n",
      "<span class=\"store\"> 가나다상회 </span>\n",
      "<a href=\"http://bit.ly/forPlaywithData\"> 홈페이지 </a>\n",
      "</p>\n",
      "</div>\n",
      "<div class=\"prepare\">\n",
      "<p class=\"fruits\" id=\"fruits2\">\n",
      "<span class=\"name\"> 파인애플 </span>\n",
      "</p>\n",
      "</div>\n",
      "</body>\n",
      "</html>\n",
      "\n"
     ]
    }
   ],
   "source": [
    "soup= BeautifulSoup(html,'html.parser')\n",
    "\n",
    "print(soup)"
   ]
  },
  {
   "cell_type": "code",
   "execution_count": 84,
   "metadata": {},
   "outputs": [
    {
     "data": {
      "text/plain": [
       "' 바나나 '"
      ]
     },
     "execution_count": 84,
     "metadata": {},
     "output_type": "execute_result"
    }
   ],
   "source": [
    "# soup.select('span')\n",
    "soup.select('span.name')[0].text"
   ]
  },
  {
   "cell_type": "code",
   "execution_count": 85,
   "metadata": {},
   "outputs": [
    {
     "name": "stdout",
     "output_type": "stream",
     "text": [
      "    name algol basic c++\n",
      "0  Jerry     A     C  B+\n",
      "1   Riah    A+     B   C\n",
      "2   Paul     B    B+  C+\n",
      "      algol basic c++\n",
      "name                 \n",
      "Jerry     A     C  B+\n",
      "Riah     A+     B   C\n",
      "Paul      B    B+  C+\n"
     ]
    }
   ],
   "source": [
    "\n",
    "data = {'name' : [ 'Jerry', 'Riah', 'Paul'],\n",
    "        'algol' : [ \"A\", \"A+\", \"B\"],\n",
    "        'basic' : [ \"C\", \"B\", \"B+\"],\n",
    "        'c++' : [ \"B+\", \"C\", \"C+\"],\n",
    "        }\n",
    "\n",
    "mydf = pd.DataFrame(data)\n",
    "\n",
    "print(mydf)\n",
    "\n",
    "mydf.set_index('name',inplace=True)\n",
    "print(mydf)\n",
    "\n",
    "mydf.to_csv('./df_csv.csv',index=True)\n",
    "mydf.to_excel('./df_xlsx.xlsx',index=True)\n",
    "mydf.to_json('./df_json.jsonx',index=True)\n"
   ]
  },
  {
   "cell_type": "code",
   "execution_count": 102,
   "metadata": {},
   "outputs": [
    {
     "name": "stdout",
     "output_type": "stream",
     "text": [
      "mpg             398\n",
      "cylinders       398\n",
      "displacement    398\n",
      "horsepower      398\n",
      "weight          398\n",
      "acceleration    398\n",
      "model year      398\n",
      "origin          398\n",
      "name            398\n",
      "dtype: int64\n"
     ]
    }
   ],
   "source": [
    "df = pd.read_csv('../part3/auto-mpg.csv',header=None)\n",
    "df.columns = ['mpg','cylinders','displacement','horsepower','weight',\n",
    "              'acceleration','model year','origin','name']\n",
    "\n",
    "# print(df.head(5))\n",
    "# print(df.tail)\n",
    "# print(df.info())\n",
    "# print(df.dtypes)\n",
    "# print(df['mpg'].dtypes)\n",
    "# print(df.columns)\n",
    "print(df.count())"
   ]
  },
  {
   "cell_type": "code",
   "execution_count": 107,
   "metadata": {},
   "outputs": [
    {
     "name": "stdout",
     "output_type": "stream",
     "text": [
      "origin\n",
      "1    249\n",
      "3     79\n",
      "2     70\n",
      "Name: count, dtype: int64\n"
     ]
    }
   ],
   "source": [
    "# df['cylinders'].value_counts()\n",
    "print(df['origin'].value_counts())\n"
   ]
  },
  {
   "cell_type": "code",
   "execution_count": 137,
   "metadata": {},
   "outputs": [
    {
     "name": "stdout",
     "output_type": "stream",
     "text": [
      "\n",
      "std = \n",
      "mpg             7.815984\n",
      "acceleration    2.757689\n",
      "dtype: float64\n",
      "\n",
      "quantile 25%= \n",
      "mpg             17.500\n",
      "acceleration    13.825\n",
      "Name: 0.25, dtype: float64\n",
      "\n",
      "quantile 75%= \n",
      "mpg             29.000\n",
      "acceleration    17.175\n",
      "Name: 0.75, dtype: float64\n",
      "\n",
      "standard error= \n",
      "mpg             0.39178\n",
      "acceleration    0.13823\n",
      "dtype: float64\n"
     ]
    }
   ],
   "source": [
    "# mean median max min\n",
    "# var std se qantitle\n",
    "# print(df.head)\n",
    "\n",
    "# print(df['mpg'].mean)\n",
    "\n",
    "# print('mean =\\n')\n",
    "# print(df[['mpg','weight']].mean())\n",
    "\n",
    "# print('median =\\n')\n",
    "# print(df[['mpg','weight']].median())\n",
    "\n",
    "# print('MAX =\\n')\n",
    "# print(df[['mpg','weight']].max())\n",
    "\n",
    "# print('var = \\n')\n",
    "# print(df[['mpg','acceleration']].var())\n",
    "\n",
    "print('\\nstd = ')\n",
    "print(df[['mpg','acceleration']].std())\n",
    "\n",
    "print('\\nquantile 25%= ' )\n",
    "print(df[['mpg','acceleration']].quantile(0.25))\n",
    "\n",
    "print('\\nquantile 75%= ' )\n",
    "print(df[['mpg','acceleration']].quantile(0.75))\n",
    "\n",
    "\n",
    "print('\\nstandard error= ' )\n",
    "print(df[['mpg','acceleration']].sem())\n",
    "\n"
   ]
  },
  {
   "cell_type": "code",
   "execution_count": 142,
   "metadata": {},
   "outputs": [
    {
     "name": "stdout",
     "output_type": "stream",
     "text": [
      "\n",
      "correlation cofficient = \n",
      "             mpg    weight\n",
      "mpg     1.000000 -0.831741\n",
      "weight -0.831741  1.000000\n",
      "mean =  <bound method NDFrame._add_numeric_operations.<locals>.mean of       mpg  cylinders  displacement horsepower  weight  acceleration   \n",
      "0    18.0          8         307.0      130.0  3504.0          12.0  \\\n",
      "1    15.0          8         350.0      165.0  3693.0          11.5   \n",
      "2    18.0          8         318.0      150.0  3436.0          11.0   \n",
      "3    16.0          8         304.0      150.0  3433.0          12.0   \n",
      "4    17.0          8         302.0      140.0  3449.0          10.5   \n",
      "..    ...        ...           ...        ...     ...           ...   \n",
      "393  27.0          4         140.0      86.00  2790.0          15.6   \n",
      "394  44.0          4          97.0      52.00  2130.0          24.6   \n",
      "395  32.0          4         135.0      84.00  2295.0          11.6   \n",
      "396  28.0          4         120.0      79.00  2625.0          18.6   \n",
      "397  31.0          4         119.0      82.00  2720.0          19.4   \n",
      "\n",
      "     model year  origin                       name  \n",
      "0            70       1  chevrolet chevelle malibu  \n",
      "1            70       1          buick skylark 320  \n",
      "2            70       1         plymouth satellite  \n",
      "3            70       1              amc rebel sst  \n",
      "4            70       1                ford torino  \n",
      "..          ...     ...                        ...  \n",
      "393          82       1            ford mustang gl  \n",
      "394          82       2                  vw pickup  \n",
      "395          82       1              dodge rampage  \n",
      "396          82       1                ford ranger  \n",
      "397          82       1                 chevy s-10  \n",
      "\n",
      "[398 rows x 9 columns]>\n"
     ]
    },
    {
     "data": {
      "image/png": "[encoded data removed]",
      "text/plain": [
       "<Figure size 640x480 with 1 Axes>"
      ]
     },
     "metadata": {},
     "output_type": "display_data"
    }
   ],
   "source": [
    "print('\\ncorrelation cofficient = ')\n",
    "print(df[['mpg','weight']].corr())\n",
    "\n",
    "plt.scatter(df['weight'],df['mpg'],s=20)\n",
    "plt.xlabel('weight')\n",
    "plt.ylabel('mpg')\n",
    "print('mean = ',df.mean)\n",
    "plt.show()"
   ]
  },
  {
   "cell_type": "code",
   "execution_count": 128,
   "metadata": {},
   "outputs": [
    {
     "data": {
      "text/html": [
       "<div>\n",
       "<style scoped>\n",
       "    .dataframe tbody tr th:only-of-type {\n",
       "        vertical-align: middle;\n",
       "    }\n",
       "\n",
       "    .dataframe tbody tr th {\n",
       "        vertical-align: top;\n",
       "    }\n",
       "\n",
       "    .dataframe thead th {\n",
       "        text-align: right;\n",
       "    }\n",
       "</style>\n",
       "<table border=\"1\" class=\"dataframe\">\n",
       "  <thead>\n",
       "    <tr style=\"text-align: right;\">\n",
       "      <th></th>\n",
       "      <th>mpg</th>\n",
       "      <th>cylinders</th>\n",
       "      <th>displacement</th>\n",
       "      <th>weight</th>\n",
       "      <th>acceleration</th>\n",
       "      <th>model year</th>\n",
       "      <th>origin</th>\n",
       "    </tr>\n",
       "  </thead>\n",
       "  <tbody>\n",
       "    <tr>\n",
       "      <th>count</th>\n",
       "      <td>398.000000</td>\n",
       "      <td>398.000000</td>\n",
       "      <td>398.000000</td>\n",
       "      <td>398.000000</td>\n",
       "      <td>398.000000</td>\n",
       "      <td>398.000000</td>\n",
       "      <td>398.000000</td>\n",
       "    </tr>\n",
       "    <tr>\n",
       "      <th>mean</th>\n",
       "      <td>23.514573</td>\n",
       "      <td>5.454774</td>\n",
       "      <td>193.425879</td>\n",
       "      <td>2970.424623</td>\n",
       "      <td>15.568090</td>\n",
       "      <td>76.010050</td>\n",
       "      <td>1.572864</td>\n",
       "    </tr>\n",
       "    <tr>\n",
       "      <th>std</th>\n",
       "      <td>7.815984</td>\n",
       "      <td>1.701004</td>\n",
       "      <td>104.269838</td>\n",
       "      <td>846.841774</td>\n",
       "      <td>2.757689</td>\n",
       "      <td>3.697627</td>\n",
       "      <td>0.802055</td>\n",
       "    </tr>\n",
       "    <tr>\n",
       "      <th>min</th>\n",
       "      <td>9.000000</td>\n",
       "      <td>3.000000</td>\n",
       "      <td>68.000000</td>\n",
       "      <td>1613.000000</td>\n",
       "      <td>8.000000</td>\n",
       "      <td>70.000000</td>\n",
       "      <td>1.000000</td>\n",
       "    </tr>\n",
       "    <tr>\n",
       "      <th>25%</th>\n",
       "      <td>17.500000</td>\n",
       "      <td>4.000000</td>\n",
       "      <td>104.250000</td>\n",
       "      <td>2223.750000</td>\n",
       "      <td>13.825000</td>\n",
       "      <td>73.000000</td>\n",
       "      <td>1.000000</td>\n",
       "    </tr>\n",
       "    <tr>\n",
       "      <th>50%</th>\n",
       "      <td>23.000000</td>\n",
       "      <td>4.000000</td>\n",
       "      <td>148.500000</td>\n",
       "      <td>2803.500000</td>\n",
       "      <td>15.500000</td>\n",
       "      <td>76.000000</td>\n",
       "      <td>1.000000</td>\n",
       "    </tr>\n",
       "    <tr>\n",
       "      <th>75%</th>\n",
       "      <td>29.000000</td>\n",
       "      <td>8.000000</td>\n",
       "      <td>262.000000</td>\n",
       "      <td>3608.000000</td>\n",
       "      <td>17.175000</td>\n",
       "      <td>79.000000</td>\n",
       "      <td>2.000000</td>\n",
       "    </tr>\n",
       "    <tr>\n",
       "      <th>max</th>\n",
       "      <td>46.600000</td>\n",
       "      <td>8.000000</td>\n",
       "      <td>455.000000</td>\n",
       "      <td>5140.000000</td>\n",
       "      <td>24.800000</td>\n",
       "      <td>82.000000</td>\n",
       "      <td>3.000000</td>\n",
       "    </tr>\n",
       "  </tbody>\n",
       "</table>\n",
       "</div>"
      ],
      "text/plain": [
       "              mpg   cylinders  displacement       weight  acceleration   \n",
       "count  398.000000  398.000000    398.000000   398.000000    398.000000  \\\n",
       "mean    23.514573    5.454774    193.425879  2970.424623     15.568090   \n",
       "std      7.815984    1.701004    104.269838   846.841774      2.757689   \n",
       "min      9.000000    3.000000     68.000000  1613.000000      8.000000   \n",
       "25%     17.500000    4.000000    104.250000  2223.750000     13.825000   \n",
       "50%     23.000000    4.000000    148.500000  2803.500000     15.500000   \n",
       "75%     29.000000    8.000000    262.000000  3608.000000     17.175000   \n",
       "max     46.600000    8.000000    455.000000  5140.000000     24.800000   \n",
       "\n",
       "       model year      origin  \n",
       "count  398.000000  398.000000  \n",
       "mean    76.010050    1.572864  \n",
       "std      3.697627    0.802055  \n",
       "min     70.000000    1.000000  \n",
       "25%     73.000000    1.000000  \n",
       "50%     76.000000    1.000000  \n",
       "75%     79.000000    2.000000  \n",
       "max     82.000000    3.000000  "
      ]
     },
     "execution_count": 128,
     "metadata": {},
     "output_type": "execute_result"
    }
   ],
   "source": [
    "df.describe()"
   ]
  },
  {
   "cell_type": "code",
   "execution_count": 155,
   "metadata": {},
   "outputs": [
    {
     "name": "stdout",
     "output_type": "stream",
     "text": [
      "       1990  1991  1992  1993  1994  1995  1996  1997  1998  1999  ...  2007   \n",
      "South  1077  1186  1310  1444  1650  1847  2055  2244  2153  2393  ...  4031  \\\n",
      "North   277   263   247   221   231   230   213   193   170   186  ...   236   \n",
      "\n",
      "       2008  2009  2010  2011  2012  2013  2014  2015  2016  \n",
      "South  4224  4336  4747  4969  5096  5171  5220  5281  5404  \n",
      "North   255   235   237   211   215   221   216   190   239  \n",
      "\n",
      "[2 rows x 27 columns]\n"
     ]
    }
   ],
   "source": [
    "df = pd.read_excel('./남북한발전전력량.xlsx')\n",
    "\n",
    "# print(df.head(6))\n",
    "\n",
    "df_ns = df.iloc[[0,5],2:]\n",
    "# print(df_ns)\n",
    "\n",
    "\n",
    "df_ns.index=['South','North']\n",
    "# de_ns.rename(index = {0:'South',1:'North'},inplace = True)\n",
    "# print(df_ns.index)\n",
    "\n",
    "print(df_ns)\n"
   ]
  },
  {
   "cell_type": "code",
   "execution_count": 169,
   "metadata": {},
   "outputs": [
    {
     "data": {
      "text/plain": [
       "Index([1990, 1991, 1992, 1993, 1994, 1995, 1996, 1997, 1998, 1999, 2000, 2001,\n",
       "       2002, 2003, 2004, 2005, 2006, 2007, 2008, 2009, 2010, 2011, 2012, 2013,\n",
       "       2014, 2015, 2016],\n",
       "      dtype='int64')"
      ]
     },
     "execution_count": 169,
     "metadata": {},
     "output_type": "execute_result"
    }
   ],
   "source": [
    "df_ns.columns = df_ns.columns.map(int) #리스트 타입 변환시 map\n",
    "\n",
    "df_ns.columns"
   ]
  },
  {
   "cell_type": "code",
   "execution_count": 190,
   "metadata": {},
   "outputs": [
    {
     "name": "stdout",
     "output_type": "stream",
     "text": [
      "     South North\n",
      "1990  1077   277\n",
      "1991  1186   263\n",
      "1992  1310   247\n",
      "1993  1444   221\n",
      "1994  1650   231\n"
     ]
    },
    {
     "data": {
      "text/plain": [
       "<Axes: xlabel='South', ylabel='North'>"
      ]
     },
     "execution_count": 190,
     "metadata": {},
     "output_type": "execute_result"
    },
    {
     "data": {
      "image/png": "[encoded data removed]",
      "text/plain": [
       "<Figure size 640x480 with 1 Axes>"
      ]
     },
     "metadata": {},
     "output_type": "display_data"
    }
   ],
   "source": [
    "df_ns.head()\n",
    "\n",
    "# df_ns.plot()\n",
    "\n",
    "df_nsTran = df_ns.T\n",
    "\n",
    "print(df_nsTran.head())\n",
    "\n",
    "# df_nsTran.plot(kind = 'line')\n",
    "# df_nsTran.plot(kind = 'pie')\n",
    "df_nsTran.plot(kind = 'scatter',x='South',y='North')\n"
   ]
  },
  {
   "cell_type": "code",
   "execution_count": 200,
   "metadata": {},
   "outputs": [
    {
     "name": "stdout",
     "output_type": "stream",
     "text": [
      "     South North\n",
      "1990  1077   277\n",
      "1991  1186   263\n",
      "1992  1310   247\n",
      "1993  1444   221\n",
      "1994  1650   231\n",
      "1995  1847   230\n",
      "1996  2055   213\n",
      "1997  2244   193\n",
      "1998  2153   170\n",
      "1999  2393   186\n",
      "2000  2664   194\n",
      "2001  2852   202\n",
      "2002  3065   190\n",
      "2003  3225   196\n",
      "2004  3421   206\n",
      "2005  3646   215\n",
      "2006  3812   225\n",
      "2007  4031   236\n",
      "2008  4224   255\n",
      "2009  4336   235\n",
      "2010  4747   237\n",
      "2011  4969   211\n",
      "2012  5096   215\n",
      "2013  5171   221\n",
      "2014  5220   216\n",
      "2015  5281   190\n",
      "2016  5404   239\n"
     ]
    },
    {
     "data": {
      "text/plain": [
       "<Axes: >"
      ]
     },
     "execution_count": 200,
     "metadata": {},
     "output_type": "execute_result"
    },
    {
     "data": {
      "image/png": "[encoded data removed]",
      "text/plain": [
       "<Figure size 640x480 with 1 Axes>"
      ]
     },
     "metadata": {},
     "output_type": "display_data"
    }
   ],
   "source": [
    "print(df_nsTran)\n",
    "\n",
    "df_nsTran.plot(kind='bar',y=['South','North'],legend=None)\n",
    "\n"
   ]
  },
  {
   "cell_type": "code",
   "execution_count": 204,
   "metadata": {},
   "outputs": [
    {
     "name": "stdout",
     "output_type": "stream",
     "text": [
      "     South North\n",
      "1990  1077   277\n",
      "1991  1186   263\n",
      "1992  1310   247\n",
      "1993  1444   221\n",
      "1994  1650   231\n",
      "1995  1847   230\n",
      "1996  2055   213\n",
      "1997  2244   193\n",
      "1998  2153   170\n",
      "1999  2393   186\n",
      "2000  2664   194\n",
      "2001  2852   202\n",
      "2002  3065   190\n",
      "2003  3225   196\n",
      "2004  3421   206\n",
      "2005  3646   215\n",
      "2006  3812   225\n",
      "2007  4031   236\n",
      "2008  4224   255\n",
      "2009  4336   235\n",
      "2010  4747   237\n",
      "2011  4969   211\n",
      "2012  5096   215\n",
      "2013  5171   221\n",
      "2014  5220   216\n",
      "2015  5281   190\n",
      "2016  5404   239\n"
     ]
    },
    {
     "data": {
      "text/plain": [
       "<Axes: ylabel='Frequency'>"
      ]
     },
     "execution_count": 204,
     "metadata": {},
     "output_type": "execute_result"
    },
    {
     "data": {
      "image/png": "[encoded data removed]",
      "text/plain": [
       "<Figure size 640x480 with 1 Axes>"
      ]
     },
     "metadata": {},
     "output_type": "display_data"
    }
   ],
   "source": [
    "print(df_nsTran)\n",
    "\n",
    "df_nsTran['South'].plot(kind='hist')\n",
    "df_nsTran['North'].plot(kind='hist')\n"
   ]
  },
  {
   "cell_type": "code",
   "execution_count": 217,
   "metadata": {},
   "outputs": [
    {
     "data": {
      "text/plain": [
       "<Axes: xlabel='weight', ylabel='mpg'>"
      ]
     },
     "execution_count": 217,
     "metadata": {},
     "output_type": "execute_result"
    },
    {
     "data": {
      "image/png": "[encoded data removed]",
      "text/plain": [
       "<Figure size 640x480 with 1 Axes>"
      ]
     },
     "metadata": {},
     "output_type": "display_data"
    }
   ],
   "source": [
    "df= pd.read_csv('../PART3/auto-mpg.csv',header=None)\n",
    "\n",
    "df.columns = ['mpg','cylinders','displacement','horsepower','weight',\n",
    "              'acceleration','model year','origin','name']\n",
    "\n",
    "df.head()\n",
    "\n",
    "df.plot(kind= 'scatter',x='weight',y='mpg',color = 'red',s=60,alpha=0.5,marker='+')#원인 x 결과 y"
   ]
  },
  {
   "cell_type": "code",
   "execution_count": 225,
   "metadata": {},
   "outputs": [
    {
     "data": {
      "text/plain": [
       "Text(0, 0.5, 'Value')"
      ]
     },
     "execution_count": 225,
     "metadata": {},
     "output_type": "execute_result"
    },
    {
     "data": {
      "image/png": "[encoded data removed]",
      "text/plain": [
       "<Figure size 640x480 with 1 Axes>"
      ]
     },
     "metadata": {},
     "output_type": "display_data"
    },
    {
     "data": {
      "text/plain": [
       "<Figure size 600x400 with 0 Axes>"
      ]
     },
     "metadata": {},
     "output_type": "display_data"
    },
    {
     "data": {
      "image/png": "[encoded data removed]",
      "text/plain": [
       "<Figure size 640x480 with 1 Axes>"
      ]
     },
     "metadata": {},
     "output_type": "display_data"
    }
   ],
   "source": [
    "df[['mpg','cylinders']].plot(kind = 'box')\n",
    "plt.figure(figsize = (6,4))\n",
    "df.plot(kind = 'box',y=['mpg','cylinders'])\n",
    "plt.ylabel('Value')"
   ]
  }
 ],
 "metadata": {
  "kernelspec": {
   "display_name": "pandas_study",
   "language": "python",
   "name": "python3"
  },
  "language_info": {
   "codemirror_mode": {
    "name": "ipython",
    "version": 3
   },
   "file_extension": ".py",
   "mimetype": "text/x-python",
   "name": "python",
   "nbconvert_exporter": "python",
   "pygments_lexer": "ipython3",
   "version": "3.11.3"
  },
  "orig_nbformat": 4
 },
 "nbformat": 4,
 "nbformat_minor": 2
}
